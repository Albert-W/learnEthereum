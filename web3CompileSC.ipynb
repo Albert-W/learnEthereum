{
 "cells": [
  {
   "cell_type": "markdown",
   "metadata": {},
   "source": [
    "### 编译合约"
   ]
  },
  {
   "cell_type": "code",
   "execution_count": 1,
   "metadata": {},
   "outputs": [
    {
     "data": {
      "text/plain": [
       "'pragma solidity ^0.5.0;\\n\\ncontract Calc{\\n\\n  uint result;\\n\\n\\n ' +\n",
       "  ' function add(uint a, uint b) public returns(uint){\\n    ' +\n",
       "  'result = a + b;\\n    return result;\\n  }\\n\\n\\n  function ' +\n",
       "  'getCount() public view returns (uint){\\n    return result;\\n ' +\n",
       "  ' }\\n}'"
      ]
     },
     "execution_count": 1,
     "metadata": {},
     "output_type": "execute_result"
    }
   ],
   "source": [
    "//读取sol文件\n",
    "var fs = require('fs');\n",
    "var data = fs.readFileSync('add.sol','UTF-8'); //添加‘UTF-8’之后，得到字符串\n",
    "data"
   ]
  },
  {
   "cell_type": "code",
   "execution_count": 2,
   "metadata": {},
   "outputs": [],
   "source": [
    "var input = {\n",
    "    language: 'Solidity',\n",
    "    sources: {\n",
    "        'add.sol' : {\n",
    "            content: data\n",
    "        }\n",
    "    },\n",
    "    settings: {\n",
    "        outputSelection: {\n",
    "            '*': {\n",
    "                '*': [ '*' ]\n",
    "            }\n",
    "        }\n",
    "    }\n",
    "};"
   ]
  },
  {
   "cell_type": "code",
   "execution_count": 3,
   "metadata": {},
   "outputs": [],
   "source": [
    "//引入web3 \n",
    "var web3 = require('web3')\n",
    "// 使用eth之前，需要绑定\n",
    "var web3 = new web3('HTTP://127.0.0.1:7545')"
   ]
  },
  {
   "cell_type": "code",
   "execution_count": 4,
   "metadata": {},
   "outputs": [],
   "source": [
    "var list;\n",
    "web3.eth.getAccounts().then(function(add){\n",
    "    list = add\n",
    "})"
   ]
  },
  {
   "cell_type": "code",
   "execution_count": 5,
   "metadata": {},
   "outputs": [
    {
     "data": {
      "text/plain": [
       "'0x53a2DaAe7B69138fF57cBBc2F94866Bf72f8b9BF'"
      ]
     },
     "execution_count": 5,
     "metadata": {},
     "output_type": "execute_result"
    }
   ],
   "source": [
    "// 合约部署者的地址 \n",
    "var deployer = list[0];\n",
    "deployer"
   ]
  },
  {
   "cell_type": "code",
   "execution_count": 6,
   "metadata": {},
   "outputs": [],
   "source": [
    "// web3.eth.compile.solidity() 失效\n",
    "var solc = require('solc')"
   ]
  },
  {
   "cell_type": "code",
   "execution_count": 7,
   "metadata": {},
   "outputs": [
    {
     "data": {
      "text/plain": [
       "{\n",
       "  contracts: { 'add.sol': { Calc: [Object] } },\n",
       "  sources: { 'add.sol': { id: 0 } }\n",
       "}"
      ]
     },
     "execution_count": 7,
     "metadata": {},
     "output_type": "execute_result"
    }
   ],
   "source": [
    "var output = JSON.parse(solc.compile(JSON.stringify(input)));\n",
    "output"
   ]
  },
  {
   "cell_type": "code",
   "execution_count": 14,
   "metadata": {},
   "outputs": [
    {
     "name": "stdout",
     "output_type": "stream",
     "text": [
      "Calc: 608060405234801561001057600080fd5b5060f08061001f6000396000f3fe6080604052348015600f57600080fd5b506004361060325760003560e01c8063771602f7146037578063a87d942c146080575b600080fd5b606a60048036036040811015604b57600080fd5b810190808035906020019092919080359060200190929190505050609c565b6040518082815260200191505060405180910390f35b608660b2565b6040518082815260200191505060405180910390f35b6000818301600081905550600054905092915050565b6000805490509056fea265627a7a723158208db16baf38ecc1c01a9acbd39dd828a73f3541e02215320a3630527772f6957864736f6c634300050b0032\n"
     ]
    }
   ],
   "source": [
    "for (var contractName in output.contracts['add.sol']) {\n",
    "\tconsole.log(contractName + ': ' + output.contracts['add.sol'][contractName].evm.bytecode.object)\n",
    "}"
   ]
  },
  {
   "cell_type": "code",
   "execution_count": 15,
   "metadata": {},
   "outputs": [
    {
     "data": {
      "text/plain": [
       "'608060405234801561001057600080fd5b5060f08061001f6000396000f3fe6080604052348015600f57600080fd5b506004361060325760003560e01c8063771602f7146037578063a87d942c146080575b600080fd5b606a60048036036040811015604b57600080fd5b810190808035906020019092919080359060200190929190505050609c565b6040518082815260200191505060405180910390f35b608660b2565b6040518082815260200191505060405180910390f35b6000818301600081905550600054905092915050565b6000805490509056fea265627a7a723158208db16baf38ecc1c01a9acbd39dd828a73f3541e02215320a3630527772f6957864736f6c634300050b0032'"
      ]
     },
     "execution_count": 15,
     "metadata": {},
     "output_type": "execute_result"
    }
   ],
   "source": [
    "// 一定要使用'0x'+ object\n",
    "var bytecode = output.contracts['add.sol']['Calc'].evm.bytecode.object\n",
    "bytecode"
   ]
  },
  {
   "cell_type": "code",
   "execution_count": 28,
   "metadata": {},
   "outputs": [
    {
     "data": {
      "text/plain": [
       "'0x3630383036303430353233343830313536313030313035373630303038306664356235303630663038303631303031663630303033393630303066336665363038303630343035323334383031353630306635373630303038306664356235303630303433363130363033323537363030303335363065303163383036333737313630326637313436303337353738303633613837643934326331343630383035373562363030303830666435623630366136303034383033363033363034303831313031353630346235373630303038306664356238313031393038303830333539303630323030313930393239313930383033353930363032303031393039323931393035303530353036303963353635623630343035313830383238313532363032303031393135303530363034303531383039313033393066333562363038363630623235363562363034303531383038323831353236303230303139313530353036303430353138303931303339306633356236303030383138333031363030303831393035353530363030303534393035303932393135303530353635623630303038303534393035303930353666656132363536323761376137323331353832303864623136626166333865636331633031613961636264333964643832386137336633353431653032323135333230613336333035323737373266363935373836343733366636633633343330303035306230303332'"
      ]
     },
     "execution_count": 28,
     "metadata": {},
     "output_type": "execute_result"
    }
   ],
   "source": [
    "web3.utils.toHex(bytecode)"
   ]
  },
  {
   "cell_type": "code",
   "execution_count": 20,
   "metadata": {
    "scrolled": true
   },
   "outputs": [
    {
     "data": {
      "text/plain": [
       "[\n",
       "  {\n",
       "    constant: false,\n",
       "    inputs: [ [Object], [Object] ],\n",
       "    name: 'add',\n",
       "    outputs: [ [Object] ],\n",
       "    payable: false,\n",
       "    stateMutability: 'nonpayable',\n",
       "    type: 'function',\n",
       "    signature: '0x771602f7'\n",
       "  },\n",
       "  {\n",
       "    constant: true,\n",
       "    inputs: [],\n",
       "    name: 'getCount',\n",
       "    outputs: [ [Object] ],\n",
       "    payable: false,\n",
       "    stateMutability: 'view',\n",
       "    type: 'function',\n",
       "    signature: '0xa87d942c'\n",
       "  }\n",
       "]"
      ]
     },
     "execution_count": 20,
     "metadata": {},
     "output_type": "execute_result"
    }
   ],
   "source": [
    "var abi = output.contracts['add.sol']['Calc'].abi\n",
    "abi "
   ]
  },
  {
   "cell_type": "markdown",
   "metadata": {},
   "source": [
    "### 部署合约"
   ]
  },
  {
   "cell_type": "code",
   "execution_count": 29,
   "metadata": {},
   "outputs": [],
   "source": [
    "// 创建合约对象\n",
    "var calcContract = new web3.eth.Contract(abi,null,{\n",
    "    data:'0x' + bytecode,\n",
    "    gas:6000000\n",
    "})"
   ]
  },
  {
   "cell_type": "code",
   "execution_count": 30,
   "metadata": {},
   "outputs": [
    {
     "name": "stdout",
     "output_type": "stream",
     "text": [
      "transactionHash :0xcd648843cf37a3439aafabe3b759d43c0069e5bfbe4afc40829eb070692b1339\n",
      "receipt:\n",
      "{\n",
      "  transactionHash: '0xcd648843cf37a3439aafabe3b759d43c0069e5bfbe4afc40829eb070692b1339',\n",
      "  transactionIndex: 0,\n",
      "  blockHash: '0xd9b2386825d448910dfe81de60cfce3dbf0c14695826b6301656c75a701926f7',\n",
      "  blockNumber: 10,\n",
      "  from: '0x53a2daae7b69138ff57cbbc2f94866bf72f8b9bf',\n",
      "  to: null,\n",
      "  gasUsed: 118567,\n",
      "  cumulativeGasUsed: 118567,\n",
      "  contractAddress: '0x04cEEb858aDCf2724cd7BFaAcC7BFaC02b002482',\n",
      "  status: true,\n",
      "  logsBloom: '0x00000000000000000000000000000000000000000000000000000000000000000000000000000000000000000000000000000000000000000000000000000000000000000000000000000000000000000000000000000000000000000000000000000000000000000000000000000000000000000000000000000000000000000000000000000000000000000000000000000000000000000000000000000000000000000000000000000000000000000000000000000000000000000000000000000000000000000000000000000000000000000000000000000000000000000000000000000000000000000000000000000000000000000000000000000000',\n",
      "  v: '0x1b',\n",
      "  r: '0x0412f9db43cbbfbfde2e234a9d5d8d7a5d43cec28a31e655f012cd2f394d27dc',\n",
      "  s: '0x27763dbe877c76dc5fbc2e8c8c2970ed01a17d0523ca2170cb8544dc1edf5c94',\n",
      "  events: {}\n",
      "}\n",
      "Contract {\n",
      "  currentProvider: [Getter/Setter],\n",
      "  _requestManager: RequestManager {\n",
      "    provider: HttpProvider {\n",
      "      host: 'HTTP://127.0.0.1:7545',\n",
      "      httpAgent: [Agent],\n",
      "      timeout: 0,\n",
      "      headers: undefined,\n",
      "      connected: true\n",
      "    },\n",
      "    providers: {\n",
      "      WebsocketProvider: [Function: WebsocketProvider],\n",
      "      HttpProvider: [Function: HttpProvider],\n",
      "      IpcProvider: [Function: IpcProvider]\n",
      "    },\n",
      "    subscriptions: {}\n",
      "  },\n",
      "  givenProvider: null,\n",
      "  providers: {\n",
      "    WebsocketProvider: [Function: WebsocketProvider],\n",
      "    HttpProvider: [Function: HttpProvider],\n",
      "    IpcProvider: [Function: IpcProvider]\n",
      "  },\n",
      "  _provider: HttpProvider {\n",
      "    host: 'HTTP://127.0.0.1:7545',\n",
      "    httpAgent: Agent {\n",
      "      _events: [Object],\n",
      "      _eventsCount: 1,\n",
      "      _maxListeners: undefined,\n",
      "      defaultPort: 80,\n",
      "      protocol: 'http:',\n",
      "      options: [Object],\n",
      "      requests: {},\n",
      "      sockets: {},\n",
      "      freeSockets: [Object],\n",
      "      keepAliveMsecs: 1000,\n",
      "      keepAlive: true,\n",
      "      maxSockets: Infinity,\n",
      "      maxFreeSockets: 256\n",
      "    },\n",
      "    timeout: 0,\n",
      "    headers: undefined,\n",
      "    connected: true\n",
      "  },\n",
      "  setProvider: [Function],\n",
      "  BatchRequest: [Function: bound Batch],\n",
      "  extend: [Function: ex] {\n",
      "    formatters: {\n",
      "      inputDefaultBlockNumberFormatter: [Function: inputDefaultBlockNumberFormatter],\n",
      "      inputBlockNumberFormatter: [Function: inputBlockNumberFormatter],\n",
      "      inputCallFormatter: [Function: inputCallFormatter],\n",
      "      inputTransactionFormatter: [Function: inputTransactionFormatter],\n",
      "      inputAddressFormatter: [Function: inputAddressFormatter],\n",
      "      inputPostFormatter: [Function: inputPostFormatter],\n",
      "      inputLogFormatter: [Function: inputLogFormatter],\n",
      "      inputSignFormatter: [Function: inputSignFormatter],\n",
      "      outputBigNumberFormatter: [Function: outputBigNumberFormatter],\n",
      "      outputTransactionFormatter: [Function: outputTransactionFormatter],\n",
      "      outputTransactionReceiptFormatter: [Function: outputTransactionReceiptFormatter],\n",
      "      outputBlockFormatter: [Function: outputBlockFormatter],\n",
      "      outputLogFormatter: [Function: outputLogFormatter],\n",
      "      outputPostFormatter: [Function: outputPostFormatter],\n",
      "      outputSyncingFormatter: [Function: outputSyncingFormatter]\n",
      "    },\n",
      "    utils: {\n",
      "      _fireError: [Function: _fireError],\n",
      "      _jsonInterfaceMethodToString: [Function: _jsonInterfaceMethodToString],\n",
      "      _flattenTypes: [Function: _flattenTypes],\n",
      "      randomHex: [Function: randomHex],\n",
      "      _: [Function],\n",
      "      BN: [Function],\n",
      "      isBN: [Function: isBN],\n",
      "      isBigNumber: [Function: isBigNumber],\n",
      "      isHex: [Function: isHex],\n",
      "      isHexStrict: [Function: isHexStrict],\n",
      "      sha3: [Function],\n",
      "      keccak256: [Function],\n",
      "      soliditySha3: [Function: soliditySha3],\n",
      "      isAddress: [Function: isAddress],\n",
      "      checkAddressChecksum: [Function: checkAddressChecksum],\n",
      "      toChecksumAddress: [Function: toChecksumAddress],\n",
      "      toHex: [Function: toHex],\n",
      "      toBN: [Function: toBN],\n",
      "      bytesToHex: [Function: bytesToHex],\n",
      "      hexToBytes: [Function: hexToBytes],\n",
      "      hexToNumberString: [Function: hexToNumberString],\n",
      "      hexToNumber: [Function: hexToNumber],\n",
      "      toDecimal: [Function: hexToNumber],\n",
      "      numberToHex: [Function: numberToHex],\n",
      "      fromDecimal: [Function: numberToHex],\n",
      "      hexToUtf8: [Function: hexToUtf8],\n",
      "      hexToString: [Function: hexToUtf8],\n",
      "      toUtf8: [Function: hexToUtf8],\n",
      "      utf8ToHex: [Function: utf8ToHex],\n",
      "      stringToHex: [Function: utf8ToHex],\n",
      "      fromUtf8: [Function: utf8ToHex],\n",
      "      hexToAscii: [Function: hexToAscii],\n",
      "      toAscii: [Function: hexToAscii],\n",
      "      asciiToHex: [Function: asciiToHex],\n",
      "      fromAscii: [Function: asciiToHex],\n",
      "      unitMap: [Object],\n",
      "      toWei: [Function: toWei],\n",
      "      fromWei: [Function: fromWei],\n",
      "      padLeft: [Function: leftPad],\n",
      "      leftPad: [Function: leftPad],\n",
      "      padRight: [Function: rightPad],\n",
      "      rightPad: [Function: rightPad],\n",
      "      toTwosComplement: [Function: toTwosComplement]\n",
      "    },\n",
      "    Method: [Function: Method]\n",
      "  },\n",
      "  clearSubscriptions: [Function],\n",
      "  options: {\n",
      "    data: '0x608060405234801561001057600080fd5b5060f08061001f6000396000f3fe6080604052348015600f57600080fd5b506004361060325760003560e01c8063771602f7146037578063a87d942c146080575b600080fd5b606a60048036036040811015604b57600080fd5b810190808035906020019092919080359060200190929190505050609c565b6040518082815260200191505060405180910390f35b608660b2565b6040518082815260200191505060405180910390f35b6000818301600081905550600054905092915050565b6000805490509056fea265627a7a723158208db16baf38ecc1c01a9acbd39dd828a73f3541e02215320a3630527772f6957864736f6c634300050b0032',\n",
      "    gas: 6000000,\n",
      "    from: undefined,\n",
      "    gasPrice: undefined,\n",
      "    address: [Getter/Setter],\n",
      "    jsonInterface: [Getter/Setter]\n",
      "  },\n",
      "  defaultAccount: [Getter/Setter],\n",
      "  defaultBlock: [Getter/Setter],\n",
      "  methods: {\n",
      "    add: [Function: bound _createTxObject],\n",
      "    '0x771602f7': [Function: bound _createTxObject],\n",
      "    'add(uint256,uint256)': [Function: bound _createTxObject],\n",
      "    getCount: [Function: bound _createTxObject],\n",
      "    '0xa87d942c': [Function: bound _createTxObject],\n",
      "    'getCount()': [Function: bound _createTxObject]\n",
      "  },\n",
      "  events: { allEvents: [Function: bound ] },\n",
      "  _address: '0x04cEEb858aDCf2724cd7BFaAcC7BFaC02b002482',\n",
      "  _jsonInterface: [\n",
      "    {\n",
      "      constant: false,\n",
      "      inputs: [Array],\n",
      "      name: 'add',\n",
      "      outputs: [Array],\n",
      "      payable: false,\n",
      "      stateMutability: 'nonpayable',\n",
      "      type: 'function',\n",
      "      signature: '0x771602f7'\n",
      "    },\n",
      "    {\n",
      "      constant: true,\n",
      "      inputs: [],\n",
      "      name: 'getCount',\n",
      "      outputs: [Array],\n",
      "      payable: false,\n",
      "      stateMutability: 'view',\n",
      "      type: 'function',\n",
      "      signature: '0xa87d942c'\n",
      "    }\n",
      "  ]\n",
      "}\n",
      "0x04cEEb858aDCf2724cd7BFaAcC7BFaC02b002482\n",
      "confirmationNumber:1\n",
      "confirmationNumber:2\n",
      "confirmationNumber:3\n",
      "confirmationNumber:4\n",
      "confirmationNumber:5\n",
      "confirmationNumber:6\n",
      "confirmationNumber:7\n",
      "confirmationNumber:8\n",
      "confirmationNumber:9\n",
      "confirmationNumber:10\n",
      "confirmationNumber:11\n",
      "confirmationNumber:12\n",
      "confirmationNumber:13\n",
      "confirmationNumber:14\n",
      "confirmationNumber:15\n",
      "confirmationNumber:16\n",
      "confirmationNumber:17\n",
      "confirmationNumber:18\n",
      "confirmationNumber:19\n",
      "confirmationNumber:20\n",
      "confirmationNumber:21\n",
      "confirmationNumber:22\n",
      "confirmationNumber:23\n",
      "confirmationNumber:24\n"
     ]
    }
   ],
   "source": [
    "// 部署合约\n",
    "calcContract.deploy().send({\n",
    "    from: deployer\n",
    "})\n",
    ".on('error', (error) => { \n",
    "    console.error(error)\n",
    " })\n",
    ".on('transactionHash', (transactionHash) => { \n",
    "    console.log(\"transactionHash :\" + transactionHash)\n",
    " })\n",
    ".on('receipt', (receipt) => {\n",
    "   console.log(\"receipt:\") \n",
    "   console.log(receipt) \n",
    "})\n",
    ".on('confirmation', (confirmationNumber, receipt) => { \n",
    "   console.log(\"confirmationNumber:\"+confirmationNumber)\n",
    " }).then((newContractInstance) => {\n",
    "    console.log(newContractInstance)\n",
    "    console.log(newContractInstance.options.address) // instance with the new contract address\n",
    "});"
   ]
  },
  {
   "cell_type": "markdown",
   "metadata": {},
   "source": [
    "### 调用合约"
   ]
  },
  {
   "cell_type": "code",
   "execution_count": 35,
   "metadata": {},
   "outputs": [
    {
     "data": {
      "text/plain": [
       "Contract {\n",
       "  currentProvider: [Getter/Setter],\n",
       "  _requestManager: RequestManager {\n",
       "    provider: HttpProvider {\n",
       "      host: 'HTTP://127.0.0.1:7545',\n",
       "      httpAgent: [Agent],\n",
       "      timeout: 0,\n",
       "      headers: undefined,\n",
       "      connected: true\n",
       "    },\n",
       "    providers: {\n",
       "      WebsocketProvider: [Function: WebsocketProvider],\n",
       "      HttpProvider: [Function: HttpProvider],\n",
       "      IpcProvider: [Function: IpcProvider]\n",
       "    },\n",
       "    subscriptions: {}\n",
       "  },\n",
       "  givenProvider: null,\n",
       "  providers: {\n",
       "    WebsocketProvider: [Function: WebsocketProvider],\n",
       "    HttpProvider: [Function: HttpProvider],\n",
       "    IpcProvider: [Function: IpcProvider]\n",
       "  },\n",
       "  _provider: HttpProvider {\n",
       "    host: 'HTTP://127.0.0.1:7545',\n",
       "    httpAgent: Agent {\n",
       "      _events: [Object],\n",
       "      _eventsCount: 1,\n",
       "      _maxListeners: undefined,\n",
       "      defaultPort: 80,\n",
       "      protocol: 'http:',\n",
       "      options: [Object],\n",
       "      requests: {},\n",
       "      sockets: {},\n",
       "      freeSockets: {},\n",
       "      keepAliveMsecs: 1000,\n",
       "      keepAlive: true,\n",
       "      maxSockets: Infinity,\n",
       "      maxFreeSockets: 256\n",
       "    },\n",
       "    timeout: 0,\n",
       "    headers: undefined,\n",
       "    connected: true\n",
       "  },\n",
       "  setProvider: [Function],\n",
       "  BatchRequest: [Function: bound Batch],\n",
       "  extend: [Function: ex] {\n",
       "    formatters: {\n",
       "      inputDefaultBlockNumberFormatter: [Function: inputDefaultBlockNumberFormatter],\n",
       "      inputBlockNumberFormatter: [Function: inputBlockNumberFormatter],\n",
       "      inputCallFormatter: [Function: inputCallFormatter],\n",
       "      inputTransactionFormatter: [Function: inputTransactionFormatter],\n",
       "      inputAddressFormatter: [Function: inputAddressFormatter],\n",
       "      inputPostFormatter: [Function: inputPostFormatter],\n",
       "      inputLogFormatter: [Function: inputLogFormatter],\n",
       "      inputSignFormatter: [Function: inputSignFormatter],\n",
       "      outputBigNumberFormatter: [Function: outputBigNumberFormatter],\n",
       "      outputTransactionFormatter: [Function: outputTransactionFormatter],\n",
       "      outputTransactionReceiptFormatter: [Function: outputTransactionReceiptFormatter],\n",
       "      outputBlockFormatter: [Function: outputBlockFormatter],\n",
       "      outputLogFormatter: [Function: outputLogFormatter],\n",
       "      outputPostFormatter: [Function: outputPostFormatter],\n",
       "      outputSyncingFormatter: [Function: outputSyncingFormatter]\n",
       "    },\n",
       "    utils: {\n",
       "      _fireError: [Function: _fireError],\n",
       "      _jsonInterfaceMethodToString: [Function: _jsonInterfaceMethodToString],\n",
       "      _flattenTypes: [Function: _flattenTypes],\n",
       "      randomHex: [Function: randomHex],\n",
       "      _: [Function],\n",
       "      BN: [Function],\n",
       "      isBN: [Function: isBN],\n",
       "      isBigNumber: [Function: isBigNumber],\n",
       "      isHex: [Function: isHex],\n",
       "      isHexStrict: [Function: isHexStrict],\n",
       "      sha3: [Function],\n",
       "      keccak256: [Function],\n",
       "      soliditySha3: [Function: soliditySha3],\n",
       "      isAddress: [Function: isAddress],\n",
       "      checkAddressChecksum: [Function: checkAddressChecksum],\n",
       "      toChecksumAddress: [Function: toChecksumAddress],\n",
       "      toHex: [Function: toHex],\n",
       "      toBN: [Function: toBN],\n",
       "      bytesToHex: [Function: bytesToHex],\n",
       "      hexToBytes: [Function: hexToBytes],\n",
       "      hexToNumberString: [Function: hexToNumberString],\n",
       "      hexToNumber: [Function: hexToNumber],\n",
       "      toDecimal: [Function: hexToNumber],\n",
       "      numberToHex: [Function: numberToHex],\n",
       "      fromDecimal: [Function: numberToHex],\n",
       "      hexToUtf8: [Function: hexToUtf8],\n",
       "      hexToString: [Function: hexToUtf8],\n",
       "      toUtf8: [Function: hexToUtf8],\n",
       "      utf8ToHex: [Function: utf8ToHex],\n",
       "      stringToHex: [Function: utf8ToHex],\n",
       "      fromUtf8: [Function: utf8ToHex],\n",
       "      hexToAscii: [Function: hexToAscii],\n",
       "      toAscii: [Function: hexToAscii],\n",
       "      asciiToHex: [Function: asciiToHex],\n",
       "      fromAscii: [Function: asciiToHex],\n",
       "      unitMap: [Object],\n",
       "      toWei: [Function: toWei],\n",
       "      fromWei: [Function: fromWei],\n",
       "      padLeft: [Function: leftPad],\n",
       "      leftPad: [Function: leftPad],\n",
       "      padRight: [Function: rightPad],\n",
       "      rightPad: [Function: rightPad],\n",
       "      toTwosComplement: [Function: toTwosComplement]\n",
       "    },\n",
       "    Method: [Function: Method]\n",
       "  },\n",
       "  clearSubscriptions: [Function],\n",
       "  options: { address: [Getter/Setter], jsonInterface: [Getter/Setter] },\n",
       "  defaultAccount: [Getter/Setter],\n",
       "  defaultBlock: [Getter/Setter],\n",
       "  methods: {\n",
       "    add: [Function: bound _createTxObject],\n",
       "    '0x771602f7': [Function: bound _createTxObject],\n",
       "    'add(uint256,uint256)': [Function: bound _createTxObject],\n",
       "    getCount: [Function: bound _createTxObject],\n",
       "    '0xa87d942c': [Function: bound _createTxObject],\n",
       "    'getCount()': [Function: bound _createTxObject]\n",
       "  },\n",
       "  events: { allEvents: [Function: bound ] },\n",
       "  _address: '0x04cEEb858aDCf2724cd7BFaAcC7BFaC02b002482',\n",
       "  _jsonInterface: [\n",
       "    {\n",
       "      constant: false,\n",
       "      inputs: [Array],\n",
       "      name: 'add',\n",
       "      outputs: [Array],\n",
       "      payable: false,\n",
       "      stateMutability: 'nonpayable',\n",
       "      type: 'function',\n",
       "      signature: '0x771602f7'\n",
       "    },\n",
       "    {\n",
       "      constant: true,\n",
       "      inputs: [],\n",
       "      name: 'getCount',\n",
       "      outputs: [Array],\n",
       "      payable: false,\n",
       "      stateMutability: 'view',\n",
       "      type: 'function',\n",
       "      signature: '0xa87d942c'\n",
       "    }\n",
       "  ]\n",
       "}"
      ]
     },
     "execution_count": 35,
     "metadata": {},
     "output_type": "execute_result"
    }
   ],
   "source": [
    "// 获得合约实例\n",
    "var contractInstance =new web3.eth.Contract(abi, '0x04cEEb858aDCf2724cd7BFaAcC7BFaC02b002482')\n",
    "contractInstance"
   ]
  },
  {
   "cell_type": "code",
   "execution_count": 37,
   "metadata": {},
   "outputs": [
    {
     "data": {
      "text/plain": [
       "'9'"
      ]
     },
     "execution_count": 37,
     "metadata": {},
     "output_type": "execute_result"
    }
   ],
   "source": [
    "//without sending any transaction.\n",
    "contractInstance.methods.add(4,5).call({\n",
    "    from:deployer\n",
    "})"
   ]
  },
  {
   "cell_type": "code",
   "execution_count": 40,
   "metadata": {},
   "outputs": [
    {
     "data": {
      "text/plain": [
       "'0'"
      ]
     },
     "execution_count": 40,
     "metadata": {},
     "output_type": "execute_result"
    }
   ],
   "source": [
    "contractInstance.methods.getCount().call({\n",
    "    from:deployer\n",
    "})"
   ]
  },
  {
   "cell_type": "code",
   "execution_count": 41,
   "metadata": {},
   "outputs": [
    {
     "data": {
      "text/plain": [
       "{\n",
       "  transactionHash: '0x8b150cd102f7d90efaee66628c3d951316665a010447603a85677cd7c34757a9',\n",
       "  transactionIndex: 0,\n",
       "  blockHash: '0xd9affe92c3d51fca529c70c9c64840fad9f35f685e742945b134add4f6acd6ad',\n",
       "  blockNumber: 11,\n",
       "  from: '0x53a2daae7b69138ff57cbbc2f94866bf72f8b9bf',\n",
       "  to: '0x04ceeb858adcf2724cd7bfaacc7bfac02b002482',\n",
       "  gasUsed: 42183,\n",
       "  cumulativeGasUsed: 42183,\n",
       "  contractAddress: null,\n",
       "  status: true,\n",
       "  logsBloom: '0x00000000000000000000000000000000000000000000000000000000000000000000000000000000000000000000000000000000000000000000000000000000000000000000000000000000000000000000000000000000000000000000000000000000000000000000000000000000000000000000000000000000000000000000000000000000000000000000000000000000000000000000000000000000000000000000000000000000000000000000000000000000000000000000000000000000000000000000000000000000000000000000000000000000000000000000000000000000000000000000000000000000000000000000000000000000',\n",
       "  v: '0x1b',\n",
       "  r: '0xba85f1d1d2d97d9190d5b78815457a19b79ffced863223cbadea70d762ebc3a7',\n",
       "  s: '0x7accc64391ff46ba6f94ddff0349b652a6e6db1d23f6fc277faf8804e0df1beb',\n",
       "  events: {}\n",
       "}"
      ]
     },
     "execution_count": 41,
     "metadata": {},
     "output_type": "execute_result"
    }
   ],
   "source": [
    "// Will send a transaction to the smart contract and execute its method. Note this can alter the smart contract state.\n",
    "contractInstance.methods.add(8,9).send({\n",
    "    from:deployer\n",
    "})"
   ]
  },
  {
   "cell_type": "code",
   "execution_count": 42,
   "metadata": {},
   "outputs": [
    {
     "data": {
      "text/plain": [
       "'17'"
      ]
     },
     "execution_count": 42,
     "metadata": {},
     "output_type": "execute_result"
    }
   ],
   "source": [
    "contractInstance.methods.getCount().call()"
   ]
  },
  {
   "cell_type": "code",
   "execution_count": 43,
   "metadata": {},
   "outputs": [
    {
     "name": "stdout",
     "output_type": "stream",
     "text": [
      "17\n"
     ]
    }
   ],
   "source": [
    "contractInstance.methods.getCount().call()\n",
    ".then(console.log);"
   ]
  },
  {
   "cell_type": "code",
   "execution_count": 44,
   "metadata": {},
   "outputs": [
    {
     "data": {
      "text/plain": [
       "'17'"
      ]
     },
     "execution_count": 44,
     "metadata": {},
     "output_type": "execute_result"
    }
   ],
   "source": [
    "contractInstance.methods.getCount().call()"
   ]
  },
  {
   "cell_type": "code",
   "execution_count": null,
   "metadata": {},
   "outputs": [],
   "source": []
  }
 ],
 "metadata": {
  "kernelspec": {
   "display_name": "Javascript (Node.js)",
   "language": "javascript",
   "name": "javascript"
  },
  "language_info": {
   "file_extension": ".js",
   "mimetype": "application/javascript",
   "name": "javascript",
   "version": "12.2.0"
  },
  "toc": {
   "base_numbering": 1,
   "nav_menu": {},
   "number_sections": true,
   "sideBar": true,
   "skip_h1_title": false,
   "title_cell": "Table of Contents",
   "title_sidebar": "Contents",
   "toc_cell": false,
   "toc_position": {},
   "toc_section_display": true,
   "toc_window_display": true
  },
  "varInspector": {
   "cols": {
    "lenName": 16,
    "lenType": 16,
    "lenVar": 40
   },
   "kernels_config": {
    "python": {
     "delete_cmd_postfix": "",
     "delete_cmd_prefix": "del ",
     "library": "var_list.py",
     "varRefreshCmd": "print(var_dic_list())"
    },
    "r": {
     "delete_cmd_postfix": ") ",
     "delete_cmd_prefix": "rm(",
     "library": "var_list.r",
     "varRefreshCmd": "cat(var_dic_list()) "
    }
   },
   "types_to_exclude": [
    "module",
    "function",
    "builtin_function_or_method",
    "instance",
    "_Feature"
   ],
   "window_display": false
  }
 },
 "nbformat": 4,
 "nbformat_minor": 2
}
