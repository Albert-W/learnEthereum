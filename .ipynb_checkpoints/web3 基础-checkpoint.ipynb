{
 "cells": [
  {
   "cell_type": "markdown",
   "metadata": {},
   "source": [
    "## 导入web3 "
   ]
  },
  {
   "cell_type": "code",
   "execution_count": 15,
   "metadata": {},
   "outputs": [],
   "source": [
    "var web3 = require('web3')"
   ]
  },
  {
   "cell_type": "code",
   "execution_count": 16,
   "metadata": {},
   "outputs": [
    {
     "data": {
      "text/plain": [
       "'1.2.1'"
      ]
     },
     "execution_count": 16,
     "metadata": {},
     "output_type": "execute_result"
    }
   ],
   "source": [
    "web3.version"
   ]
  },
  {
   "cell_type": "code",
   "execution_count": 17,
   "metadata": {},
   "outputs": [
    {
     "data": {
      "text/plain": [
       "{\n",
       "  _fireError: [Function: _fireError],\n",
       "  _jsonInterfaceMethodToString: [Function: _jsonInterfaceMethodToString],\n",
       "  _flattenTypes: [Function: _flattenTypes],\n",
       "  randomHex: [Function: randomHex],\n",
       "  _: [Function: _] {\n",
       "    _: [Circular],\n",
       "    VERSION: '1.9.1',\n",
       "    iteratee: [Function: builtinIteratee],\n",
       "    forEach: [Function],\n",
       "    each: [Function],\n",
       "    collect: [Function],\n",
       "    map: [Function],\n",
       "    inject: [Function],\n",
       "    foldl: [Function],\n",
       "    reduce: [Function],\n",
       "    foldr: [Function],\n",
       "    reduceRight: [Function],\n",
       "    detect: [Function],\n",
       "    find: [Function],\n",
       "    select: [Function],\n",
       "    filter: [Function],\n",
       "    reject: [Function],\n",
       "    all: [Function],\n",
       "    every: [Function],\n",
       "    any: [Function],\n",
       "    some: [Function],\n",
       "    include: [Function],\n",
       "    includes: [Function],\n",
       "    contains: [Function],\n",
       "    invoke: [Function],\n",
       "    pluck: [Function],\n",
       "    where: [Function],\n",
       "    findWhere: [Function],\n",
       "    max: [Function],\n",
       "    min: [Function],\n",
       "    shuffle: [Function],\n",
       "    sample: [Function],\n",
       "    sortBy: [Function],\n",
       "    groupBy: [Function],\n",
       "    indexBy: [Function],\n",
       "    countBy: [Function],\n",
       "    toArray: [Function],\n",
       "    size: [Function],\n",
       "    partition: [Function],\n",
       "    take: [Function],\n",
       "    head: [Function],\n",
       "    first: [Function],\n",
       "    initial: [Function],\n",
       "    last: [Function],\n",
       "    drop: [Function],\n",
       "    tail: [Function],\n",
       "    rest: [Function],\n",
       "    compact: [Function],\n",
       "    flatten: [Function],\n",
       "    without: [Function],\n",
       "    unique: [Function],\n",
       "    uniq: [Function],\n",
       "    union: [Function],\n",
       "    intersection: [Function],\n",
       "    difference: [Function],\n",
       "    unzip: [Function],\n",
       "    zip: [Function],\n",
       "    object: [Function],\n",
       "    findIndex: [Function],\n",
       "    findLastIndex: [Function],\n",
       "    sortedIndex: [Function],\n",
       "    indexOf: [Function],\n",
       "    lastIndexOf: [Function],\n",
       "    range: [Function],\n",
       "    chunk: [Function],\n",
       "    bind: [Function],\n",
       "    partial: [Function] { placeholder: [Circular] },\n",
       "    bindAll: [Function],\n",
       "    memoize: [Function],\n",
       "    delay: [Function],\n",
       "    defer: [Function: bound],\n",
       "    throttle: [Function],\n",
       "    debounce: [Function],\n",
       "    wrap: [Function],\n",
       "    negate: [Function],\n",
       "    compose: [Function],\n",
       "    after: [Function],\n",
       "    before: [Function],\n",
       "    once: [Function: bound],\n",
       "    restArguments: [Function: restArguments],\n",
       "    keys: [Function],\n",
       "    allKeys: [Function],\n",
       "    values: [Function],\n",
       "    mapObject: [Function],\n",
       "    pairs: [Function],\n",
       "    invert: [Function],\n",
       "    methods: [Function],\n",
       "    functions: [Function],\n",
       "    extend: [Function],\n",
       "    assign: [Function],\n",
       "    extendOwn: [Function],\n",
       "    findKey: [Function],\n",
       "    pick: [Function],\n",
       "    omit: [Function],\n",
       "    defaults: [Function],\n",
       "    create: [Function],\n",
       "    clone: [Function],\n",
       "    tap: [Function],\n",
       "    isMatch: [Function],\n",
       "    isEqual: [Function],\n",
       "    isEmpty: [Function],\n",
       "    isElement: [Function],\n",
       "    isArray: [Function: isArray],\n",
       "    isObject: [Function],\n",
       "    isArguments: [Function],\n",
       "    isFunction: [Function],\n",
       "    isString: [Function],\n",
       "    isNumber: [Function],\n",
       "    isDate: [Function],\n",
       "    isRegExp: [Function],\n",
       "    isError: [Function],\n",
       "    isSymbol: [Function],\n",
       "    isMap: [Function],\n",
       "    isWeakMap: [Function],\n",
       "    isSet: [Function],\n",
       "    isWeakSet: [Function],\n",
       "    isFinite: [Function],\n",
       "    isNaN: [Function],\n",
       "    isBoolean: [Function],\n",
       "    isNull: [Function],\n",
       "    isUndefined: [Function],\n",
       "    has: [Function],\n",
       "    noConflict: [Function],\n",
       "    identity: [Function],\n",
       "    constant: [Function],\n",
       "    noop: [Function],\n",
       "    property: [Function],\n",
       "    propertyOf: [Function],\n",
       "    matches: [Function],\n",
       "    matcher: [Function],\n",
       "    times: [Function],\n",
       "    random: [Function],\n",
       "    now: [Function: now],\n",
       "    escape: [Function],\n",
       "    unescape: [Function],\n",
       "    result: [Function],\n",
       "    uniqueId: [Function],\n",
       "    templateSettings: {\n",
       "      evaluate: /<%([\\s\\S]+?)%>/g,\n",
       "      interpolate: /<%=([\\s\\S]+?)%>/g,\n",
       "      escape: /<%-([\\s\\S]+?)%>/g\n",
       "    },\n",
       "    template: [Function],\n",
       "    chain: [Function],\n",
       "    mixin: [Function]\n",
       "  },\n",
       "  BN: [Function: BN] {\n",
       "    BN: [Circular],\n",
       "    wordSize: 26,\n",
       "    isBN: [Function: isBN],\n",
       "    max: [Function: max],\n",
       "    min: [Function: min],\n",
       "    red: [Function: red],\n",
       "    _prime: [Function: prime],\n",
       "    mont: [Function: mont]\n",
       "  },\n",
       "  isBN: [Function: isBN],\n",
       "  isBigNumber: [Function: isBigNumber],\n",
       "  isHex: [Function: isHex],\n",
       "  isHexStrict: [Function: isHexStrict],\n",
       "  sha3: [Function: sha3] {\n",
       "    _Hash: {\n",
       "      keccak256: [Function],\n",
       "      keccak512: [Function],\n",
       "      keccak256s: [Function],\n",
       "      keccak512s: [Function]\n",
       "    }\n",
       "  },\n",
       "  keccak256: [Function: sha3] {\n",
       "    _Hash: {\n",
       "      keccak256: [Function],\n",
       "      keccak512: [Function],\n",
       "      keccak256s: [Function],\n",
       "      keccak512s: [Function]\n",
       "    }\n",
       "  },\n",
       "  soliditySha3: [Function: soliditySha3],\n",
       "  isAddress: [Function: isAddress],\n",
       "  checkAddressChecksum: [Function: checkAddressChecksum],\n",
       "  toChecksumAddress: [Function: toChecksumAddress],\n",
       "  toHex: [Function: toHex],\n",
       "  toBN: [Function: toBN],\n",
       "  bytesToHex: [Function: bytesToHex],\n",
       "  hexToBytes: [Function: hexToBytes],\n",
       "  hexToNumberString: [Function: hexToNumberString],\n",
       "  hexToNumber: [Function: hexToNumber],\n",
       "  toDecimal: [Function: hexToNumber],\n",
       "  numberToHex: [Function: numberToHex],\n",
       "  fromDecimal: [Function: numberToHex],\n",
       "  hexToUtf8: [Function: hexToUtf8],\n",
       "  hexToString: [Function: hexToUtf8],\n",
       "  toUtf8: [Function: hexToUtf8],\n",
       "  utf8ToHex: [Function: utf8ToHex],\n",
       "  stringToHex: [Function: utf8ToHex],\n",
       "  fromUtf8: [Function: utf8ToHex],\n",
       "  hexToAscii: [Function: hexToAscii],\n",
       "  toAscii: [Function: hexToAscii],\n",
       "  asciiToHex: [Function: asciiToHex],\n",
       "  fromAscii: [Function: asciiToHex],\n",
       "  unitMap: {\n",
       "    noether: '0',\n",
       "    wei: '1',\n",
       "    kwei: '1000',\n",
       "    Kwei: '1000',\n",
       "    babbage: '1000',\n",
       "    femtoether: '1000',\n",
       "    mwei: '1000000',\n",
       "    Mwei: '1000000',\n",
       "    lovelace: '1000000',\n",
       "    picoether: '1000000',\n",
       "    gwei: '1000000000',\n",
       "    Gwei: '1000000000',\n",
       "    shannon: '1000000000',\n",
       "    nanoether: '1000000000',\n",
       "    nano: '1000000000',\n",
       "    szabo: '1000000000000',\n",
       "    microether: '1000000000000',\n",
       "    micro: '1000000000000',\n",
       "    finney: '1000000000000000',\n",
       "    milliether: '1000000000000000',\n",
       "    milli: '1000000000000000',\n",
       "    ether: '1000000000000000000',\n",
       "    kether: '1000000000000000000000',\n",
       "    grand: '1000000000000000000000',\n",
       "    mether: '1000000000000000000000000',\n",
       "    gether: '1000000000000000000000000000',\n",
       "    tether: '1000000000000000000000000000000'\n",
       "  },\n",
       "  toWei: [Function: toWei],\n",
       "  fromWei: [Function: fromWei],\n",
       "  padLeft: [Function: leftPad],\n",
       "  leftPad: [Function: leftPad],\n",
       "  padRight: [Function: rightPad],\n",
       "  rightPad: [Function: rightPad],\n",
       "  toTwosComplement: [Function: toTwosComplement]\n",
       "}"
      ]
     },
     "execution_count": 17,
     "metadata": {},
     "output_type": "execute_result"
    }
   ],
   "source": [
    "web3.utils"
   ]
  },
  {
   "cell_type": "code",
   "execution_count": 18,
   "metadata": {},
   "outputs": [
    {
     "data": {
      "text/plain": [
       "null"
      ]
     },
     "execution_count": 18,
     "metadata": {},
     "output_type": "execute_result"
    }
   ],
   "source": [
    "web3.givenProvider"
   ]
  },
  {
   "cell_type": "code",
   "execution_count": 19,
   "metadata": {},
   "outputs": [
    {
     "data": {
      "text/plain": [
       "{\n",
       "  WebsocketProvider: [Function: WebsocketProvider],\n",
       "  HttpProvider: [Function: HttpProvider],\n",
       "  IpcProvider: [Function: IpcProvider]\n",
       "}"
      ]
     },
     "execution_count": 19,
     "metadata": {},
     "output_type": "execute_result"
    }
   ],
   "source": [
    "web3.providers"
   ]
  },
  {
   "cell_type": "code",
   "execution_count": 20,
   "metadata": {},
   "outputs": [
    {
     "data": {
      "text/plain": [
       "{\n",
       "  Eth: [Function: Eth] {\n",
       "    givenProvider: null,\n",
       "    providers: {\n",
       "      WebsocketProvider: [Function: WebsocketProvider],\n",
       "      HttpProvider: [Function: HttpProvider],\n",
       "      IpcProvider: [Function: IpcProvider]\n",
       "    }\n",
       "  },\n",
       "  Net: [Function: Net] {\n",
       "    givenProvider: null,\n",
       "    providers: {\n",
       "      WebsocketProvider: [Function: WebsocketProvider],\n",
       "      HttpProvider: [Function: HttpProvider],\n",
       "      IpcProvider: [Function: IpcProvider]\n",
       "    }\n",
       "  },\n",
       "  Personal: [Function: Personal] {\n",
       "    givenProvider: null,\n",
       "    providers: {\n",
       "      WebsocketProvider: [Function: WebsocketProvider],\n",
       "      HttpProvider: [Function: HttpProvider],\n",
       "      IpcProvider: [Function: IpcProvider]\n",
       "    }\n",
       "  },\n",
       "  Shh: [Function: Shh] {\n",
       "    givenProvider: null,\n",
       "    providers: {\n",
       "      WebsocketProvider: [Function: WebsocketProvider],\n",
       "      HttpProvider: [Function: HttpProvider],\n",
       "      IpcProvider: [Function: IpcProvider]\n",
       "    }\n",
       "  },\n",
       "  Bzz: [Function: Bzz] { givenProvider: null }\n",
       "}"
      ]
     },
     "execution_count": 20,
     "metadata": {},
     "output_type": "execute_result"
    }
   ],
   "source": [
    "web3.modules"
   ]
  },
  {
   "cell_type": "markdown",
   "metadata": {},
   "source": [
    "## 连接 区块链\n",
    "\n",
    "通过Ganache 建立 本地仿真链    \n",
    "查看RPC：HTTP://127.0.0.1:7545"
   ]
  },
  {
   "cell_type": "code",
   "execution_count": 26,
   "metadata": {},
   "outputs": [],
   "source": [
    "var web3 = new Web3('HTTP://127.0.0.1:7545')"
   ]
  },
  {
   "cell_type": "markdown",
   "metadata": {},
   "source": [
    "### eth 模块"
   ]
  },
  {
   "cell_type": "code",
   "execution_count": 22,
   "metadata": {},
   "outputs": [
    {
     "data": {
      "text/plain": [
       "Eth {\n",
       "  currentProvider: [Getter/Setter],\n",
       "  _requestManager: RequestManager {\n",
       "    provider: HttpProvider {\n",
       "      host: 'HTTP://127.0.0.1:7545',\n",
       "      httpAgent: [Agent],\n",
       "      timeout: 0,\n",
       "      headers: undefined,\n",
       "      connected: false\n",
       "    },\n",
       "    providers: {\n",
       "      WebsocketProvider: [Function: WebsocketProvider],\n",
       "      HttpProvider: [Function: HttpProvider],\n",
       "      IpcProvider: [Function: IpcProvider]\n",
       "    },\n",
       "    subscriptions: {}\n",
       "  },\n",
       "  givenProvider: null,\n",
       "  providers: {\n",
       "    WebsocketProvider: [Function: WebsocketProvider],\n",
       "    HttpProvider: [Function: HttpProvider],\n",
       "    IpcProvider: [Function: IpcProvider]\n",
       "  },\n",
       "  _provider: HttpProvider {\n",
       "    host: 'HTTP://127.0.0.1:7545',\n",
       "    httpAgent: Agent {\n",
       "      _events: [Object],\n",
       "      _eventsCount: 1,\n",
       "      _maxListeners: undefined,\n",
       "      defaultPort: 80,\n",
       "      protocol: 'http:',\n",
       "      options: [Object],\n",
       "      requests: {},\n",
       "      sockets: {},\n",
       "      freeSockets: {},\n",
       "      keepAliveMsecs: 1000,\n",
       "      keepAlive: true,\n",
       "      maxSockets: Infinity,\n",
       "      maxFreeSockets: 256\n",
       "    },\n",
       "    timeout: 0,\n",
       "    headers: undefined,\n",
       "    connected: false\n",
       "  },\n",
       "  setProvider: [Function],\n",
       "  BatchRequest: [Function: bound Batch],\n",
       "  extend: [Function: ex] {\n",
       "    formatters: {\n",
       "      inputDefaultBlockNumberFormatter: [Function: inputDefaultBlockNumberFormatter],\n",
       "      inputBlockNumberFormatter: [Function: inputBlockNumberFormatter],\n",
       "      inputCallFormatter: [Function: inputCallFormatter],\n",
       "      inputTransactionFormatter: [Function: inputTransactionFormatter],\n",
       "      inputAddressFormatter: [Function: inputAddressFormatter],\n",
       "      inputPostFormatter: [Function: inputPostFormatter],\n",
       "      inputLogFormatter: [Function: inputLogFormatter],\n",
       "      inputSignFormatter: [Function: inputSignFormatter],\n",
       "      outputBigNumberFormatter: [Function: outputBigNumberFormatter],\n",
       "      outputTransactionFormatter: [Function: outputTransactionFormatter],\n",
       "      outputTransactionReceiptFormatter: [Function: outputTransactionReceiptFormatter],\n",
       "      outputBlockFormatter: [Function: outputBlockFormatter],\n",
       "      outputLogFormatter: [Function: outputLogFormatter],\n",
       "      outputPostFormatter: [Function: outputPostFormatter],\n",
       "      outputSyncingFormatter: [Function: outputSyncingFormatter]\n",
       "    },\n",
       "    utils: {\n",
       "      _fireError: [Function: _fireError],\n",
       "      _jsonInterfaceMethodToString: [Function: _jsonInterfaceMethodToString],\n",
       "      _flattenTypes: [Function: _flattenTypes],\n",
       "      randomHex: [Function: randomHex],\n",
       "      _: [Function],\n",
       "      BN: [Function],\n",
       "      isBN: [Function: isBN],\n",
       "      isBigNumber: [Function: isBigNumber],\n",
       "      isHex: [Function: isHex],\n",
       "      isHexStrict: [Function: isHexStrict],\n",
       "      sha3: [Function],\n",
       "      keccak256: [Function],\n",
       "      soliditySha3: [Function: soliditySha3],\n",
       "      isAddress: [Function: isAddress],\n",
       "      checkAddressChecksum: [Function: checkAddressChecksum],\n",
       "      toChecksumAddress: [Function: toChecksumAddress],\n",
       "      toHex: [Function: toHex],\n",
       "      toBN: [Function: toBN],\n",
       "      bytesToHex: [Function: bytesToHex],\n",
       "      hexToBytes: [Function: hexToBytes],\n",
       "      hexToNumberString: [Function: hexToNumberString],\n",
       "      hexToNumber: [Function: hexToNumber],\n",
       "      toDecimal: [Function: hexToNumber],\n",
       "      numberToHex: [Function: numberToHex],\n",
       "      fromDecimal: [Function: numberToHex],\n",
       "      hexToUtf8: [Function: hexToUtf8],\n",
       "      hexToString: [Function: hexToUtf8],\n",
       "      toUtf8: [Function: hexToUtf8],\n",
       "      utf8ToHex: [Function: utf8ToHex],\n",
       "      stringToHex: [Function: utf8ToHex],\n",
       "      fromUtf8: [Function: utf8ToHex],\n",
       "      hexToAscii: [Function: hexToAscii],\n",
       "      toAscii: [Function: hexToAscii],\n",
       "      asciiToHex: [Function: asciiToHex],\n",
       "      fromAscii: [Function: asciiToHex],\n",
       "      unitMap: [Object],\n",
       "      toWei: [Function: toWei],\n",
       "      fromWei: [Function: fromWei],\n",
       "      padLeft: [Function: leftPad],\n",
       "      leftPad: [Function: leftPad],\n",
       "      padRight: [Function: rightPad],\n",
       "      rightPad: [Function: rightPad],\n",
       "      toTwosComplement: [Function: toTwosComplement]\n",
       "    },\n",
       "    Method: [Function: Method]\n",
       "  },\n",
       "  defaultAccount: [Getter/Setter],\n",
       "  defaultBlock: [Getter/Setter],\n",
       "  clearSubscriptions: [Function],\n",
       "  net: Net {\n",
       "    currentProvider: [Getter/Setter],\n",
       "    _requestManager: RequestManager {\n",
       "      provider: [HttpProvider],\n",
       "      providers: [Object],\n",
       "      subscriptions: {}\n",
       "    },\n",
       "    givenProvider: null,\n",
       "    providers: {\n",
       "      WebsocketProvider: [Function: WebsocketProvider],\n",
       "      HttpProvider: [Function: HttpProvider],\n",
       "      IpcProvider: [Function: IpcProvider]\n",
       "    },\n",
       "    _provider: HttpProvider {\n",
       "      host: 'HTTP://127.0.0.1:7545',\n",
       "      httpAgent: [Agent],\n",
       "      timeout: 0,\n",
       "      headers: undefined,\n",
       "      connected: false\n",
       "    },\n",
       "    setProvider: [Function],\n",
       "    BatchRequest: [Function: bound Batch],\n",
       "    extend: [Function: ex] {\n",
       "      formatters: [Object],\n",
       "      utils: [Object],\n",
       "      Method: [Function: Method]\n",
       "    },\n",
       "    getId: [Function: send] {\n",
       "      method: [Method],\n",
       "      request: [Function: bound ],\n",
       "      call: 'net_version'\n",
       "    },\n",
       "    isListening: [Function: send] {\n",
       "      method: [Method],\n",
       "      request: [Function: bound ],\n",
       "      call: 'net_listening'\n",
       "    },\n",
       "    getPeerCount: [Function: send] {\n",
       "      method: [Method],\n",
       "      request: [Function: bound ],\n",
       "      call: 'net_peerCount'\n",
       "    },\n",
       "    getNetworkType: [Function: bound getNetworkType]\n",
       "  },\n",
       "  accounts: Accounts {\n",
       "    currentProvider: [Getter/Setter],\n",
       "    _requestManager: RequestManager {\n",
       "      provider: [HttpProvider],\n",
       "      providers: [Object],\n",
       "      subscriptions: {}\n",
       "    },\n",
       "    givenProvider: null,\n",
       "    providers: {\n",
       "      WebsocketProvider: [Function: WebsocketProvider],\n",
       "      HttpProvider: [Function: HttpProvider],\n",
       "      IpcProvider: [Function: IpcProvider]\n",
       "    },\n",
       "    _provider: HttpProvider {\n",
       "      host: 'HTTP://127.0.0.1:7545',\n",
       "      httpAgent: [Agent],\n",
       "      timeout: 0,\n",
       "      headers: undefined,\n",
       "      connected: false\n",
       "    },\n",
       "    setProvider: [Function],\n",
       "    _ethereumCall: {\n",
       "      getId: [Function],\n",
       "      getGasPrice: [Function],\n",
       "      getTransactionCount: [Function]\n",
       "    },\n",
       "    wallet: Wallet {\n",
       "      _accounts: [Circular],\n",
       "      length: 0,\n",
       "      defaultKeyName: 'web3js_wallet'\n",
       "    }\n",
       "  },\n",
       "  personal: Personal {\n",
       "    currentProvider: [Getter/Setter],\n",
       "    _requestManager: RequestManager {\n",
       "      provider: [HttpProvider],\n",
       "      providers: [Object],\n",
       "      subscriptions: {}\n",
       "    },\n",
       "    givenProvider: null,\n",
       "    providers: {\n",
       "      WebsocketProvider: [Function: WebsocketProvider],\n",
       "      HttpProvider: [Function: HttpProvider],\n",
       "      IpcProvider: [Function: IpcProvider]\n",
       "    },\n",
       "    _provider: HttpProvider {\n",
       "      host: 'HTTP://127.0.0.1:7545',\n",
       "      httpAgent: [Agent],\n",
       "      timeout: 0,\n",
       "      headers: undefined,\n",
       "      connected: false\n",
       "    },\n",
       "    setProvider: [Function],\n",
       "    BatchRequest: [Function: bound Batch],\n",
       "    extend: [Function: ex] {\n",
       "      formatters: [Object],\n",
       "      utils: [Object],\n",
       "      Method: [Function: Method]\n",
       "    },\n",
       "    net: Net {\n",
       "      currentProvider: [Getter/Setter],\n",
       "      _requestManager: [RequestManager],\n",
       "      givenProvider: null,\n",
       "      providers: [Object],\n",
       "      _provider: [HttpProvider],\n",
       "      setProvider: [Function],\n",
       "      BatchRequest: [Function: bound Batch],\n",
       "      extend: [Function],\n",
       "      getId: [Function],\n",
       "      isListening: [Function],\n",
       "      getPeerCount: [Function]\n",
       "    },\n",
       "    defaultAccount: [Getter/Setter],\n",
       "    defaultBlock: [Getter/Setter],\n",
       "    getAccounts: [Function: send] {\n",
       "      method: [Method],\n",
       "      request: [Function: bound ],\n",
       "      call: 'personal_listAccounts'\n",
       "    },\n",
       "    newAccount: [Function: send] {\n",
       "      method: [Method],\n",
       "      request: [Function: bound ],\n",
       "      call: 'personal_newAccount'\n",
       "    },\n",
       "    unlockAccount: [Function: send] {\n",
       "      method: [Method],\n",
       "      request: [Function: bound ],\n",
       "      call: 'personal_unlockAccount'\n",
       "    },\n",
       "    lockAccount: [Function: send] {\n",
       "      method: [Method],\n",
       "      request: [Function: bound ],\n",
       "      call: 'personal_lockAccount'\n",
       "    },\n",
       "    importRawKey: [Function: send] {\n",
       "      method: [Method],\n",
       "      request: [Function: bound ],\n",
       "      call: 'personal_importRawKey'\n",
       "    },\n",
       "    sendTransaction: [Function: send] {\n",
       "      method: [Method],\n",
       "      request: [Function: bound ],\n",
       "      call: 'personal_sendTransaction'\n",
       "    },\n",
       "    signTransaction: [Function: send] {\n",
       "      method: [Method],\n",
       "      request: [Function: bound ],\n",
       "      call: 'personal_signTransaction'\n",
       "    },\n",
       "    sign: [Function: send] {\n",
       "      method: [Method],\n",
       "      request: [Function: bound ],\n",
       "      call: 'personal_sign'\n",
       "    },\n",
       "    ecRecover: [Function: send] {\n",
       "      method: [Method],\n",
       "      request: [Function: bound ],\n",
       "      call: 'personal_ecRecover'\n",
       "    }\n",
       "  },\n",
       "  Contract: [Function: Contract] {\n",
       "    setProvider: [Function],\n",
       "    defaultAccount: null,\n",
       "    defaultBlock: 'latest',\n",
       "    currentProvider: [Getter/Setter],\n",
       "    _requestManager: RequestManager {\n",
       "      provider: [HttpProvider],\n",
       "      providers: [Object],\n",
       "      subscriptions: {}\n",
       "    },\n",
       "    givenProvider: null,\n",
       "    providers: {\n",
       "      WebsocketProvider: [Function: WebsocketProvider],\n",
       "      HttpProvider: [Function: HttpProvider],\n",
       "      IpcProvider: [Function: IpcProvider]\n",
       "    },\n",
       "    _provider: HttpProvider {\n",
       "      host: 'HTTP://127.0.0.1:7545',\n",
       "      httpAgent: [Agent],\n",
       "      timeout: 0,\n",
       "      headers: undefined,\n",
       "      connected: false\n",
       "    },\n",
       "    BatchRequest: [Function: bound Batch],\n",
       "    extend: [Function: ex] {\n",
       "      formatters: [Object],\n",
       "      utils: [Object],\n",
       "      Method: [Function: Method]\n",
       "    },\n",
       "    _ethAccounts: Accounts {\n",
       "      currentProvider: [Getter/Setter],\n",
       "      _requestManager: [RequestManager],\n",
       "      givenProvider: null,\n",
       "      providers: [Object],\n",
       "      _provider: [HttpProvider],\n",
       "      setProvider: [Function],\n",
       "      _ethereumCall: [Object],\n",
       "      wallet: [Wallet]\n",
       "    }\n",
       "  },\n",
       "  Iban: [Function: Iban] {\n",
       "    toAddress: [Function],\n",
       "    toIban: [Function],\n",
       "    fromAddress: [Function],\n",
       "    fromBban: [Function],\n",
       "    createIndirect: [Function],\n",
       "    isValid: [Function]\n",
       "  },\n",
       "  abi: ABICoder {},\n",
       "  ens: ENS { eth: [Circular] },\n",
       "  getNodeInfo: [Function: send] {\n",
       "    method: Method {\n",
       "      name: 'getNodeInfo',\n",
       "      call: 'web3_clientVersion',\n",
       "      params: 0,\n",
       "      inputFormatter: undefined,\n",
       "      outputFormatter: undefined,\n",
       "      transformPayload: undefined,\n",
       "      extraFormatters: undefined,\n",
       "      requestManager: [RequestManager],\n",
       "      accounts: [Accounts],\n",
       "      defaultBlock: 'latest',\n",
       "      defaultAccount: null\n",
       "    },\n",
       "    request: [Function: bound ],\n",
       "    call: 'web3_clientVersion'\n",
       "  },\n",
       "  getProtocolVersion: [Function: send] {\n",
       "    method: Method {\n",
       "      name: 'getProtocolVersion',\n",
       "      call: 'eth_protocolVersion',\n",
       "      params: 0,\n",
       "      inputFormatter: undefined,\n",
       "      outputFormatter: undefined,\n",
       "      transformPayload: undefined,\n",
       "      extraFormatters: undefined,\n",
       "      requestManager: [RequestManager],\n",
       "      accounts: [Accounts],\n",
       "      defaultBlock: 'latest',\n",
       "      defaultAccount: null\n",
       "    },\n",
       "    request: [Function: bound ],\n",
       "    call: 'eth_protocolVersion'\n",
       "  },\n",
       "  getCoinbase: [Function: send] {\n",
       "    method: Method {\n",
       "      name: 'getCoinbase',\n",
       "      call: 'eth_coinbase',\n",
       "      params: 0,\n",
       "      inputFormatter: undefined,\n",
       "      outputFormatter: undefined,\n",
       "      transformPayload: undefined,\n",
       "      extraFormatters: undefined,\n",
       "      requestManager: [RequestManager],\n",
       "      accounts: [Accounts],\n",
       "      defaultBlock: 'latest',\n",
       "      defaultAccount: null\n",
       "    },\n",
       "    request: [Function: bound ],\n",
       "    call: 'eth_coinbase'\n",
       "  },\n",
       "  isMining: [Function: send] {\n",
       "    method: Method {\n",
       "      name: 'isMining',\n",
       "      call: 'eth_mining',\n",
       "      params: 0,\n",
       "      inputFormatter: undefined,\n",
       "      outputFormatter: undefined,\n",
       "      transformPayload: undefined,\n",
       "      extraFormatters: undefined,\n",
       "      requestManager: [RequestManager],\n",
       "      accounts: [Accounts],\n",
       "      defaultBlock: 'latest',\n",
       "      defaultAccount: null\n",
       "    },\n",
       "    request: [Function: bound ],\n",
       "    call: 'eth_mining'\n",
       "  },\n",
       "  getHashrate: [Function: send] {\n",
       "    method: Method {\n",
       "      name: 'getHashrate',\n",
       "      call: 'eth_hashrate',\n",
       "      params: 0,\n",
       "      inputFormatter: undefined,\n",
       "      outputFormatter: [Function: hexToNumber],\n",
       "      transformPayload: undefined,\n",
       "      extraFormatters: undefined,\n",
       "      requestManager: [RequestManager],\n",
       "      accounts: [Accounts],\n",
       "      defaultBlock: 'latest',\n",
       "      defaultAccount: null\n",
       "    },\n",
       "    request: [Function: bound ],\n",
       "    call: 'eth_hashrate'\n",
       "  },\n",
       "  isSyncing: [Function: send] {\n",
       "    method: Method {\n",
       "      name: 'isSyncing',\n",
       "      call: 'eth_syncing',\n",
       "      params: 0,\n",
       "      inputFormatter: undefined,\n",
       "      outputFormatter: [Function: outputSyncingFormatter],\n",
       "      transformPayload: undefined,\n",
       "      extraFormatters: undefined,\n",
       "      requestManager: [RequestManager],\n",
       "      accounts: [Accounts],\n",
       "      defaultBlock: 'latest',\n",
       "      defaultAccount: null\n",
       "    },\n",
       "    request: [Function: bound ],\n",
       "    call: 'eth_syncing'\n",
       "  },\n",
       "  getGasPrice: [Function: send] {\n",
       "    method: Method {\n",
       "      name: 'getGasPrice',\n",
       "      call: 'eth_gasPrice',\n",
       "      params: 0,\n",
       "      inputFormatter: undefined,\n",
       "      outputFormatter: [Function: outputBigNumberFormatter],\n",
       "      transformPayload: undefined,\n",
       "      extraFormatters: undefined,\n",
       "      requestManager: [RequestManager],\n",
       "      accounts: [Accounts],\n",
       "      defaultBlock: 'latest',\n",
       "      defaultAccount: null\n",
       "    },\n",
       "    request: [Function: bound ],\n",
       "    call: 'eth_gasPrice'\n",
       "  },\n",
       "  getAccounts: [Function: send] {\n",
       "    method: Method {\n",
       "      name: 'getAccounts',\n",
       "      call: 'eth_accounts',\n",
       "      params: 0,\n",
       "      inputFormatter: undefined,\n",
       "      outputFormatter: [Function: toChecksumAddress],\n",
       "      transformPayload: undefined,\n",
       "      extraFormatters: undefined,\n",
       "      requestManager: [RequestManager],\n",
       "      accounts: [Accounts],\n",
       "      defaultBlock: 'latest',\n",
       "      defaultAccount: null\n",
       "    },\n",
       "    request: [Function: bound ],\n",
       "    call: 'eth_accounts'\n",
       "  },\n",
       "  getBlockNumber: [Function: send] {\n",
       "    method: Method {\n",
       "      name: 'getBlockNumber',\n",
       "      call: 'eth_blockNumber',\n",
       "      params: 0,\n",
       "      inputFormatter: undefined,\n",
       "      outputFormatter: [Function: hexToNumber],\n",
       "      transformPayload: undefined,\n",
       "      extraFormatters: undefined,\n",
       "      requestManager: [RequestManager],\n",
       "      accounts: [Accounts],\n",
       "      defaultBlock: 'latest',\n",
       "      defaultAccount: null\n",
       "    },\n",
       "    request: [Function: bound ],\n",
       "    call: 'eth_blockNumber'\n",
       "  },\n",
       "  getBalance: [Function: send] {\n",
       "    method: Method {\n",
       "      name: 'getBalance',\n",
       "      call: 'eth_getBalance',\n",
       "      params: 2,\n",
       "      inputFormatter: [Array],\n",
       "      outputFormatter: [Function: outputBigNumberFormatter],\n",
       "      transformPayload: undefined,\n",
       "      extraFormatters: undefined,\n",
       "      requestManager: [RequestManager],\n",
       "      accounts: [Accounts],\n",
       "      defaultBlock: 'latest',\n",
       "      defaultAccount: null\n",
       "    },\n",
       "    request: [Function: bound ],\n",
       "    call: 'eth_getBalance'\n",
       "  },\n",
       "  getStorageAt: [Function: send] {\n",
       "    method: Method {\n",
       "      name: 'getStorageAt',\n",
       "      call: 'eth_getStorageAt',\n",
       "      params: 3,\n",
       "      inputFormatter: [Array],\n",
       "      outputFormatter: undefined,\n",
       "      transformPayload: undefined,\n",
       "      extraFormatters: undefined,\n",
       "      requestManager: [RequestManager],\n",
       "      accounts: [Accounts],\n",
       "      defaultBlock: 'latest',\n",
       "      defaultAccount: null\n",
       "    },\n",
       "    request: [Function: bound ],\n",
       "    call: 'eth_getStorageAt'\n",
       "  },\n",
       "  getCode: [Function: send] {\n",
       "    method: Method {\n",
       "      name: 'getCode',\n",
       "      call: 'eth_getCode',\n",
       "      params: 2,\n",
       "      inputFormatter: [Array],\n",
       "      outputFormatter: undefined,\n",
       "      transformPayload: undefined,\n",
       "      extraFormatters: undefined,\n",
       "      requestManager: [RequestManager],\n",
       "      accounts: [Accounts],\n",
       "      defaultBlock: 'latest',\n",
       "      defaultAccount: null\n",
       "    },\n",
       "    request: [Function: bound ],\n",
       "    call: 'eth_getCode'\n",
       "  },\n",
       "  getBlock: [Function: send] {\n",
       "    method: Method {\n",
       "      name: 'getBlock',\n",
       "      call: [Function: blockCall],\n",
       "      params: 2,\n",
       "      inputFormatter: [Array],\n",
       "      outputFormatter: [Function: outputBlockFormatter],\n",
       "      transformPayload: undefined,\n",
       "      extraFormatters: undefined,\n",
       "      requestManager: [RequestManager],\n",
       "      accounts: [Accounts],\n",
       "      defaultBlock: 'latest',\n",
       "      defaultAccount: null\n",
       "    },\n",
       "    request: [Function: bound ],\n",
       "    call: [Function: blockCall]\n",
       "  },\n",
       "  getUncle: [Function: send] {\n",
       "    method: Method {\n",
       "      name: 'getUncle',\n",
       "      call: [Function: uncleCall],\n",
       "      params: 2,\n",
       "      inputFormatter: [Array],\n",
       "      outputFormatter: [Function: outputBlockFormatter],\n",
       "      transformPayload: undefined,\n",
       "      extraFormatters: undefined,\n",
       "      requestManager: [RequestManager],\n",
       "      accounts: [Accounts],\n",
       "      defaultBlock: 'latest',\n",
       "      defaultAccount: null\n",
       "    },\n",
       "    request: [Function: bound ],\n",
       "    call: [Function: uncleCall]\n",
       "  },\n",
       "  getBlockTransactionCount: [Function: send] {\n",
       "    method: Method {\n",
       "      name: 'getBlockTransactionCount',\n",
       "      call: [Function: getBlockTransactionCountCall],\n",
       "      params: 1,\n",
       "      inputFormatter: [Array],\n",
       "      outputFormatter: [Function: hexToNumber],\n",
       "      transformPayload: undefined,\n",
       "      extraFormatters: undefined,\n",
       "      requestManager: [RequestManager],\n",
       "      accounts: [Accounts],\n",
       "      defaultBlock: 'latest',\n",
       "      defaultAccount: null\n",
       "    },\n",
       "    request: [Function: bound ],\n",
       "    call: [Function: getBlockTransactionCountCall]\n",
       "  },\n",
       "  getBlockUncleCount: [Function: send] {\n",
       "    method: Method {\n",
       "      name: 'getBlockUncleCount',\n",
       "      call: [Function: uncleCountCall],\n",
       "      params: 1,\n",
       "      inputFormatter: [Array],\n",
       "      outputFormatter: [Function: hexToNumber],\n",
       "      transformPayload: undefined,\n",
       "      extraFormatters: undefined,\n",
       "      requestManager: [RequestManager],\n",
       "      accounts: [Accounts],\n",
       "      defaultBlock: 'latest',\n",
       "      defaultAccount: null\n",
       "    },\n",
       "    request: [Function: bound ],\n",
       "    call: [Function: uncleCountCall]\n",
       "  },\n",
       "  getTransaction: [Function: send] {\n",
       "    method: Method {\n",
       "      name: 'getTransaction',\n",
       "      call: 'eth_getTransactionByHash',\n",
       "      params: 1,\n",
       "      inputFormatter: [Array],\n",
       "      outputFormatter: [Function: outputTransactionFormatter],\n",
       "      transformPayload: undefined,\n",
       "      extraFormatters: undefined,\n",
       "      requestManager: [RequestManager],\n",
       "      accounts: [Accounts],\n",
       "      defaultBlock: 'latest',\n",
       "      defaultAccount: null\n",
       "    },\n",
       "    request: [Function: bound ],\n",
       "    call: 'eth_getTransactionByHash'\n",
       "  },\n",
       "  getTransactionFromBlock: [Function: send] {\n",
       "    method: Method {\n",
       "      name: 'getTransactionFromBlock',\n",
       "      call: [Function: transactionFromBlockCall],\n",
       "      params: 2,\n",
       "      inputFormatter: [Array],\n",
       "      outputFormatter: [Function: outputTransactionFormatter],\n",
       "      transformPayload: undefined,\n",
       "      extraFormatters: undefined,\n",
       "      requestManager: [RequestManager],\n",
       "      accounts: [Accounts],\n",
       "      defaultBlock: 'latest',\n",
       "      defaultAccount: null\n",
       "    },\n",
       "    request: [Function: bound ],\n",
       "    call: [Function: transactionFromBlockCall]\n",
       "  },\n",
       "  getTransactionReceipt: [Function: send] {\n",
       "    method: Method {\n",
       "      name: 'getTransactionReceipt',\n",
       "      call: 'eth_getTransactionReceipt',\n",
       "      params: 1,\n",
       "      inputFormatter: [Array],\n",
       "      outputFormatter: [Function: outputTransactionReceiptFormatter],\n",
       "      transformPayload: undefined,\n",
       "      extraFormatters: undefined,\n",
       "      requestManager: [RequestManager],\n",
       "      accounts: [Accounts],\n",
       "      defaultBlock: 'latest',\n",
       "      defaultAccount: null\n",
       "    },\n",
       "    request: [Function: bound ],\n",
       "    call: 'eth_getTransactionReceipt'\n",
       "  },\n",
       "  getTransactionCount: [Function: send] {\n",
       "    method: Method {\n",
       "      name: 'getTransactionCount',\n",
       "      call: 'eth_getTransactionCount',\n",
       "      params: 2,\n",
       "      inputFormatter: [Array],\n",
       "      outputFormatter: [Function: hexToNumber],\n",
       "      transformPayload: undefined,\n",
       "      extraFormatters: undefined,\n",
       "      requestManager: [RequestManager],\n",
       "      accounts: [Accounts],\n",
       "      defaultBlock: 'latest',\n",
       "      defaultAccount: null\n",
       "    },\n",
       "    request: [Function: bound ],\n",
       "    call: 'eth_getTransactionCount'\n",
       "  },\n",
       "  sendSignedTransaction: [Function: send] {\n",
       "    method: Method {\n",
       "      name: 'sendSignedTransaction',\n",
       "      call: 'eth_sendRawTransaction',\n",
       "      params: 1,\n",
       "      inputFormatter: [Array],\n",
       "      outputFormatter: undefined,\n",
       "      transformPayload: undefined,\n",
       "      extraFormatters: undefined,\n",
       "      requestManager: [RequestManager],\n",
       "      accounts: [Accounts],\n",
       "      defaultBlock: 'latest',\n",
       "      defaultAccount: null\n",
       "    },\n",
       "    request: [Function: bound ],\n",
       "    call: 'eth_sendRawTransaction'\n",
       "  },\n",
       "  signTransaction: [Function: send] {\n",
       "    method: Method {\n",
       "      name: 'signTransaction',\n",
       "      call: 'eth_signTransaction',\n",
       "      params: 1,\n",
       "      inputFormatter: [Array],\n",
       "      outputFormatter: undefined,\n",
       "      transformPayload: undefined,\n",
       "      extraFormatters: undefined,\n",
       "      requestManager: [RequestManager],\n",
       "      accounts: [Accounts],\n",
       "      defaultBlock: 'latest',\n",
       "      defaultAccount: null\n",
       "    },\n",
       "    request: [Function: bound ],\n",
       "    call: 'eth_signTransaction'\n",
       "  },\n",
       "  sendTransaction: [Function: send] {\n",
       "    method: Method {\n",
       "      name: 'sendTransaction',\n",
       "      call: 'eth_sendTransaction',\n",
       "      params: 1,\n",
       "      inputFormatter: [Array],\n",
       "      outputFormatter: undefined,\n",
       "      transformPayload: undefined,\n",
       "      extraFormatters: undefined,\n",
       "      requestManager: [RequestManager],\n",
       "      accounts: [Accounts],\n",
       "      defaultBlock: 'latest',\n",
       "      defaultAccount: null\n",
       "    },\n",
       "    request: [Function: bound ],\n",
       "    call: 'eth_sendTransaction'\n",
       "  },\n",
       "  sign: [Function: send] {\n",
       "    method: Method {\n",
       "      name: 'sign',\n",
       "      call: 'eth_sign',\n",
       "      params: 2,\n",
       "      inputFormatter: [Array],\n",
       "      outputFormatter: undefined,\n",
       "      transformPayload: [Function: transformPayload],\n",
       "      extraFormatters: undefined,\n",
       "      requestManager: [RequestManager],\n",
       "      accounts: [Accounts],\n",
       "      defaultBlock: 'latest',\n",
       "      defaultAccount: null\n",
       "    },\n",
       "    request: [Function: bound ],\n",
       "    call: 'eth_sign'\n",
       "  },\n",
       "  call: [Function: send] {\n",
       "    method: Method {\n",
       "      name: 'call',\n",
       "      call: 'eth_call',\n",
       "      params: 2,\n",
       "      inputFormatter: [Array],\n",
       "      outputFormatter: undefined,\n",
       "      transformPayload: undefined,\n",
       "      extraFormatters: undefined,\n",
       "      requestManager: [RequestManager],\n",
       "      accounts: [Accounts],\n",
       "      defaultBlock: 'latest',\n",
       "      defaultAccount: null\n",
       "    },\n",
       "    request: [Function: bound ],\n",
       "    call: 'eth_call'\n",
       "  },\n",
       "  estimateGas: [Function: send] {\n",
       "    method: Method {\n",
       "      name: 'estimateGas',\n",
       "      call: 'eth_estimateGas',\n",
       "      params: 1,\n",
       "      inputFormatter: [Array],\n",
       "      outputFormatter: [Function: hexToNumber],\n",
       "      transformPayload: undefined,\n",
       "      extraFormatters: undefined,\n",
       "      requestManager: [RequestManager],\n",
       "      accounts: [Accounts],\n",
       "      defaultBlock: 'latest',\n",
       "      defaultAccount: null\n",
       "    },\n",
       "    request: [Function: bound ],\n",
       "    call: 'eth_estimateGas'\n",
       "  },\n",
       "  submitWork: [Function: send] {\n",
       "    method: Method {\n",
       "      name: 'submitWork',\n",
       "      call: 'eth_submitWork',\n",
       "      params: 3,\n",
       "      inputFormatter: undefined,\n",
       "      outputFormatter: undefined,\n",
       "      transformPayload: undefined,\n",
       "      extraFormatters: undefined,\n",
       "      requestManager: [RequestManager],\n",
       "      accounts: [Accounts],\n",
       "      defaultBlock: 'latest',\n",
       "      defaultAccount: null\n",
       "    },\n",
       "    request: [Function: bound ],\n",
       "    call: 'eth_submitWork'\n",
       "  },\n",
       "  getWork: [Function: send] {\n",
       "    method: Method {\n",
       "      name: 'getWork',\n",
       "      call: 'eth_getWork',\n",
       "      params: 0,\n",
       "      inputFormatter: undefined,\n",
       "      outputFormatter: undefined,\n",
       "      transformPayload: undefined,\n",
       "      extraFormatters: undefined,\n",
       "      requestManager: [RequestManager],\n",
       "      accounts: [Accounts],\n",
       "      defaultBlock: 'latest',\n",
       "      defaultAccount: null\n",
       "    },\n",
       "    request: [Function: bound ],\n",
       "    call: 'eth_getWork'\n",
       "  },\n",
       "  getPastLogs: [Function: send] {\n",
       "    method: Method {\n",
       "      name: 'getPastLogs',\n",
       "      call: 'eth_getLogs',\n",
       "      params: 1,\n",
       "      inputFormatter: [Array],\n",
       "      outputFormatter: [Function: outputLogFormatter],\n",
       "      transformPayload: undefined,\n",
       "      extraFormatters: undefined,\n",
       "      requestManager: [RequestManager],\n",
       "      accounts: [Accounts],\n",
       "      defaultBlock: 'latest',\n",
       "      defaultAccount: null\n",
       "    },\n",
       "    request: [Function: bound ],\n",
       "    call: 'eth_getLogs'\n",
       "  },\n",
       "  subscribe: [Function]\n",
       "}"
      ]
     },
     "execution_count": 22,
     "metadata": {},
     "output_type": "execute_result"
    }
   ],
   "source": [
    "web3.eth"
   ]
  },
  {
   "cell_type": "code",
   "execution_count": 32,
   "metadata": {},
   "outputs": [
    {
     "data": {
      "text/plain": [
       "'100000000000000000000'"
      ]
     },
     "execution_count": 32,
     "metadata": {},
     "output_type": "execute_result"
    }
   ],
   "source": [
    "var addr1 = '0x3b089cCb6835860eCfb12cC073e723a544a1937E'\n",
    "web3.eth.getBalance(addr1) //100eth = 100 * 10^18 Wei"
   ]
  },
  {
   "cell_type": "code",
   "execution_count": 33,
   "metadata": {},
   "outputs": [
    {
     "data": {
      "text/plain": [
       "'0x3b089ccb6835860ecfb12cc073e723a544a1937e'"
      ]
     },
     "execution_count": 33,
     "metadata": {},
     "output_type": "execute_result"
    }
   ],
   "source": [
    "web3.eth.getCoinbase() //the coinbase address to which mining rewards will go."
   ]
  },
  {
   "cell_type": "code",
   "execution_count": 34,
   "metadata": {
    "scrolled": true
   },
   "outputs": [
    {
     "data": {
      "text/plain": [
       "[\n",
       "  '0x3b089cCb6835860eCfb12cC073e723a544a1937E',\n",
       "  '0xAE6946590cCd7979153FbcE4Ff6CBdfB2331F7b3',\n",
       "  '0x514a5A14D9cf277B1b134159C5ee14a44f6c7420',\n",
       "  '0xFd6fF9702e505Cb2C1B2BC14bDb5D6b2e3e54260',\n",
       "  '0x858A4BFf71fEB5e5359405d895c18b70b1792E4F',\n",
       "  '0x8213806b2A2B5aA222F4c552626dB706B626A3bf',\n",
       "  '0xE02FA7fE062553Df6cAA0d9dd4a1e2672d4C5428',\n",
       "  '0xDeCC32b6C513c2D54B0C485a0b6251c0Dd3eaF34',\n",
       "  '0x37fE73Beef5E98E28a4a1985c156d93Eff2F9593',\n",
       "  '0x05991DA89D594114084C6944738fA72BEC1cD299'\n",
       "]"
      ]
     },
     "execution_count": 34,
     "metadata": {},
     "output_type": "execute_result"
    }
   ],
   "source": [
    "web3.eth.getAccounts() // 获取全部账户"
   ]
  },
  {
   "cell_type": "code",
   "execution_count": 58,
   "metadata": {},
   "outputs": [
    {
     "data": {
      "text/plain": [
       "false"
      ]
     },
     "execution_count": 58,
     "metadata": {},
     "output_type": "execute_result"
    }
   ],
   "source": [
    "list = web3.eth.getAccounts()\n",
    "list instanceof Array  //返回并不一个列表，而是promise. "
   ]
  },
  {
   "cell_type": "code",
   "execution_count": 73,
   "metadata": {},
   "outputs": [
    {
     "data": {
      "text/plain": [
       "true"
      ]
     },
     "execution_count": 73,
     "metadata": {},
     "output_type": "execute_result"
    }
   ],
   "source": [
    "list instanceof Promise"
   ]
  },
  {
   "cell_type": "code",
   "execution_count": 74,
   "metadata": {},
   "outputs": [
    {
     "name": "stdout",
     "output_type": "stream",
     "text": [
      "first addr: 0x3b089cCb6835860eCfb12cC073e723a544a1937E\n"
     ]
    }
   ],
   "source": [
    "var list1;\n",
    "web3.eth.getAccounts().then(function(add){\n",
    "    list1 = add\n",
    "})\n",
    "console.log(\"first addr: \"+ list1[0])"
   ]
  },
  {
   "cell_type": "code",
   "execution_count": 75,
   "metadata": {},
   "outputs": [
    {
     "name": "stdout",
     "output_type": "stream",
     "text": [
      "second: 0xFd6fF9702e505Cb2C1B2BC14bDb5D6b2e3e54260\n"
     ]
    }
   ],
   "source": [
    "var list2;\n",
    "web3.eth.getAccounts().then(add =>{ //简头函数，不能传入外部的参数。 \n",
    "    list2 = add\n",
    "})\n",
    "console.log(\"second: \"+ list2[3])"
   ]
  },
  {
   "cell_type": "code",
   "execution_count": 41,
   "metadata": {},
   "outputs": [],
   "source": [
    "var addr2 = '0xAE6946590cCd7979153FbcE4Ff6CBdfB2331F7b3'"
   ]
  },
  {
   "cell_type": "code",
   "execution_count": 42,
   "metadata": {
    "scrolled": true
   },
   "outputs": [
    {
     "data": {
      "text/plain": [
       "{\n",
       "  transactionHash: '0x6043efd3204673acf96c1662492d416e7120224b8726050ffbdb92ae14c88c73',\n",
       "  transactionIndex: 0,\n",
       "  blockHash: '0x84a47aad04c0a95eb4fa1dd6eacbe6e47092e7393a7edff87e4630dd728a77d6',\n",
       "  blockNumber: 1,\n",
       "  gasUsed: 21000,\n",
       "  cumulativeGasUsed: 21000,\n",
       "  contractAddress: null,\n",
       "  logs: [],\n",
       "  status: true,\n",
       "  logsBloom: '0x00000000000000000000000000000000000000000000000000000000000000000000000000000000000000000000000000000000000000000000000000000000000000000000000000000000000000000000000000000000000000000000000000000000000000000000000000000000000000000000000000000000000000000000000000000000000000000000000000000000000000000000000000000000000000000000000000000000000000000000000000000000000000000000000000000000000000000000000000000000000000000000000000000000000000000000000000000000000000000000000000000000000000000000000000000000'\n",
       "}"
      ]
     },
     "execution_count": 42,
     "metadata": {},
     "output_type": "execute_result"
    }
   ],
   "source": [
    "web3.eth.sendTransaction({\n",
    "    from:addr1,\n",
    "    to:addr2,\n",
    "    value:'5000000000000'\n",
    "})"
   ]
  },
  {
   "cell_type": "code",
   "execution_count": 48,
   "metadata": {},
   "outputs": [
    {
     "data": {
      "text/plain": [
       "null"
      ]
     },
     "execution_count": 48,
     "metadata": {},
     "output_type": "execute_result"
    }
   ],
   "source": [
    "web3.eth.defaultAccount //Default is undefined"
   ]
  },
  {
   "cell_type": "code",
   "execution_count": 49,
   "metadata": {},
   "outputs": [
    {
     "data": {
      "text/plain": [
       "'0x3b089cCb6835860eCfb12cC073e723a544a1937E'"
      ]
     },
     "execution_count": 49,
     "metadata": {},
     "output_type": "execute_result"
    }
   ],
   "source": [
    "web3.eth.defaultAccount = addr1\n",
    "web3.eth.defaultAccount"
   ]
  },
  {
   "cell_type": "code",
   "execution_count": 50,
   "metadata": {},
   "outputs": [
    {
     "data": {
      "text/plain": [
       "'latest'"
      ]
     },
     "execution_count": 50,
     "metadata": {},
     "output_type": "execute_result"
    }
   ],
   "source": [
    "web3.eth.defaultBlock //default value is “latest” "
   ]
  },
  {
   "cell_type": "code",
   "execution_count": 51,
   "metadata": {},
   "outputs": [
    {
     "data": {
      "text/plain": [
       "'63'"
      ]
     },
     "execution_count": 51,
     "metadata": {},
     "output_type": "execute_result"
    }
   ],
   "source": [
    "web3.eth.getProtocolVersion()"
   ]
  },
  {
   "cell_type": "code",
   "execution_count": 52,
   "metadata": {},
   "outputs": [
    {
     "data": {
      "text/plain": [
       "0"
      ]
     },
     "execution_count": 52,
     "metadata": {},
     "output_type": "execute_result"
    }
   ],
   "source": [
    "web3.eth.getHashrate()"
   ]
  },
  {
   "cell_type": "code",
   "execution_count": 53,
   "metadata": {},
   "outputs": [
    {
     "data": {
      "text/plain": [
       "'2000000000'"
      ]
     },
     "execution_count": 53,
     "metadata": {},
     "output_type": "execute_result"
    }
   ],
   "source": [
    "web3.eth.getGasPrice()"
   ]
  },
  {
   "cell_type": "code",
   "execution_count": 76,
   "metadata": {},
   "outputs": [
    {
     "data": {
      "text/plain": [
       "1"
      ]
     },
     "execution_count": 76,
     "metadata": {},
     "output_type": "execute_result"
    }
   ],
   "source": [
    "web3.eth.getBlockNumber() //Returns the current block number."
   ]
  },
  {
   "cell_type": "code",
   "execution_count": 77,
   "metadata": {},
   "outputs": [
    {
     "data": {
      "text/plain": [
       "'100000005000000000000'"
      ]
     },
     "execution_count": 77,
     "metadata": {},
     "output_type": "execute_result"
    }
   ],
   "source": [
    "web3.eth.getBalance(list1[1])"
   ]
  },
  {
   "cell_type": "code",
   "execution_count": 78,
   "metadata": {},
   "outputs": [
    {
     "data": {
      "text/plain": [
       "{\n",
       "  number: 1,\n",
       "  hash: '0x84a47aad04c0a95eb4fa1dd6eacbe6e47092e7393a7edff87e4630dd728a77d6',\n",
       "  parentHash: '0x7ca52293b00ef090602d8406b173ea4ddc6cd35fc3959e2935ab92bb69d7edab',\n",
       "  mixHash: '0x0000000000000000000000000000000000000000000000000000000000000000',\n",
       "  nonce: '0x0000000000000000',\n",
       "  sha3Uncles: '0x1dcc4de8dec75d7aab85b567b6ccd41ad312451b948a7413f0a142fd40d49347',\n",
       "  logsBloom: '0x00000000000000000000000000000000000000000000000000000000000000000000000000000000000000000000000000000000000000000000000000000000000000000000000000000000000000000000000000000000000000000000000000000000000000000000000000000000000000000000000000000000000000000000000000000000000000000000000000000000000000000000000000000000000000000000000000000000000000000000000000000000000000000000000000000000000000000000000000000000000000000000000000000000000000000000000000000000000000000000000000000000000000000000000000000000',\n",
       "  transactionsRoot: '0x56e81f171bcc55a6ff8345e692c0f86e5b48e01b996cadc001622fb5e363b421',\n",
       "  stateRoot: '0xe7d3e936868f0aa2b9632c7a14f75f941be513f87cb9359d214eefde875aad91',\n",
       "  receiptsRoot: '0x56e81f171bcc55a6ff8345e692c0f86e5b48e01b996cadc001622fb5e363b421',\n",
       "  miner: '0x0000000000000000000000000000000000000000',\n",
       "  difficulty: '0',\n",
       "  totalDifficulty: '0',\n",
       "  extraData: '0x',\n",
       "  size: 1000,\n",
       "  gasLimit: 6721975,\n",
       "  gasUsed: 21000,\n",
       "  timestamp: 1565876882,\n",
       "  transactions: [\n",
       "    '0x6043efd3204673acf96c1662492d416e7120224b8726050ffbdb92ae14c88c73'\n",
       "  ],\n",
       "  uncles: []\n",
       "}"
      ]
     },
     "execution_count": 78,
     "metadata": {},
     "output_type": "execute_result"
    }
   ],
   "source": [
    "web3.eth.getBlock(1) //get the block object. "
   ]
  },
  {
   "cell_type": "code",
   "execution_count": 79,
   "metadata": {},
   "outputs": [
    {
     "data": {
      "text/plain": [
       "1"
      ]
     },
     "execution_count": 79,
     "metadata": {},
     "output_type": "execute_result"
    }
   ],
   "source": [
    "web3.eth.getBlockTransactionCount(1) //Returns the number of transaction in a given block."
   ]
  },
  {
   "cell_type": "code",
   "execution_count": 80,
   "metadata": {},
   "outputs": [
    {
     "data": {
      "text/plain": [
       "{\n",
       "  hash: '0x6043efd3204673acf96c1662492d416e7120224b8726050ffbdb92ae14c88c73',\n",
       "  nonce: 0,\n",
       "  blockHash: '0x84a47aad04c0a95eb4fa1dd6eacbe6e47092e7393a7edff87e4630dd728a77d6',\n",
       "  blockNumber: 1,\n",
       "  transactionIndex: 0,\n",
       "  from: '0x3b089cCb6835860eCfb12cC073e723a544a1937E',\n",
       "  to: '0xAE6946590cCd7979153FbcE4Ff6CBdfB2331F7b3',\n",
       "  value: '5000000000000',\n",
       "  gas: 90000,\n",
       "  gasPrice: '2000000000',\n",
       "  input: '0x0'\n",
       "}"
      ]
     },
     "execution_count": 80,
     "metadata": {},
     "output_type": "execute_result"
    }
   ],
   "source": [
    "var transhash = '0x6043efd3204673acf96c1662492d416e7120224b8726050ffbdb92ae14c88c73'\n",
    "web3.eth.getTransaction(transhash)"
   ]
  },
  {
   "cell_type": "code",
   "execution_count": 81,
   "metadata": {},
   "outputs": [
    {
     "data": {
      "text/plain": [
       "{\n",
       "  transactionHash: '0x6043efd3204673acf96c1662492d416e7120224b8726050ffbdb92ae14c88c73',\n",
       "  transactionIndex: 0,\n",
       "  blockHash: '0x84a47aad04c0a95eb4fa1dd6eacbe6e47092e7393a7edff87e4630dd728a77d6',\n",
       "  blockNumber: 1,\n",
       "  gasUsed: 21000,\n",
       "  cumulativeGasUsed: 21000,\n",
       "  contractAddress: null,\n",
       "  logs: [],\n",
       "  status: true,\n",
       "  logsBloom: '0x00000000000000000000000000000000000000000000000000000000000000000000000000000000000000000000000000000000000000000000000000000000000000000000000000000000000000000000000000000000000000000000000000000000000000000000000000000000000000000000000000000000000000000000000000000000000000000000000000000000000000000000000000000000000000000000000000000000000000000000000000000000000000000000000000000000000000000000000000000000000000000000000000000000000000000000000000000000000000000000000000000000000000000000000000000000'\n",
       "}"
      ]
     },
     "execution_count": 81,
     "metadata": {},
     "output_type": "execute_result"
    }
   ],
   "source": [
    "web3.eth.getTransactionReceipt(transhash)"
   ]
  },
  {
   "cell_type": "code",
   "execution_count": 83,
   "metadata": {},
   "outputs": [
    {
     "data": {
      "text/plain": [
       "1"
      ]
     },
     "execution_count": 83,
     "metadata": {},
     "output_type": "execute_result"
    }
   ],
   "source": [
    "web3.eth.getTransactionCount(list1[0])"
   ]
  },
  {
   "cell_type": "markdown",
   "metadata": {},
   "source": [
    "## utils 模块\n",
    "不需要连接区域链"
   ]
  },
  {
   "cell_type": "markdown",
   "metadata": {},
   "source": [
    "var web3 = require('web3')"
   ]
  },
  {
   "cell_type": "code",
   "execution_count": 84,
   "metadata": {},
   "outputs": [
    {
     "data": {
      "text/plain": [
       "'0xa4'"
      ]
     },
     "execution_count": 84,
     "metadata": {},
     "output_type": "execute_result"
    }
   ],
   "source": [
    "web3.utils.randomHex(1) // 1 byte = 8 bits 需要2个16进制位才能表达 "
   ]
  },
  {
   "cell_type": "code",
   "execution_count": 89,
   "metadata": {},
   "outputs": [
    {
     "data": {
      "text/plain": [
       "BN { negative: 0, words: [ 1284 ], length: 1, red: null }"
      ]
     },
     "execution_count": 89,
     "metadata": {},
     "output_type": "execute_result"
    }
   ],
   "source": [
    "var BN = web3.utils.BN;\n",
    "new BN('13.4')"
   ]
  },
  {
   "cell_type": "code",
   "execution_count": 90,
   "metadata": {},
   "outputs": [
    {
     "data": {
      "text/plain": [
       "'1284'"
      ]
     },
     "execution_count": 90,
     "metadata": {},
     "output_type": "execute_result"
    }
   ],
   "source": [
    "new BN('13.4').toString()"
   ]
  },
  {
   "cell_type": "code",
   "execution_count": 91,
   "metadata": {},
   "outputs": [
    {
     "data": {
      "text/plain": [
       "'0x47173285a8d7341e5e972fc677286384f802f8ef42a5ec5f03bbfa254cb01fad'"
      ]
     },
     "execution_count": 91,
     "metadata": {},
     "output_type": "execute_result"
    }
   ],
   "source": [
    "web3.utils.sha3(\"hello world\")"
   ]
  },
  {
   "cell_type": "code",
   "execution_count": 93,
   "metadata": {},
   "outputs": [
    {
     "data": {
      "text/plain": [
       "'0x47173285a8d7341e5e972fc677286384f802f8ef42a5ec5f03bbfa254cb01fad'"
      ]
     },
     "execution_count": 93,
     "metadata": {},
     "output_type": "execute_result"
    }
   ],
   "source": [
    "web3.utils.keccak256('hello world') // sha3别名"
   ]
  },
  {
   "cell_type": "code",
   "execution_count": 97,
   "metadata": {},
   "outputs": [
    {
     "data": {
      "text/plain": [
       "'1000000000000000000'"
      ]
     },
     "execution_count": 97,
     "metadata": {},
     "output_type": "execute_result"
    }
   ],
   "source": [
    "web3.utils.toWei('1','ether')"
   ]
  },
  {
   "cell_type": "code",
   "execution_count": 98,
   "metadata": {},
   "outputs": [
    {
     "data": {
      "text/plain": [
       "'100000000000000000'"
      ]
     },
     "execution_count": 98,
     "metadata": {},
     "output_type": "execute_result"
    }
   ],
   "source": [
    "web3.utils.toWei('0.1','ether')"
   ]
  },
  {
   "cell_type": "code",
   "execution_count": 99,
   "metadata": {},
   "outputs": [
    {
     "data": {
      "text/plain": [
       "{\n",
       "  noether: '0',\n",
       "  wei: '1',\n",
       "  kwei: '1000',\n",
       "  Kwei: '1000',\n",
       "  babbage: '1000',\n",
       "  femtoether: '1000',\n",
       "  mwei: '1000000',\n",
       "  Mwei: '1000000',\n",
       "  lovelace: '1000000',\n",
       "  picoether: '1000000',\n",
       "  gwei: '1000000000',\n",
       "  Gwei: '1000000000',\n",
       "  shannon: '1000000000',\n",
       "  nanoether: '1000000000',\n",
       "  nano: '1000000000',\n",
       "  szabo: '1000000000000',\n",
       "  microether: '1000000000000',\n",
       "  micro: '1000000000000',\n",
       "  finney: '1000000000000000',\n",
       "  milliether: '1000000000000000',\n",
       "  milli: '1000000000000000',\n",
       "  ether: '1000000000000000000',\n",
       "  kether: '1000000000000000000000',\n",
       "  grand: '1000000000000000000000',\n",
       "  mether: '1000000000000000000000000',\n",
       "  gether: '1000000000000000000000000000',\n",
       "  tether: '1000000000000000000000000000000'\n",
       "}"
      ]
     },
     "execution_count": 99,
     "metadata": {},
     "output_type": "execute_result"
    }
   ],
   "source": [
    "web3.utils.unitMap"
   ]
  },
  {
   "cell_type": "code",
   "execution_count": null,
   "metadata": {},
   "outputs": [],
   "source": []
  }
 ],
 "metadata": {
  "kernelspec": {
   "display_name": "Javascript (Node.js)",
   "language": "javascript",
   "name": "javascript"
  },
  "language_info": {
   "file_extension": ".js",
   "mimetype": "application/javascript",
   "name": "javascript",
   "version": "12.2.0"
  },
  "toc": {
   "base_numbering": 1,
   "nav_menu": {},
   "number_sections": true,
   "sideBar": true,
   "skip_h1_title": false,
   "title_cell": "Table of Contents",
   "title_sidebar": "Contents",
   "toc_cell": false,
   "toc_position": {},
   "toc_section_display": true,
   "toc_window_display": false
  },
  "varInspector": {
   "cols": {
    "lenName": 16,
    "lenType": 16,
    "lenVar": 40
   },
   "kernels_config": {
    "python": {
     "delete_cmd_postfix": "",
     "delete_cmd_prefix": "del ",
     "library": "var_list.py",
     "varRefreshCmd": "print(var_dic_list())"
    },
    "r": {
     "delete_cmd_postfix": ") ",
     "delete_cmd_prefix": "rm(",
     "library": "var_list.r",
     "varRefreshCmd": "cat(var_dic_list()) "
    }
   },
   "types_to_exclude": [
    "module",
    "function",
    "builtin_function_or_method",
    "instance",
    "_Feature"
   ],
   "window_display": false
  }
 },
 "nbformat": 4,
 "nbformat_minor": 2
}
