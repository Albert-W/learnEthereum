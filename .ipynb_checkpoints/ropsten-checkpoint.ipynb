{
 "cells": [
  {
   "cell_type": "code",
   "execution_count": 1,
   "metadata": {},
   "outputs": [],
   "source": [
    "var Web3 = require('web3')\n",
    "var web3 = new Web3(\"https://ropsten.infura.io/\")"
   ]
  },
  {
   "cell_type": "code",
   "execution_count": 2,
   "metadata": {},
   "outputs": [
    {
     "data": {
      "text/plain": [
       "'1.2.1'"
      ]
     },
     "execution_count": 2,
     "metadata": {},
     "output_type": "execute_result"
    }
   ],
   "source": [
    "web3.version"
   ]
  },
  {
   "cell_type": "code",
   "execution_count": 3,
   "metadata": {},
   "outputs": [
    {
     "data": {
      "text/plain": [
       "HttpProvider {\n",
       "  host: 'https://ropsten.infura.io/',\n",
       "  httpsAgent: Agent {\n",
       "    _events: [Object: null prototype] { free: [Function] },\n",
       "    _eventsCount: 1,\n",
       "    _maxListeners: undefined,\n",
       "    defaultPort: 443,\n",
       "    protocol: 'https:',\n",
       "    options: { keepAlive: true, path: null },\n",
       "    requests: {},\n",
       "    sockets: {},\n",
       "    freeSockets: {},\n",
       "    keepAliveMsecs: 1000,\n",
       "    keepAlive: true,\n",
       "    maxSockets: Infinity,\n",
       "    maxFreeSockets: 256,\n",
       "    maxCachedSessions: 100,\n",
       "    _sessionCache: { map: {}, list: [] }\n",
       "  },\n",
       "  timeout: 0,\n",
       "  headers: undefined,\n",
       "  connected: false\n",
       "}"
      ]
     },
     "execution_count": 3,
     "metadata": {},
     "output_type": "execute_result"
    }
   ],
   "source": [
    "web3.currentProvider"
   ]
  },
  {
   "cell_type": "code",
   "execution_count": 4,
   "metadata": {},
   "outputs": [
    {
     "data": {
      "text/plain": [
       "3"
      ]
     },
     "execution_count": 4,
     "metadata": {},
     "output_type": "execute_result"
    }
   ],
   "source": [
    "web3.eth.net.getId()"
   ]
  },
  {
   "cell_type": "code",
   "execution_count": 5,
   "metadata": {},
   "outputs": [
    {
     "data": {
      "text/plain": [
       "3"
      ]
     },
     "execution_count": 5,
     "metadata": {},
     "output_type": "execute_result"
    }
   ],
   "source": [
    "web3.shh.net.getId()"
   ]
  },
  {
   "cell_type": "code",
   "execution_count": 6,
   "metadata": {},
   "outputs": [
    {
     "data": {
      "text/plain": [
       "true"
      ]
     },
     "execution_count": 6,
     "metadata": {},
     "output_type": "execute_result"
    }
   ],
   "source": [
    "web3.eth.net.isListening()"
   ]
  },
  {
   "cell_type": "code",
   "execution_count": 7,
   "metadata": {},
   "outputs": [
    {
     "data": {
      "text/plain": [
       "true"
      ]
     },
     "execution_count": 7,
     "metadata": {},
     "output_type": "execute_result"
    }
   ],
   "source": [
    "web3.shh.net.isListening()"
   ]
  },
  {
   "cell_type": "code",
   "execution_count": 8,
   "metadata": {},
   "outputs": [
    {
     "data": {
      "text/plain": [
       "100"
      ]
     },
     "execution_count": 8,
     "metadata": {},
     "output_type": "execute_result"
    }
   ],
   "source": [
    "web3.eth.net.getPeerCount()"
   ]
  },
  {
   "cell_type": "code",
   "execution_count": 9,
   "metadata": {},
   "outputs": [
    {
     "data": {
      "text/plain": [
       "[]"
      ]
     },
     "execution_count": 9,
     "metadata": {},
     "output_type": "execute_result"
    }
   ],
   "source": [
    "web3.eth.getAccounts()"
   ]
  },
  {
   "cell_type": "code",
   "execution_count": 10,
   "metadata": {},
   "outputs": [
    {
     "data": {
      "text/plain": [
       "100"
      ]
     },
     "execution_count": 10,
     "metadata": {},
     "output_type": "execute_result"
    }
   ],
   "source": [
    "web3.shh.net.getPeerCount()"
   ]
  },
  {
   "cell_type": "code",
   "execution_count": 11,
   "metadata": {},
   "outputs": [
    {
     "ename": "Error",
     "evalue": "Returned error: The method shh_version does not exist/is not available",
     "output_type": "error",
     "traceback": [
      "Error: Returned error: The method shh_version does not exist/is not available",
      "    at Object.ErrorResponse (/home/yichang/.nvm/versions/node/v12.2.0/lib/node_modules/web3/node_modules/web3-core-helpers/src/errors.js:29:16)",
      "    at /home/yichang/.nvm/versions/node/v12.2.0/lib/node_modules/web3/node_modules/web3-core-requestmanager/src/index.js:140:36",
      "    at XMLHttpRequest.request.onreadystatechange (/home/yichang/.nvm/versions/node/v12.2.0/lib/node_modules/web3/node_modules/web3-providers-http/src/index.js:96:13)",
      "    at XMLHttpRequestEventTarget.dispatchEvent (/home/yichang/.nvm/versions/node/v12.2.0/lib/node_modules/web3/node_modules/xhr2-cookies/dist/xml-http-request-event-target.js:34:22)",
      "    at XMLHttpRequest._setReadyState (/home/yichang/.nvm/versions/node/v12.2.0/lib/node_modules/web3/node_modules/xhr2-cookies/dist/xml-http-request.js:208:14)",
      "    at XMLHttpRequest._onHttpResponseEnd (/home/yichang/.nvm/versions/node/v12.2.0/lib/node_modules/web3/node_modules/xhr2-cookies/dist/xml-http-request.js:318:14)",
      "    at IncomingMessage.<anonymous> (/home/yichang/.nvm/versions/node/v12.2.0/lib/node_modules/web3/node_modules/xhr2-cookies/dist/xml-http-request.js:289:61)",
      "    at IncomingMessage.emit (events.js:201:15)",
      "    at endReadableNT (_stream_readable.js:1130:12)",
      "    at processTicksAndRejections (internal/process/task_queues.js:84:9)"
     ]
    }
   ],
   "source": [
    "web3.shh.getVersion()"
   ]
  },
  {
   "cell_type": "code",
   "execution_count": 12,
   "metadata": {},
   "outputs": [
    {
     "ename": "Error",
     "evalue": "Returned error: The method shh_newKeyPair does not exist/is not available",
     "output_type": "error",
     "traceback": [
      "Error: Returned error: The method shh_newKeyPair does not exist/is not available",
      "    at Object.ErrorResponse (/home/yichang/.nvm/versions/node/v12.2.0/lib/node_modules/web3/node_modules/web3-core-helpers/src/errors.js:29:16)",
      "    at /home/yichang/.nvm/versions/node/v12.2.0/lib/node_modules/web3/node_modules/web3-core-requestmanager/src/index.js:140:36",
      "    at XMLHttpRequest.request.onreadystatechange (/home/yichang/.nvm/versions/node/v12.2.0/lib/node_modules/web3/node_modules/web3-providers-http/src/index.js:96:13)",
      "    at XMLHttpRequestEventTarget.dispatchEvent (/home/yichang/.nvm/versions/node/v12.2.0/lib/node_modules/web3/node_modules/xhr2-cookies/dist/xml-http-request-event-target.js:34:22)",
      "    at XMLHttpRequest._setReadyState (/home/yichang/.nvm/versions/node/v12.2.0/lib/node_modules/web3/node_modules/xhr2-cookies/dist/xml-http-request.js:208:14)",
      "    at XMLHttpRequest._onHttpResponseEnd (/home/yichang/.nvm/versions/node/v12.2.0/lib/node_modules/web3/node_modules/xhr2-cookies/dist/xml-http-request.js:318:14)",
      "    at IncomingMessage.<anonymous> (/home/yichang/.nvm/versions/node/v12.2.0/lib/node_modules/web3/node_modules/xhr2-cookies/dist/xml-http-request.js:289:61)",
      "    at IncomingMessage.emit (events.js:201:15)",
      "    at endReadableNT (_stream_readable.js:1130:12)",
      "    at processTicksAndRejections (internal/process/task_queues.js:84:9)"
     ]
    }
   ],
   "source": [
    "web3.shh.newKeyPair()"
   ]
  },
  {
   "cell_type": "code",
   "execution_count": 13,
   "metadata": {},
   "outputs": [
    {
     "ename": "Error",
     "evalue": "Returned error: The method shh_version does not exist/is not available",
     "output_type": "error",
     "traceback": [
      "Error: Returned error: The method shh_version does not exist/is not available",
      "    at Object.ErrorResponse (/home/yichang/.nvm/versions/node/v12.2.0/lib/node_modules/web3/node_modules/web3-core-helpers/src/errors.js:29:16)",
      "    at /home/yichang/.nvm/versions/node/v12.2.0/lib/node_modules/web3/node_modules/web3-core-requestmanager/src/index.js:140:36",
      "    at XMLHttpRequest.request.onreadystatechange (/home/yichang/.nvm/versions/node/v12.2.0/lib/node_modules/web3/node_modules/web3-providers-http/src/index.js:96:13)",
      "    at XMLHttpRequestEventTarget.dispatchEvent (/home/yichang/.nvm/versions/node/v12.2.0/lib/node_modules/web3/node_modules/xhr2-cookies/dist/xml-http-request-event-target.js:34:22)",
      "    at XMLHttpRequest._setReadyState (/home/yichang/.nvm/versions/node/v12.2.0/lib/node_modules/web3/node_modules/xhr2-cookies/dist/xml-http-request.js:208:14)",
      "    at XMLHttpRequest._onHttpResponseEnd (/home/yichang/.nvm/versions/node/v12.2.0/lib/node_modules/web3/node_modules/xhr2-cookies/dist/xml-http-request.js:318:14)",
      "    at IncomingMessage.<anonymous> (/home/yichang/.nvm/versions/node/v12.2.0/lib/node_modules/web3/node_modules/xhr2-cookies/dist/xml-http-request.js:289:61)",
      "    at IncomingMessage.emit (events.js:201:15)",
      "    at endReadableNT (_stream_readable.js:1130:12)",
      "    at processTicksAndRejections (internal/process/task_queues.js:84:9)"
     ]
    }
   ],
   "source": [
    "web3.shh.getVersion()"
   ]
  },
  {
   "cell_type": "code",
   "execution_count": 14,
   "metadata": {},
   "outputs": [],
   "source": [
    "var add1 = '0xea6aa737825976181C5Dbb3eC71D5050D86DFa6E'\n",
    "var add2 = '0x514a5A14D9cf277B1b134159C5ee14a44f6c7420'"
   ]
  },
  {
   "cell_type": "code",
   "execution_count": 15,
   "metadata": {},
   "outputs": [
    {
     "ename": "Error",
     "evalue": "Returned error: The method eth_sendTransaction does not exist/is not available",
     "output_type": "error",
     "traceback": [
      "Error: Returned error: The method eth_sendTransaction does not exist/is not available",
      "    at Object.ErrorResponse (/home/yichang/.nvm/versions/node/v12.2.0/lib/node_modules/web3/node_modules/web3-core-helpers/src/errors.js:29:16)",
      "    at /home/yichang/.nvm/versions/node/v12.2.0/lib/node_modules/web3/node_modules/web3-core-requestmanager/src/index.js:140:36",
      "    at XMLHttpRequest.request.onreadystatechange (/home/yichang/.nvm/versions/node/v12.2.0/lib/node_modules/web3/node_modules/web3-providers-http/src/index.js:96:13)",
      "    at XMLHttpRequestEventTarget.dispatchEvent (/home/yichang/.nvm/versions/node/v12.2.0/lib/node_modules/web3/node_modules/xhr2-cookies/dist/xml-http-request-event-target.js:34:22)",
      "    at XMLHttpRequest._setReadyState (/home/yichang/.nvm/versions/node/v12.2.0/lib/node_modules/web3/node_modules/xhr2-cookies/dist/xml-http-request.js:208:14)",
      "    at XMLHttpRequest._onHttpResponseEnd (/home/yichang/.nvm/versions/node/v12.2.0/lib/node_modules/web3/node_modules/xhr2-cookies/dist/xml-http-request.js:318:14)",
      "    at IncomingMessage.<anonymous> (/home/yichang/.nvm/versions/node/v12.2.0/lib/node_modules/web3/node_modules/xhr2-cookies/dist/xml-http-request.js:289:61)",
      "    at IncomingMessage.emit (events.js:201:15)",
      "    at endReadableNT (_stream_readable.js:1130:12)",
      "    at processTicksAndRejections (internal/process/task_queues.js:84:9)"
     ]
    }
   ],
   "source": [
    "web3.eth.sendTransaction({\n",
    "    from:add1,\n",
    "    to:add2,\n",
    "    value:web3.utils.toWei('0.15','ether')\n",
    "})"
   ]
  },
  {
   "cell_type": "code",
   "execution_count": 16,
   "metadata": {},
   "outputs": [
    {
     "data": {
      "text/plain": [
       "'10999940162000000000'"
      ]
     },
     "execution_count": 16,
     "metadata": {},
     "output_type": "execute_result"
    }
   ],
   "source": [
    "web3.eth.getBalance(add1)"
   ]
  },
  {
   "cell_type": "code",
   "execution_count": 17,
   "metadata": {},
   "outputs": [
    {
     "ename": "Error",
     "evalue": "Returned error: The method eth_signTransaction does not exist/is not available",
     "output_type": "error",
     "traceback": [
      "Error: Returned error: The method eth_signTransaction does not exist/is not available",
      "    at Object.ErrorResponse (/home/yichang/.nvm/versions/node/v12.2.0/lib/node_modules/web3/node_modules/web3-core-helpers/src/errors.js:29:16)",
      "    at /home/yichang/.nvm/versions/node/v12.2.0/lib/node_modules/web3/node_modules/web3-core-requestmanager/src/index.js:140:36",
      "    at XMLHttpRequest.request.onreadystatechange (/home/yichang/.nvm/versions/node/v12.2.0/lib/node_modules/web3/node_modules/web3-providers-http/src/index.js:96:13)",
      "    at XMLHttpRequestEventTarget.dispatchEvent (/home/yichang/.nvm/versions/node/v12.2.0/lib/node_modules/web3/node_modules/xhr2-cookies/dist/xml-http-request-event-target.js:34:22)",
      "    at XMLHttpRequest._setReadyState (/home/yichang/.nvm/versions/node/v12.2.0/lib/node_modules/web3/node_modules/xhr2-cookies/dist/xml-http-request.js:208:14)",
      "    at XMLHttpRequest._onHttpResponseEnd (/home/yichang/.nvm/versions/node/v12.2.0/lib/node_modules/web3/node_modules/xhr2-cookies/dist/xml-http-request.js:318:14)",
      "    at IncomingMessage.<anonymous> (/home/yichang/.nvm/versions/node/v12.2.0/lib/node_modules/web3/node_modules/xhr2-cookies/dist/xml-http-request.js:289:61)",
      "    at IncomingMessage.emit (events.js:201:15)",
      "    at endReadableNT (_stream_readable.js:1130:12)",
      "    at processTicksAndRejections (internal/process/task_queues.js:84:9)"
     ]
    }
   ],
   "source": [
    "web3.eth.signTransaction({\n",
    "    from:add1,\n",
    "    to:add2,\n",
    "    value:web3.utils.toWei('0.35','ether'),\n",
    "    data:web3.utils.toHex(\"hello address one.\")\n",
    "})"
   ]
  },
  {
   "cell_type": "code",
   "execution_count": null,
   "metadata": {},
   "outputs": [],
   "source": []
  }
 ],
 "metadata": {
  "kernelspec": {
   "display_name": "Javascript (Node.js)",
   "language": "javascript",
   "name": "javascript"
  },
  "language_info": {
   "file_extension": ".js",
   "mimetype": "application/javascript",
   "name": "javascript",
   "version": "12.2.0"
  },
  "toc": {
   "base_numbering": 1,
   "nav_menu": {},
   "number_sections": true,
   "sideBar": true,
   "skip_h1_title": false,
   "title_cell": "Table of Contents",
   "title_sidebar": "Contents",
   "toc_cell": false,
   "toc_position": {},
   "toc_section_display": true,
   "toc_window_display": false
  },
  "varInspector": {
   "cols": {
    "lenName": 16,
    "lenType": 16,
    "lenVar": 40
   },
   "kernels_config": {
    "python": {
     "delete_cmd_postfix": "",
     "delete_cmd_prefix": "del ",
     "library": "var_list.py",
     "varRefreshCmd": "print(var_dic_list())"
    },
    "r": {
     "delete_cmd_postfix": ") ",
     "delete_cmd_prefix": "rm(",
     "library": "var_list.r",
     "varRefreshCmd": "cat(var_dic_list()) "
    }
   },
   "types_to_exclude": [
    "module",
    "function",
    "builtin_function_or_method",
    "instance",
    "_Feature"
   ],
   "window_display": false
  }
 },
 "nbformat": 4,
 "nbformat_minor": 2
}
