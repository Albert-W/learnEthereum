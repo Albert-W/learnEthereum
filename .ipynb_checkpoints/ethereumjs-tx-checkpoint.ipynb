{
 "cells": [
  {
   "cell_type": "code",
   "execution_count": 2,
   "metadata": {
    "scrolled": true
   },
   "outputs": [],
   "source": [
    "var Web3 = require('web3')\n",
    "var web3 = new Web3('HTTP://127.0.0.1:7545')\n",
    "const EthereumTx = require('ethereumjs-tx').Transaction"
   ]
  },
  {
   "cell_type": "code",
   "execution_count": 3,
   "metadata": {},
   "outputs": [],
   "source": [
    "var list1;\n",
    "web3.eth.getAccounts().then(function(add){\n",
    "    list1 = add\n",
    "})"
   ]
  },
  {
   "cell_type": "code",
   "execution_count": 4,
   "metadata": {},
   "outputs": [
    {
     "data": {
      "text/plain": [
       "'0x61b11Aa9A43ed81Ed8ec42564FECCb28F3a3dc9f'"
      ]
     },
     "execution_count": 4,
     "metadata": {},
     "output_type": "execute_result"
    }
   ],
   "source": [
    "list1[0]"
   ]
  },
  {
   "cell_type": "code",
   "execution_count": 5,
   "metadata": {
    "scrolled": true
   },
   "outputs": [
    {
     "data": {
      "text/plain": [
       "{\n",
       "  number: 3,\n",
       "  hash: '0x75a83af650ce54ba9b63b46d039cc929e079c7a964fc6ac23d841fc7d6f5e05f',\n",
       "  parentHash: '0xa22859a48543c18804da3353b3c1b8587269253e2ec0ccbf613c91c7423cd9f4',\n",
       "  mixHash: '0x0000000000000000000000000000000000000000000000000000000000000000',\n",
       "  nonce: '0x0000000000000000',\n",
       "  sha3Uncles: '0x1dcc4de8dec75d7aab85b567b6ccd41ad312451b948a7413f0a142fd40d49347',\n",
       "  logsBloom: '0x00000000000000000000000000000000000000000000000000000000000000000000000000000000000000000000000000000000000000000000000000000000000000000000000000000000000000000000000000000000000000000000000000000000000000000000000000000000000000000000000000000000000000000000000000000000000000000000000000000000000000000000000000000000000000000000000000000000000000000000000000000000000000000000000000000000000000000000000000000000000000000000000000000000000000000000000000000000000000000000000000000000000000000000000000000000',\n",
       "  transactionsRoot: '0x4e0ee22095807e036378afbe1038aa9045c51ac8b5203fa984e639851ee16429',\n",
       "  stateRoot: '0x4c9d17968ad5dd77fe124a5aaeee5b46f1f112b21e9990d20e9feb115ffdedf6',\n",
       "  receiptsRoot: '0x056b23fbba480696b65fe5a59b8f2148a1299103c4f57df839233af2cf4ca2d2',\n",
       "  miner: '0x0000000000000000000000000000000000000000',\n",
       "  difficulty: '0',\n",
       "  totalDifficulty: '0',\n",
       "  extraData: '0x',\n",
       "  size: 1000,\n",
       "  gasLimit: 6721975,\n",
       "  gasUsed: 21000,\n",
       "  timestamp: 1566223896,\n",
       "  transactions: [\n",
       "    '0xc8ed97f94fe3f7b96f59e3423382ad96592cb069059ba408786d0dbf19543237'\n",
       "  ],\n",
       "  uncles: []\n",
       "}"
      ]
     },
     "execution_count": 5,
     "metadata": {},
     "output_type": "execute_result"
    }
   ],
   "source": [
    "web3.eth.getBlock('latest')"
   ]
  },
  {
   "cell_type": "code",
   "execution_count": 9,
   "metadata": {},
   "outputs": [],
   "source": [
    "var rawTx = {\n",
    "    nonce:'0x03',\n",
    "    from: list1[0],\n",
    "    to:list1[1],\n",
    "    value:'0',\n",
    "    gasPrice: '0',\n",
    "    gasLimit: '210',\n",
    "}"
   ]
  },
  {
   "cell_type": "code",
   "execution_count": 10,
   "metadata": {},
   "outputs": [],
   "source": [
    "var tx = new EthereumTx(rawTx);\n",
    "var privatekey = Buffer.from('50b25f3c421b4e1201d25c8ae2ef10ecdbc921e15526e3822088cef083d0e374','hex');\n",
    "tx.sign(privatekey);"
   ]
  },
  {
   "cell_type": "code",
   "execution_count": 11,
   "metadata": {},
   "outputs": [
    {
     "name": "stdout",
     "output_type": "stream",
     "text": [
      "{\n",
      "  transactionHash: '0xde2f0f8d9ab8057161f45ddce1d9ae3afcd3c6cea9478d0b9076990ce5dc5141',\n",
      "  transactionIndex: 0,\n",
      "  blockHash: '0x97dd232d0058c445f2eed08db6ede337362e789561149a6c2f4862d68d9b267a',\n",
      "  blockNumber: 4,\n",
      "  from: '0x61b11aa9a43ed81ed8ec42564feccb28f3a3dc9f',\n",
      "  to: '0x9479ee8981ab2965f590138fc63ebdf61cad4ca7',\n",
      "  gasUsed: 21000,\n",
      "  cumulativeGasUsed: 21000,\n",
      "  contractAddress: null,\n",
      "  logs: [],\n",
      "  status: true,\n",
      "  logsBloom: '0x00000000000000000000000000000000000000000000000000000000000000000000000000000000000000000000000000000000000000000000000000000000000000000000000000000000000000000000000000000000000000000000000000000000000000000000000000000000000000000000000000000000000000000000000000000000000000000000000000000000000000000000000000000000000000000000000000000000000000000000000000000000000000000000000000000000000000000000000000000000000000000000000000000000000000000000000000000000000000000000000000000000000000000000000000000000',\n",
      "  v: '0x25',\n",
      "  r: '0x0912ab3c80078241c618ec53fa6a61bc5663b7f210953f6dabbf2806da07eca7',\n",
      "  s: '0x092c0e5948bb124ad6ce4ebde1b68c44705d03f22b4063fc52cc88160973484c'\n",
      "}\n"
     ]
    },
    {
     "data": {
      "text/plain": [
       "{\n",
       "  transactionHash: '0xde2f0f8d9ab8057161f45ddce1d9ae3afcd3c6cea9478d0b9076990ce5dc5141',\n",
       "  transactionIndex: 0,\n",
       "  blockHash: '0x97dd232d0058c445f2eed08db6ede337362e789561149a6c2f4862d68d9b267a',\n",
       "  blockNumber: 4,\n",
       "  from: '0x61b11aa9a43ed81ed8ec42564feccb28f3a3dc9f',\n",
       "  to: '0x9479ee8981ab2965f590138fc63ebdf61cad4ca7',\n",
       "  gasUsed: 21000,\n",
       "  cumulativeGasUsed: 21000,\n",
       "  contractAddress: null,\n",
       "  logs: [],\n",
       "  status: true,\n",
       "  logsBloom: '0x00000000000000000000000000000000000000000000000000000000000000000000000000000000000000000000000000000000000000000000000000000000000000000000000000000000000000000000000000000000000000000000000000000000000000000000000000000000000000000000000000000000000000000000000000000000000000000000000000000000000000000000000000000000000000000000000000000000000000000000000000000000000000000000000000000000000000000000000000000000000000000000000000000000000000000000000000000000000000000000000000000000000000000000000000000000',\n",
       "  v: '0x25',\n",
       "  r: '0x0912ab3c80078241c618ec53fa6a61bc5663b7f210953f6dabbf2806da07eca7',\n",
       "  s: '0x092c0e5948bb124ad6ce4ebde1b68c44705d03f22b4063fc52cc88160973484c'\n",
       "}"
      ]
     },
     "execution_count": 11,
     "metadata": {},
     "output_type": "execute_result"
    }
   ],
   "source": [
    "var serializedTx = tx.serialize();\n",
    "web3.eth.sendSignedTransaction('0x' + serializedTx.toString('hex'))\n",
    ".on('receipt', console.log);"
   ]
  },
  {
   "cell_type": "code",
   "execution_count": 12,
   "metadata": {},
   "outputs": [],
   "source": [
    "var rawTx1 = {\n",
    "    nonce:'0x01',\n",
    "    from: list1[0],\n",
    "    to:list1[1],\n",
    "    value:web3.utils.toHex(web3.utils.toWei('0.15','ether')),\n",
    "    gasPrice: '0',\n",
    "    gasLimit: '210',\n",
    "}"
   ]
  },
  {
   "cell_type": "code",
   "execution_count": 13,
   "metadata": {},
   "outputs": [
    {
     "ename": "Error",
     "evalue": "Returned error: the tx doesn't have the correct nonce. account has nonce of: 4 tx has nonce of: 1",
     "output_type": "error",
     "traceback": [
      "Error: Returned error: the tx doesn't have the correct nonce. account has nonce of: 4 tx has nonce of: 1",
      "    at Object.ErrorResponse (/home/yichang/.nvm/versions/node/v12.2.0/lib/node_modules/web3/node_modules/web3-core-helpers/src/errors.js:29:16)",
      "    at /home/yichang/.nvm/versions/node/v12.2.0/lib/node_modules/web3/node_modules/web3-core-requestmanager/src/index.js:140:36",
      "    at XMLHttpRequest.request.onreadystatechange (/home/yichang/.nvm/versions/node/v12.2.0/lib/node_modules/web3/node_modules/web3-providers-http/src/index.js:96:13)",
      "    at XMLHttpRequestEventTarget.dispatchEvent (/home/yichang/.nvm/versions/node/v12.2.0/lib/node_modules/web3/node_modules/xhr2-cookies/dist/xml-http-request-event-target.js:34:22)",
      "    at XMLHttpRequest._setReadyState (/home/yichang/.nvm/versions/node/v12.2.0/lib/node_modules/web3/node_modules/xhr2-cookies/dist/xml-http-request.js:208:14)",
      "    at XMLHttpRequest._onHttpResponseEnd (/home/yichang/.nvm/versions/node/v12.2.0/lib/node_modules/web3/node_modules/xhr2-cookies/dist/xml-http-request.js:318:14)",
      "    at IncomingMessage.<anonymous> (/home/yichang/.nvm/versions/node/v12.2.0/lib/node_modules/web3/node_modules/xhr2-cookies/dist/xml-http-request.js:289:61)",
      "    at IncomingMessage.emit (events.js:201:15)",
      "    at endReadableNT (_stream_readable.js:1130:12)",
      "    at processTicksAndRejections (internal/process/task_queues.js:84:9)"
     ]
    }
   ],
   "source": [
    "var tx1 = new EthereumTx(rawTx1);\n",
    "tx1.sign(privatekey);\n",
    "var serializedTx = tx1.serialize();\n",
    "web3.eth.sendSignedTransaction('0x' + serializedTx.toString('hex'))\n",
    ".on('receipt', console.log);"
   ]
  },
  {
   "cell_type": "code",
   "execution_count": 14,
   "metadata": {},
   "outputs": [
    {
     "data": {
      "text/plain": [
       "<Buffer f8 68 01 30 83 32 31 30 94 94 79 ee 89 81 ab 29 65 f5 90 13 8f c6 3e bd f6 1c ad 4c a7 88 02 14 e8 34 8c 4f 00 00 80 26 a0 91 39 9c 86 51 5d b7 95 34 ... 56 more bytes>"
      ]
     },
     "execution_count": 14,
     "metadata": {},
     "output_type": "execute_result"
    }
   ],
   "source": [
    "serializedTx"
   ]
  },
  {
   "cell_type": "code",
   "execution_count": 15,
   "metadata": {},
   "outputs": [
    {
     "data": {
      "text/plain": [
       "'f868013083323130949479ee8981ab2965f590138fc63ebdf61cad4ca7880214e8348c4f00008026a091399c86515db79534436d722b2726a73f3299a8ad27380c77aad16d1d4943f5a04eeb9184e11233a4afb833f6f3bdbf95927d6821409af39963399e0fb6786c74'"
      ]
     },
     "execution_count": 15,
     "metadata": {},
     "output_type": "execute_result"
    }
   ],
   "source": [
    "serializedTx.toString('hex')"
   ]
  },
  {
   "cell_type": "code",
   "execution_count": null,
   "metadata": {},
   "outputs": [],
   "source": []
  }
 ],
 "metadata": {
  "kernelspec": {
   "display_name": "Javascript (Node.js)",
   "language": "javascript",
   "name": "javascript"
  },
  "language_info": {
   "file_extension": ".js",
   "mimetype": "application/javascript",
   "name": "javascript",
   "version": "12.2.0"
  },
  "toc": {
   "base_numbering": 1,
   "nav_menu": {},
   "number_sections": true,
   "sideBar": true,
   "skip_h1_title": false,
   "title_cell": "Table of Contents",
   "title_sidebar": "Contents",
   "toc_cell": false,
   "toc_position": {},
   "toc_section_display": true,
   "toc_window_display": false
  },
  "varInspector": {
   "cols": {
    "lenName": 16,
    "lenType": 16,
    "lenVar": 40
   },
   "kernels_config": {
    "python": {
     "delete_cmd_postfix": "",
     "delete_cmd_prefix": "del ",
     "library": "var_list.py",
     "varRefreshCmd": "print(var_dic_list())"
    },
    "r": {
     "delete_cmd_postfix": ") ",
     "delete_cmd_prefix": "rm(",
     "library": "var_list.r",
     "varRefreshCmd": "cat(var_dic_list()) "
    }
   },
   "types_to_exclude": [
    "module",
    "function",
    "builtin_function_or_method",
    "instance",
    "_Feature"
   ],
   "window_display": false
  }
 },
 "nbformat": 4,
 "nbformat_minor": 2
}
