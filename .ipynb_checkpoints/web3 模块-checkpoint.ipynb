{
 "cells": [
  {
   "cell_type": "markdown",
   "metadata": {},
   "source": [
    "## web3"
   ]
  },
  {
   "cell_type": "code",
   "execution_count": 1,
   "metadata": {},
   "outputs": [
    {
     "data": {
      "text/plain": [
       "'1.2.1'"
      ]
     },
     "execution_count": 1,
     "metadata": {},
     "output_type": "execute_result"
    }
   ],
   "source": [
    "var web3 = require('web3')\n",
    "web3.version"
   ]
  },
  {
   "cell_type": "code",
   "execution_count": 2,
   "metadata": {},
   "outputs": [
    {
     "data": {
      "text/plain": [
       "{\n",
       "  WebsocketProvider: [Function: WebsocketProvider],\n",
       "  HttpProvider: [Function: HttpProvider],\n",
       "  IpcProvider: [Function: IpcProvider]\n",
       "}"
      ]
     },
     "execution_count": 2,
     "metadata": {},
     "output_type": "execute_result"
    }
   ],
   "source": [
    "web3.providers"
   ]
  },
  {
   "cell_type": "code",
   "execution_count": 3,
   "metadata": {},
   "outputs": [],
   "source": [
    "var web3 = new web3('HTTP://127.0.0.1:7545')"
   ]
  },
  {
   "cell_type": "code",
   "execution_count": 4,
   "metadata": {},
   "outputs": [
    {
     "data": {
      "text/plain": [
       "HttpProvider {\n",
       "  host: 'HTTP://127.0.0.1:7545',\n",
       "  httpAgent: Agent {\n",
       "    _events: [Object: null prototype] { free: [Function] },\n",
       "    _eventsCount: 1,\n",
       "    _maxListeners: undefined,\n",
       "    defaultPort: 80,\n",
       "    protocol: 'http:',\n",
       "    options: { keepAlive: true, path: null },\n",
       "    requests: {},\n",
       "    sockets: {},\n",
       "    freeSockets: {},\n",
       "    keepAliveMsecs: 1000,\n",
       "    keepAlive: true,\n",
       "    maxSockets: Infinity,\n",
       "    maxFreeSockets: 256\n",
       "  },\n",
       "  timeout: 0,\n",
       "  headers: undefined,\n",
       "  connected: false\n",
       "}"
      ]
     },
     "execution_count": 4,
     "metadata": {},
     "output_type": "execute_result"
    }
   ],
   "source": [
    "web3.currentProvider"
   ]
  },
  {
   "cell_type": "code",
   "execution_count": 5,
   "metadata": {},
   "outputs": [
    {
     "data": {
      "text/plain": [
       "HttpProvider {\n",
       "  host: 'HTTP://127.0.0.1:7545',\n",
       "  httpAgent: Agent {\n",
       "    _events: [Object: null prototype] { free: [Function] },\n",
       "    _eventsCount: 1,\n",
       "    _maxListeners: undefined,\n",
       "    defaultPort: 80,\n",
       "    protocol: 'http:',\n",
       "    options: { keepAlive: true, path: null },\n",
       "    requests: {},\n",
       "    sockets: {},\n",
       "    freeSockets: {},\n",
       "    keepAliveMsecs: 1000,\n",
       "    keepAlive: true,\n",
       "    maxSockets: Infinity,\n",
       "    maxFreeSockets: 256\n",
       "  },\n",
       "  timeout: 0,\n",
       "  headers: undefined,\n",
       "  connected: false\n",
       "}"
      ]
     },
     "execution_count": 5,
     "metadata": {},
     "output_type": "execute_result"
    }
   ],
   "source": [
    "web3.shh.currentProvider // interacting with the whisper protocol "
   ]
  },
  {
   "cell_type": "code",
   "execution_count": 6,
   "metadata": {},
   "outputs": [
    {
     "data": {
      "text/plain": [
       "HttpProvider {\n",
       "  host: 'HTTP://127.0.0.1:7545',\n",
       "  httpAgent: Agent {\n",
       "    _events: [Object: null prototype] { free: [Function] },\n",
       "    _eventsCount: 1,\n",
       "    _maxListeners: undefined,\n",
       "    defaultPort: 80,\n",
       "    protocol: 'http:',\n",
       "    options: { keepAlive: true, path: null },\n",
       "    requests: {},\n",
       "    sockets: {},\n",
       "    freeSockets: {},\n",
       "    keepAliveMsecs: 1000,\n",
       "    keepAlive: true,\n",
       "    maxSockets: Infinity,\n",
       "    maxFreeSockets: 256\n",
       "  },\n",
       "  timeout: 0,\n",
       "  headers: undefined,\n",
       "  connected: false\n",
       "}"
      ]
     },
     "execution_count": 6,
     "metadata": {},
     "output_type": "execute_result"
    }
   ],
   "source": [
    "web3.eth.currentProvider //interacting with the Ethereum network"
   ]
  },
  {
   "cell_type": "code",
   "execution_count": 7,
   "metadata": {},
   "outputs": [
    {
     "data": {
      "text/plain": [
       "null"
      ]
     },
     "execution_count": 7,
     "metadata": {},
     "output_type": "execute_result"
    }
   ],
   "source": [
    "web3.bzz.currentProvider //interacting with the swarm network"
   ]
  },
  {
   "cell_type": "code",
   "execution_count": 8,
   "metadata": {},
   "outputs": [
    {
     "data": {
      "text/plain": [
       "5777"
      ]
     },
     "execution_count": 8,
     "metadata": {},
     "output_type": "execute_result"
    }
   ],
   "source": [
    "web3.eth.net.getId()"
   ]
  },
  {
   "cell_type": "code",
   "execution_count": 9,
   "metadata": {},
   "outputs": [
    {
     "data": {
      "text/plain": [
       "5777"
      ]
     },
     "execution_count": 9,
     "metadata": {},
     "output_type": "execute_result"
    }
   ],
   "source": [
    "web3.shh.net.getId()"
   ]
  },
  {
   "cell_type": "code",
   "execution_count": 10,
   "metadata": {},
   "outputs": [
    {
     "data": {
      "text/plain": [
       "true"
      ]
     },
     "execution_count": 10,
     "metadata": {},
     "output_type": "execute_result"
    }
   ],
   "source": [
    "web3.eth.net.isListening()"
   ]
  },
  {
   "cell_type": "code",
   "execution_count": 11,
   "metadata": {},
   "outputs": [
    {
     "data": {
      "text/plain": [
       "true"
      ]
     },
     "execution_count": 11,
     "metadata": {},
     "output_type": "execute_result"
    }
   ],
   "source": [
    "web3.shh.net.isListening()"
   ]
  },
  {
   "cell_type": "code",
   "execution_count": 12,
   "metadata": {},
   "outputs": [
    {
     "data": {
      "text/plain": [
       "0"
      ]
     },
     "execution_count": 12,
     "metadata": {},
     "output_type": "execute_result"
    }
   ],
   "source": [
    "web3.eth.net.getPeerCount()"
   ]
  },
  {
   "cell_type": "code",
   "execution_count": 13,
   "metadata": {},
   "outputs": [
    {
     "data": {
      "text/plain": [
       "[\n",
       "  '0x61b11Aa9A43ed81Ed8ec42564FECCb28F3a3dc9f',\n",
       "  '0x9479Ee8981aB2965F590138FC63eBDf61CAd4cA7',\n",
       "  '0x30E3508Dfe7dFab00CA4DA17124E7fCaEFEc40F3',\n",
       "  '0x9A23C89dE5a2c30d0d75732E1741371706FDDfc9',\n",
       "  '0x585cc22D37AE8049Cc17aBc8F25FA48F82AA4043',\n",
       "  '0xE9840769ff087feb9749BB2E9316Dc7670f5CCB5',\n",
       "  '0x0a090FcE9Ce30A131388232fcD3014Aef6C7892e',\n",
       "  '0xC236248d43EDba38231e2E9eB035c38D8E6cD059',\n",
       "  '0x7620f0E2CE7252Ca0C2793C38Ca1EE9c0E3f12d2',\n",
       "  '0x8Ca05A0A252b5e3c352CbE292287B25Bc3a63741'\n",
       "]"
      ]
     },
     "execution_count": 13,
     "metadata": {},
     "output_type": "execute_result"
    }
   ],
   "source": [
    "web3.eth.getAccounts()"
   ]
  },
  {
   "cell_type": "code",
   "execution_count": 14,
   "metadata": {},
   "outputs": [
    {
     "data": {
      "text/plain": [
       "0"
      ]
     },
     "execution_count": 14,
     "metadata": {},
     "output_type": "execute_result"
    }
   ],
   "source": [
    "web3.shh.net.getPeerCount()"
   ]
  },
  {
   "cell_type": "code",
   "execution_count": 15,
   "metadata": {},
   "outputs": [
    {
     "data": {
      "text/plain": [
       "'2'"
      ]
     },
     "execution_count": 15,
     "metadata": {},
     "output_type": "execute_result"
    }
   ],
   "source": [
    "web3.shh.getVersion() //the version of the running whisper."
   ]
  },
  {
   "cell_type": "code",
   "execution_count": 17,
   "metadata": {},
   "outputs": [],
   "source": [
    "var list1;\n",
    "web3.eth.getAccounts().then(function(add){\n",
    "    list1 = add\n",
    "})"
   ]
  },
  {
   "cell_type": "code",
   "execution_count": 18,
   "metadata": {},
   "outputs": [
    {
     "data": {
      "text/plain": [
       "'0x61b11Aa9A43ed81Ed8ec42564FECCb28F3a3dc9f'"
      ]
     },
     "execution_count": 18,
     "metadata": {},
     "output_type": "execute_result"
    }
   ],
   "source": [
    "list1[0]"
   ]
  },
  {
   "cell_type": "code",
   "execution_count": 19,
   "metadata": {
    "scrolled": true
   },
   "outputs": [
    {
     "data": {
      "text/plain": [
       "{\n",
       "  address: '0xFb73A07396a861F84E0F478BAaecf317C221e4E9',\n",
       "  privateKey: '0x61b2c534d7f5db3d926b8b5619d95d8c4ed73263e0410a5f636ce1d52861bbe2',\n",
       "  signTransaction: [Function: signTransaction],\n",
       "  sign: [Function: sign],\n",
       "  encrypt: [Function: encrypt]\n",
       "}"
      ]
     },
     "execution_count": 19,
     "metadata": {},
     "output_type": "execute_result"
    }
   ],
   "source": [
    "web3.eth.accounts.create();\n",
    "// 公钥为64字节，\n",
    "// 私钥为32字节，\n",
    "// 地址为公钥后20字节"
   ]
  },
  {
   "cell_type": "code",
   "execution_count": 20,
   "metadata": {},
   "outputs": [
    {
     "data": {
      "text/plain": [
       "[\n",
       "  '0x61b11Aa9A43ed81Ed8ec42564FECCb28F3a3dc9f',\n",
       "  '0x9479Ee8981aB2965F590138FC63eBDf61CAd4cA7',\n",
       "  '0x30E3508Dfe7dFab00CA4DA17124E7fCaEFEc40F3',\n",
       "  '0x9A23C89dE5a2c30d0d75732E1741371706FDDfc9',\n",
       "  '0x585cc22D37AE8049Cc17aBc8F25FA48F82AA4043',\n",
       "  '0xE9840769ff087feb9749BB2E9316Dc7670f5CCB5',\n",
       "  '0x0a090FcE9Ce30A131388232fcD3014Aef6C7892e',\n",
       "  '0xC236248d43EDba38231e2E9eB035c38D8E6cD059',\n",
       "  '0x7620f0E2CE7252Ca0C2793C38Ca1EE9c0E3f12d2',\n",
       "  '0x8Ca05A0A252b5e3c352CbE292287B25Bc3a63741'\n",
       "]"
      ]
     },
     "execution_count": 20,
     "metadata": {},
     "output_type": "execute_result"
    }
   ],
   "source": [
    "web3.eth.getAccounts()  //没有新增的账户"
   ]
  },
  {
   "cell_type": "code",
   "execution_count": 21,
   "metadata": {},
   "outputs": [
    {
     "data": {
      "text/plain": [
       "{\n",
       "  transactionHash: '0xc8ed97f94fe3f7b96f59e3423382ad96592cb069059ba408786d0dbf19543237',\n",
       "  transactionIndex: 0,\n",
       "  blockHash: '0x75a83af650ce54ba9b63b46d039cc929e079c7a964fc6ac23d841fc7d6f5e05f',\n",
       "  blockNumber: 3,\n",
       "  from: '0x61b11aa9a43ed81ed8ec42564feccb28f3a3dc9f',\n",
       "  to: '0x9479ee8981ab2965f590138fc63ebdf61cad4ca7',\n",
       "  gasUsed: 21000,\n",
       "  cumulativeGasUsed: 21000,\n",
       "  contractAddress: null,\n",
       "  logs: [],\n",
       "  status: true,\n",
       "  logsBloom: '0x00000000000000000000000000000000000000000000000000000000000000000000000000000000000000000000000000000000000000000000000000000000000000000000000000000000000000000000000000000000000000000000000000000000000000000000000000000000000000000000000000000000000000000000000000000000000000000000000000000000000000000000000000000000000000000000000000000000000000000000000000000000000000000000000000000000000000000000000000000000000000000000000000000000000000000000000000000000000000000000000000000000000000000000000000000000',\n",
       "  v: '0x1b',\n",
       "  r: '0x874a8ef8a85927ba98196b6ea4149997d03ef864677f04dfc675f7e73f69f55a',\n",
       "  s: '0x19363d806fa0c024a71e54d8cc773afcfb1c22c6513e10c2419763bb9e452b74'\n",
       "}"
      ]
     },
     "execution_count": 21,
     "metadata": {},
     "output_type": "execute_result"
    }
   ],
   "source": [
    "web3.eth.sendTransaction({  //转账成功\n",
    "    from:list1[0],\n",
    "    to:list1[1],\n",
    "    value:web3.utils.toWei('0.15','ether')\n",
    "})"
   ]
  },
  {
   "cell_type": "code",
   "execution_count": 22,
   "metadata": {},
   "outputs": [
    {
     "data": {
      "text/plain": [
       "'0x4d48c87e711df0017680d1040cb6122f1253d867fce2ca89409f0fae43f5f02d0e9ba7f2ccfbb2bb163155a603abee49339561655736b7f60a53845d86ce8edf01'"
      ]
     },
     "execution_count": 22,
     "metadata": {},
     "output_type": "execute_result"
    }
   ],
   "source": [
    "web3.eth.sign(\"Hello world\",list1[0])"
   ]
  },
  {
   "cell_type": "code",
   "execution_count": 77,
   "metadata": {},
   "outputs": [],
   "source": [
    "var rawTx = {\n",
    "    nonce:'0x04',\n",
    "    from:list1[0],\n",
    "    to:list1[1],\n",
    "    value:web3.utils.toHex(web3.utils.toWei('0.15','ether')),\n",
    "    gasPrice:'0',\n",
    "    gas:2000000\n",
    "}"
   ]
  },
  {
   "cell_type": "code",
   "execution_count": 78,
   "metadata": {},
   "outputs": [
    {
     "data": {
      "text/plain": [
       "'0x50b25f3c421b4e1201d25c8ae2ef10ecdbc921e15526e3822088cef083d0e374'"
      ]
     },
     "execution_count": 78,
     "metadata": {},
     "output_type": "execute_result"
    }
   ],
   "source": [
    "var privatekey = '0x'+'50b25f3c421b4e1201d25c8ae2ef10ecdbc921e15526e3822088cef083d0e374'\n",
    "privatekey // privatekey 的格式一定要证确。"
   ]
  },
  {
   "cell_type": "code",
   "execution_count": 79,
   "metadata": {},
   "outputs": [
    {
     "ename": "Error",
     "evalue": "Returned error: Method eth_signTransaction not supported.",
     "output_type": "error",
     "traceback": [
      "Error: Returned error: Method eth_signTransaction not supported.",
      "    at Object.ErrorResponse (/home/yichang/.nvm/versions/node/v12.2.0/lib/node_modules/web3/node_modules/web3-core-helpers/src/errors.js:29:16)",
      "    at /home/yichang/.nvm/versions/node/v12.2.0/lib/node_modules/web3/node_modules/web3-core-requestmanager/src/index.js:140:36",
      "    at XMLHttpRequest.request.onreadystatechange (/home/yichang/.nvm/versions/node/v12.2.0/lib/node_modules/web3/node_modules/web3-providers-http/src/index.js:96:13)",
      "    at XMLHttpRequestEventTarget.dispatchEvent (/home/yichang/.nvm/versions/node/v12.2.0/lib/node_modules/web3/node_modules/xhr2-cookies/dist/xml-http-request-event-target.js:34:22)",
      "    at XMLHttpRequest._setReadyState (/home/yichang/.nvm/versions/node/v12.2.0/lib/node_modules/web3/node_modules/xhr2-cookies/dist/xml-http-request.js:208:14)",
      "    at XMLHttpRequest._onHttpResponseEnd (/home/yichang/.nvm/versions/node/v12.2.0/lib/node_modules/web3/node_modules/xhr2-cookies/dist/xml-http-request.js:318:14)",
      "    at IncomingMessage.<anonymous> (/home/yichang/.nvm/versions/node/v12.2.0/lib/node_modules/web3/node_modules/xhr2-cookies/dist/xml-http-request.js:289:61)",
      "    at IncomingMessage.emit (events.js:201:15)",
      "    at endReadableNT (_stream_readable.js:1130:12)",
      "    at processTicksAndRejections (internal/process/task_queues.js:84:9)"
     ]
    }
   ],
   "source": [
    "//Signs a transaction. This account needs to be unlocked.\n",
    "web3.eth.signTransaction(rawTx, privatekey)"
   ]
  },
  {
   "cell_type": "code",
   "execution_count": 80,
   "metadata": {},
   "outputs": [
    {
     "data": {
      "text/plain": [
       "{\n",
       "  messageHash: '0x1775ad82201923a45df6529e72d3bf035e394f923e1d5a30ab9c8ede602d994d',\n",
       "  v: '0x2d45',\n",
       "  r: '0x7e3d224da781b762bf787ef35c47394454908faaca2ada39aa9134ccd829b9f4',\n",
       "  s: '0x72375a8d0a9cccd10df2b439f74fc0274e8ebf195f98ebd7a9f1cd427a19bd21',\n",
       "  rawTransaction: '0xf86a0480831e8480949479ee8981ab2965f590138fc63ebdf61cad4ca7880214e8348c4f000080822d45a07e3d224da781b762bf787ef35c47394454908faaca2ada39aa9134ccd829b9f4a072375a8d0a9cccd10df2b439f74fc0274e8ebf195f98ebd7a9f1cd427a19bd21'\n",
       "}"
      ]
     },
     "execution_count": 80,
     "metadata": {},
     "output_type": "execute_result"
    }
   ],
   "source": [
    "//Signs an Ethereum transaction with a given private key. \n",
    "var stx = web3.eth.accounts.signTransaction(rawTx,privatekey)\n",
    "stx "
   ]
  },
  {
   "cell_type": "code",
   "execution_count": 81,
   "metadata": {},
   "outputs": [
    {
     "name": "stdout",
     "output_type": "stream",
     "text": [
      "undefined\n"
     ]
    }
   ],
   "source": [
    "console.log(stx.rawTransaction) //得不到交易信息。 "
   ]
  },
  {
   "cell_type": "code",
   "execution_count": 82,
   "metadata": {},
   "outputs": [
    {
     "name": "stdout",
     "output_type": "stream",
     "text": [
      "0xf86a0480831e8480949479ee8981ab2965f590138fc63ebdf61cad4ca7880214e8348c4f000080822d45a07e3d224da781b762bf787ef35c47394454908faaca2ada39aa9134ccd829b9f4a072375a8d0a9cccd10df2b439f74fc0274e8ebf195f98ebd7a9f1cd427a19bd21\n"
     ]
    }
   ],
   "source": [
    "web3.eth.accounts.signTransaction(rawTx,privatekey).then( signed =>{\n",
    "    console.log(signed.rawTransaction)\n",
    "}\n",
    ")"
   ]
  },
  {
   "cell_type": "code",
   "execution_count": 83,
   "metadata": {},
   "outputs": [
    {
     "name": "stdout",
     "output_type": "stream",
     "text": [
      "{\n",
      "  transactionHash: '0x8ca601341a12fd7580beb7cebb046d5cde9021e909e28ce587fc169425abe660',\n",
      "  transactionIndex: 0,\n",
      "  blockHash: '0xeb5c773ec1c63a16a805669ec0ea6dc786373a44264086a0a805389fa94036cb',\n",
      "  blockNumber: 5,\n",
      "  from: '0x61b11aa9a43ed81ed8ec42564feccb28f3a3dc9f',\n",
      "  to: '0x9479ee8981ab2965f590138fc63ebdf61cad4ca7',\n",
      "  gasUsed: 21000,\n",
      "  cumulativeGasUsed: 21000,\n",
      "  contractAddress: null,\n",
      "  logs: [],\n",
      "  status: true,\n",
      "  logsBloom: '0x00000000000000000000000000000000000000000000000000000000000000000000000000000000000000000000000000000000000000000000000000000000000000000000000000000000000000000000000000000000000000000000000000000000000000000000000000000000000000000000000000000000000000000000000000000000000000000000000000000000000000000000000000000000000000000000000000000000000000000000000000000000000000000000000000000000000000000000000000000000000000000000000000000000000000000000000000000000000000000000000000000000000000000000000000000000',\n",
      "  v: '0x2d45',\n",
      "  r: '0x7e3d224da781b762bf787ef35c47394454908faaca2ada39aa9134ccd829b9f4',\n",
      "  s: '0x72375a8d0a9cccd10df2b439f74fc0274e8ebf195f98ebd7a9f1cd427a19bd21'\n",
      "}\n"
     ]
    }
   ],
   "source": [
    "web3.eth.accounts.signTransaction(rawTx, privatekey).then(signed => {\n",
    "    web3.eth.sendSignedTransaction(signed.rawTransaction).on('receipt', console.log)\n",
    "});"
   ]
  },
  {
   "cell_type": "code",
   "execution_count": 85,
   "metadata": {},
   "outputs": [
    {
     "name": "stdout",
     "output_type": "stream",
     "text": [
      "{\n",
      "  transactionHash: '0x835341b2a42d977e1a42af5fe4c24d1adf3814b53dfaaafbf75791827b04732c',\n",
      "  transactionIndex: 0,\n",
      "  blockHash: '0x244e29da09c117542224638a1468f993bd5263002408ce510bcf56271f6a05dd',\n",
      "  blockNumber: 6,\n",
      "  from: '0x61b11aa9a43ed81ed8ec42564feccb28f3a3dc9f',\n",
      "  to: '0x9479ee8981ab2965f590138fc63ebdf61cad4ca7',\n",
      "  gasUsed: 21000,\n",
      "  cumulativeGasUsed: 21000,\n",
      "  contractAddress: null,\n",
      "  logs: [],\n",
      "  status: true,\n",
      "  logsBloom: '0x00000000000000000000000000000000000000000000000000000000000000000000000000000000000000000000000000000000000000000000000000000000000000000000000000000000000000000000000000000000000000000000000000000000000000000000000000000000000000000000000000000000000000000000000000000000000000000000000000000000000000000000000000000000000000000000000000000000000000000000000000000000000000000000000000000000000000000000000000000000000000000000000000000000000000000000000000000000000000000000000000000000000000000000000000000000',\n",
      "  v: '0x2d46',\n",
      "  r: '0x179a6282aa02b5c73b61d21025fa9dce6ea63dcba1d074ca6f46a2fc343b1701',\n",
      "  s: '0x4d2180ac35d13b50e3d83aa6015023d0f10fcac793eec2c463159b414297b0b7'\n",
      "}\n"
     ]
    }
   ],
   "source": [
    "var rawTx2 = {\n",
    "    from:list1[0],\n",
    "    to:list1[1],\n",
    "    value:web3.utils.toHex(web3.utils.toWei('0.15','ether')),\n",
    "    gas:2000000, //\"gas is missing\"\n",
    "}\n",
    "web3.eth.accounts.signTransaction(rawTx2, privatekey).then(signed => {\n",
    "    web3.eth.sendSignedTransaction(signed.rawTransaction).on('receipt', console.log)\n",
    "});"
   ]
  },
  {
   "cell_type": "code",
   "execution_count": 86,
   "metadata": {},
   "outputs": [
    {
     "name": "stdout",
     "output_type": "stream",
     "text": [
      "{\n",
      "  transactionHash: '0x4d40a83a71335a243ae679a9df1f438209bf0bb862bdc5ed9baebe74991cf990',\n",
      "  transactionIndex: 0,\n",
      "  blockHash: '0x48dbd3b7883fd860787b8a3737239043c8abb67216202c120514934251698a54',\n",
      "  blockNumber: 7,\n",
      "  from: '0x61b11aa9a43ed81ed8ec42564feccb28f3a3dc9f',\n",
      "  to: '0x9479ee8981ab2965f590138fc63ebdf61cad4ca7',\n",
      "  gasUsed: 21000,\n",
      "  cumulativeGasUsed: 21000,\n",
      "  contractAddress: null,\n",
      "  logs: [],\n",
      "  status: true,\n",
      "  logsBloom: '0x00000000000000000000000000000000000000000000000000000000000000000000000000000000000000000000000000000000000000000000000000000000000000000000000000000000000000000000000000000000000000000000000000000000000000000000000000000000000000000000000000000000000000000000000000000000000000000000000000000000000000000000000000000000000000000000000000000000000000000000000000000000000000000000000000000000000000000000000000000000000000000000000000000000000000000000000000000000000000000000000000000000000000000000000000000000',\n",
      "  v: '0x2d46',\n",
      "  r: '0x0e0dd5170a39e07da985323b17bd4a712e1854c8c97eddc00b419253dbb5797a',\n",
      "  s: '0x1669c444a36a45748433a02bc6c17526903a2020fcca4e4e8977d7990e917357'\n",
      "}\n"
     ]
    }
   ],
   "source": [
    "var rawTx3 = {\n",
    "    to:list1[1],\n",
    "    value:web3.utils.toHex(web3.utils.toWei('0.15','ether')),\n",
    "    gas:2000000, //\"gas is missing\"\n",
    "}\n",
    "web3.eth.accounts.signTransaction(rawTx3, privatekey).then(signed => {\n",
    "    web3.eth.sendSignedTransaction(signed.rawTransaction).on('receipt', console.log)\n",
    "});"
   ]
  },
  {
   "cell_type": "code",
   "execution_count": 87,
   "metadata": {},
   "outputs": [
    {
     "name": "stdout",
     "output_type": "stream",
     "text": [
      "{\n",
      "  transactionHash: '0xa0b72a48b60e23cfc87957e72d642f0b58bc7a04a6e4d7867a8e1959a849c59d',\n",
      "  transactionIndex: 0,\n",
      "  blockHash: '0x15943bcc790defd701336f2e990434926778be7edcd8de36061b997b26c540bf',\n",
      "  blockNumber: 8,\n",
      "  from: '0x61b11aa9a43ed81ed8ec42564feccb28f3a3dc9f',\n",
      "  to: '0x9479ee8981ab2965f590138fc63ebdf61cad4ca7',\n",
      "  gasUsed: 21000,\n",
      "  cumulativeGasUsed: 21000,\n",
      "  contractAddress: null,\n",
      "  logs: [],\n",
      "  status: true,\n",
      "  logsBloom: '0x00000000000000000000000000000000000000000000000000000000000000000000000000000000000000000000000000000000000000000000000000000000000000000000000000000000000000000000000000000000000000000000000000000000000000000000000000000000000000000000000000000000000000000000000000000000000000000000000000000000000000000000000000000000000000000000000000000000000000000000000000000000000000000000000000000000000000000000000000000000000000000000000000000000000000000000000000000000000000000000000000000000000000000000000000000000',\n",
      "  v: '0x2d45',\n",
      "  r: '0xf955999c7d0f7d9d822ce01bbdf3ce2f53efe69e5c548e48c47d6ec30a8bea64',\n",
      "  s: '0x6ff861f7785c003da662fd9b7c6bca2945b2ba77e64493b1099b1cfa13d68e40'\n",
      "}\n"
     ]
    }
   ],
   "source": [
    "var rawTx4 = {\n",
    "    to:list1[1],\n",
    "    gas:2000000, //\"gas is missing\"\n",
    "}\n",
    "web3.eth.accounts.signTransaction(rawTx4, privatekey).then(signed => {\n",
    "    web3.eth.sendSignedTransaction(signed.rawTransaction).on('receipt', console.log)\n",
    "});"
   ]
  },
  {
   "cell_type": "code",
   "execution_count": 89,
   "metadata": {},
   "outputs": [
    {
     "name": "stdout",
     "output_type": "stream",
     "text": [
      "{\n",
      "  transactionHash: '0x47db069e078e31a45bbd4400c8b7b7cb9b7fef07dc0d17bbc6cb53b35cb38fe8',\n",
      "  transactionIndex: 0,\n",
      "  blockHash: '0x9f06b0485c53a73f2d5628f8c4d34dbfeac50e10544dd7fbb946379bbc26e8b3',\n",
      "  blockNumber: 9,\n",
      "  from: '0x9479ee8981ab2965f590138fc63ebdf61cad4ca7',\n",
      "  to: '0x30e3508dfe7dfab00ca4da17124e7fcaefec40f3',\n",
      "  gasUsed: 21000,\n",
      "  cumulativeGasUsed: 21000,\n",
      "  contractAddress: null,\n",
      "  logs: [],\n",
      "  status: true,\n",
      "  logsBloom: '0x00000000000000000000000000000000000000000000000000000000000000000000000000000000000000000000000000000000000000000000000000000000000000000000000000000000000000000000000000000000000000000000000000000000000000000000000000000000000000000000000000000000000000000000000000000000000000000000000000000000000000000000000000000000000000000000000000000000000000000000000000000000000000000000000000000000000000000000000000000000000000000000000000000000000000000000000000000000000000000000000000000000000000000000000000000000',\n",
      "  v: '0x2d46',\n",
      "  r: '0x3227f8c7d1261cdc31f9f6e184bb1b9e1b7f4932165ba33a4fe7d17bf7dc69c1',\n",
      "  s: '0x25a2421a0932b459082f760a6a4697319f92da5764ebd1308fa633cdeaa876a9'\n",
      "}\n"
     ]
    }
   ],
   "source": [
    "var privatekey2 = 'c83a4c2a81634b37f0445fd70b5c8802c3129b0bf0184ccf50f050cce654a566' \n",
    "//the sender's account only has: 0 \n",
    "var privatekey3 = '0x'+'c83a4c2a81634b37f0445fd70b5c8802c3129b0bf0184ccf50f050cce654a566' \n",
    "var rawTx5 = {\n",
    "    to:list1[2],\n",
    "    value:web3.utils.toHex(web3.utils.toWei('0.15','ether')),\n",
    "    gas:2000000, //\"gas is missing\"\n",
    "}\n",
    "web3.eth.accounts.signTransaction(rawTx5, privatekey3).then(signed => {\n",
    "    web3.eth.sendSignedTransaction(signed.rawTransaction).on('receipt', console.log)\n",
    "});"
   ]
  },
  {
   "cell_type": "code",
   "execution_count": null,
   "metadata": {},
   "outputs": [],
   "source": []
  }
 ],
 "metadata": {
  "kernelspec": {
   "display_name": "Javascript (Node.js)",
   "language": "javascript",
   "name": "javascript"
  },
  "language_info": {
   "file_extension": ".js",
   "mimetype": "application/javascript",
   "name": "javascript",
   "version": "12.2.0"
  },
  "toc": {
   "base_numbering": 1,
   "nav_menu": {},
   "number_sections": true,
   "sideBar": true,
   "skip_h1_title": false,
   "title_cell": "Table of Contents",
   "title_sidebar": "Contents",
   "toc_cell": false,
   "toc_position": {},
   "toc_section_display": true,
   "toc_window_display": false
  },
  "varInspector": {
   "cols": {
    "lenName": 16,
    "lenType": 16,
    "lenVar": 40
   },
   "kernels_config": {
    "python": {
     "delete_cmd_postfix": "",
     "delete_cmd_prefix": "del ",
     "library": "var_list.py",
     "varRefreshCmd": "print(var_dic_list())"
    },
    "r": {
     "delete_cmd_postfix": ") ",
     "delete_cmd_prefix": "rm(",
     "library": "var_list.r",
     "varRefreshCmd": "cat(var_dic_list()) "
    }
   },
   "types_to_exclude": [
    "module",
    "function",
    "builtin_function_or_method",
    "instance",
    "_Feature"
   ],
   "window_display": false
  }
 },
 "nbformat": 4,
 "nbformat_minor": 2
}
