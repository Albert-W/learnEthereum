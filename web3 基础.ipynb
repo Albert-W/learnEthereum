{
 "cells": [
  {
   "cell_type": "markdown",
   "metadata": {},
   "source": [
    "## 导入web3 "
   ]
  },
  {
   "cell_type": "code",
   "execution_count": 15,
   "metadata": {},
   "outputs": [],
   "source": [
    "var web3 = require('web3')"
   ]
  },
  {
   "cell_type": "code",
   "execution_count": 16,
   "metadata": {},
   "outputs": [
    {
     "data": {
      "text/plain": [
       "'1.2.1'"
      ]
     },
     "execution_count": 16,
     "metadata": {},
     "output_type": "execute_result"
    }
   ],
   "source": [
    "web3.version"
   ]
  },
  {
   "cell_type": "code",
   "execution_count": 18,
   "metadata": {},
   "outputs": [
    {
     "data": {
      "text/plain": [
       "null"
      ]
     },
     "execution_count": 18,
     "metadata": {},
     "output_type": "execute_result"
    }
   ],
   "source": [
    "web3.givenProvider"
   ]
  },
  {
   "cell_type": "code",
   "execution_count": 19,
   "metadata": {},
   "outputs": [
    {
     "data": {
      "text/plain": [
       "{\n",
       "  WebsocketProvider: [Function: WebsocketProvider],\n",
       "  HttpProvider: [Function: HttpProvider],\n",
       "  IpcProvider: [Function: IpcProvider]\n",
       "}"
      ]
     },
     "execution_count": 19,
     "metadata": {},
     "output_type": "execute_result"
    }
   ],
   "source": [
    "web3.providers"
   ]
  },
  {
   "cell_type": "code",
   "execution_count": 20,
   "metadata": {},
   "outputs": [
    {
     "data": {
      "text/plain": [
       "{\n",
       "  Eth: [Function: Eth] {\n",
       "    givenProvider: null,\n",
       "    providers: {\n",
       "      WebsocketProvider: [Function: WebsocketProvider],\n",
       "      HttpProvider: [Function: HttpProvider],\n",
       "      IpcProvider: [Function: IpcProvider]\n",
       "    }\n",
       "  },\n",
       "  Net: [Function: Net] {\n",
       "    givenProvider: null,\n",
       "    providers: {\n",
       "      WebsocketProvider: [Function: WebsocketProvider],\n",
       "      HttpProvider: [Function: HttpProvider],\n",
       "      IpcProvider: [Function: IpcProvider]\n",
       "    }\n",
       "  },\n",
       "  Personal: [Function: Personal] {\n",
       "    givenProvider: null,\n",
       "    providers: {\n",
       "      WebsocketProvider: [Function: WebsocketProvider],\n",
       "      HttpProvider: [Function: HttpProvider],\n",
       "      IpcProvider: [Function: IpcProvider]\n",
       "    }\n",
       "  },\n",
       "  Shh: [Function: Shh] {\n",
       "    givenProvider: null,\n",
       "    providers: {\n",
       "      WebsocketProvider: [Function: WebsocketProvider],\n",
       "      HttpProvider: [Function: HttpProvider],\n",
       "      IpcProvider: [Function: IpcProvider]\n",
       "    }\n",
       "  },\n",
       "  Bzz: [Function: Bzz] { givenProvider: null }\n",
       "}"
      ]
     },
     "execution_count": 20,
     "metadata": {},
     "output_type": "execute_result"
    }
   ],
   "source": [
    "web3.modules"
   ]
  },
  {
   "cell_type": "markdown",
   "metadata": {},
   "source": [
    "## 连接 区块链\n",
    "\n",
    "通过Ganache 建立 本地仿真链    \n",
    "查看RPC：HTTP://127.0.0.1:7545"
   ]
  },
  {
   "cell_type": "code",
   "execution_count": 26,
   "metadata": {},
   "outputs": [],
   "source": [
    "var web3 = new Web3('HTTP://127.0.0.1:7545')"
   ]
  },
  {
   "cell_type": "markdown",
   "metadata": {},
   "source": [
    "### eth 模块"
   ]
  },
  {
   "cell_type": "code",
   "execution_count": 32,
   "metadata": {},
   "outputs": [
    {
     "data": {
      "text/plain": [
       "'100000000000000000000'"
      ]
     },
     "execution_count": 32,
     "metadata": {},
     "output_type": "execute_result"
    }
   ],
   "source": [
    "var addr1 = '0x3b089cCb6835860eCfb12cC073e723a544a1937E'\n",
    "web3.eth.getBalance(addr1) //100eth = 100 * 10^18 Wei"
   ]
  },
  {
   "cell_type": "code",
   "execution_count": 33,
   "metadata": {},
   "outputs": [
    {
     "data": {
      "text/plain": [
       "'0x3b089ccb6835860ecfb12cc073e723a544a1937e'"
      ]
     },
     "execution_count": 33,
     "metadata": {},
     "output_type": "execute_result"
    }
   ],
   "source": [
    "web3.eth.getCoinbase() //the coinbase address to which mining rewards will go."
   ]
  },
  {
   "cell_type": "code",
   "execution_count": 34,
   "metadata": {
    "scrolled": true
   },
   "outputs": [
    {
     "data": {
      "text/plain": [
       "[\n",
       "  '0x3b089cCb6835860eCfb12cC073e723a544a1937E',\n",
       "  '0xAE6946590cCd7979153FbcE4Ff6CBdfB2331F7b3',\n",
       "  '0x514a5A14D9cf277B1b134159C5ee14a44f6c7420',\n",
       "  '0xFd6fF9702e505Cb2C1B2BC14bDb5D6b2e3e54260',\n",
       "  '0x858A4BFf71fEB5e5359405d895c18b70b1792E4F',\n",
       "  '0x8213806b2A2B5aA222F4c552626dB706B626A3bf',\n",
       "  '0xE02FA7fE062553Df6cAA0d9dd4a1e2672d4C5428',\n",
       "  '0xDeCC32b6C513c2D54B0C485a0b6251c0Dd3eaF34',\n",
       "  '0x37fE73Beef5E98E28a4a1985c156d93Eff2F9593',\n",
       "  '0x05991DA89D594114084C6944738fA72BEC1cD299'\n",
       "]"
      ]
     },
     "execution_count": 34,
     "metadata": {},
     "output_type": "execute_result"
    }
   ],
   "source": [
    "web3.eth.getAccounts() // 获取全部账户"
   ]
  },
  {
   "cell_type": "code",
   "execution_count": 58,
   "metadata": {},
   "outputs": [
    {
     "data": {
      "text/plain": [
       "false"
      ]
     },
     "execution_count": 58,
     "metadata": {},
     "output_type": "execute_result"
    }
   ],
   "source": [
    "list = web3.eth.getAccounts()\n",
    "list instanceof Array  //返回并不一个列表，而是promise. "
   ]
  },
  {
   "cell_type": "code",
   "execution_count": 73,
   "metadata": {},
   "outputs": [
    {
     "data": {
      "text/plain": [
       "true"
      ]
     },
     "execution_count": 73,
     "metadata": {},
     "output_type": "execute_result"
    }
   ],
   "source": [
    "list instanceof Promise"
   ]
  },
  {
   "cell_type": "code",
   "execution_count": 74,
   "metadata": {},
   "outputs": [
    {
     "name": "stdout",
     "output_type": "stream",
     "text": [
      "first addr: 0x3b089cCb6835860eCfb12cC073e723a544a1937E\n"
     ]
    }
   ],
   "source": [
    "var list1;\n",
    "web3.eth.getAccounts().then(function(add){\n",
    "    list1 = add\n",
    "})\n",
    "console.log(\"first addr: \"+ list1[0])"
   ]
  },
  {
   "cell_type": "code",
   "execution_count": 75,
   "metadata": {},
   "outputs": [
    {
     "name": "stdout",
     "output_type": "stream",
     "text": [
      "second: 0xFd6fF9702e505Cb2C1B2BC14bDb5D6b2e3e54260\n"
     ]
    }
   ],
   "source": [
    "var list2;\n",
    "web3.eth.getAccounts().then(add =>{ //简头函数，不能传入外部的参数。 \n",
    "    list2 = add\n",
    "})\n",
    "console.log(\"second: \"+ list2[3])"
   ]
  },
  {
   "cell_type": "code",
   "execution_count": 41,
   "metadata": {},
   "outputs": [],
   "source": [
    "var addr2 = '0xAE6946590cCd7979153FbcE4Ff6CBdfB2331F7b3'"
   ]
  },
  {
   "cell_type": "code",
   "execution_count": 42,
   "metadata": {
    "scrolled": true
   },
   "outputs": [
    {
     "data": {
      "text/plain": [
       "{\n",
       "  transactionHash: '0x6043efd3204673acf96c1662492d416e7120224b8726050ffbdb92ae14c88c73',\n",
       "  transactionIndex: 0,\n",
       "  blockHash: '0x84a47aad04c0a95eb4fa1dd6eacbe6e47092e7393a7edff87e4630dd728a77d6',\n",
       "  blockNumber: 1,\n",
       "  gasUsed: 21000,\n",
       "  cumulativeGasUsed: 21000,\n",
       "  contractAddress: null,\n",
       "  logs: [],\n",
       "  status: true,\n",
       "  logsBloom: '0x00000000000000000000000000000000000000000000000000000000000000000000000000000000000000000000000000000000000000000000000000000000000000000000000000000000000000000000000000000000000000000000000000000000000000000000000000000000000000000000000000000000000000000000000000000000000000000000000000000000000000000000000000000000000000000000000000000000000000000000000000000000000000000000000000000000000000000000000000000000000000000000000000000000000000000000000000000000000000000000000000000000000000000000000000000000'\n",
       "}"
      ]
     },
     "execution_count": 42,
     "metadata": {},
     "output_type": "execute_result"
    }
   ],
   "source": [
    "web3.eth.sendTransaction({\n",
    "    from:addr1,\n",
    "    to:addr2,\n",
    "    value:'5000000000000'\n",
    "})"
   ]
  },
  {
   "cell_type": "code",
   "execution_count": 48,
   "metadata": {},
   "outputs": [
    {
     "data": {
      "text/plain": [
       "null"
      ]
     },
     "execution_count": 48,
     "metadata": {},
     "output_type": "execute_result"
    }
   ],
   "source": [
    "web3.eth.defaultAccount //Default is undefined"
   ]
  },
  {
   "cell_type": "code",
   "execution_count": 49,
   "metadata": {},
   "outputs": [
    {
     "data": {
      "text/plain": [
       "'0x3b089cCb6835860eCfb12cC073e723a544a1937E'"
      ]
     },
     "execution_count": 49,
     "metadata": {},
     "output_type": "execute_result"
    }
   ],
   "source": [
    "web3.eth.defaultAccount = addr1\n",
    "web3.eth.defaultAccount"
   ]
  },
  {
   "cell_type": "code",
   "execution_count": 50,
   "metadata": {},
   "outputs": [
    {
     "data": {
      "text/plain": [
       "'latest'"
      ]
     },
     "execution_count": 50,
     "metadata": {},
     "output_type": "execute_result"
    }
   ],
   "source": [
    "web3.eth.defaultBlock //default value is “latest” "
   ]
  },
  {
   "cell_type": "code",
   "execution_count": 51,
   "metadata": {},
   "outputs": [
    {
     "data": {
      "text/plain": [
       "'63'"
      ]
     },
     "execution_count": 51,
     "metadata": {},
     "output_type": "execute_result"
    }
   ],
   "source": [
    "web3.eth.getProtocolVersion()"
   ]
  },
  {
   "cell_type": "code",
   "execution_count": 52,
   "metadata": {},
   "outputs": [
    {
     "data": {
      "text/plain": [
       "0"
      ]
     },
     "execution_count": 52,
     "metadata": {},
     "output_type": "execute_result"
    }
   ],
   "source": [
    "web3.eth.getHashrate()"
   ]
  },
  {
   "cell_type": "code",
   "execution_count": 53,
   "metadata": {},
   "outputs": [
    {
     "data": {
      "text/plain": [
       "'2000000000'"
      ]
     },
     "execution_count": 53,
     "metadata": {},
     "output_type": "execute_result"
    }
   ],
   "source": [
    "web3.eth.getGasPrice()"
   ]
  },
  {
   "cell_type": "code",
   "execution_count": 76,
   "metadata": {},
   "outputs": [
    {
     "data": {
      "text/plain": [
       "1"
      ]
     },
     "execution_count": 76,
     "metadata": {},
     "output_type": "execute_result"
    }
   ],
   "source": [
    "web3.eth.getBlockNumber() //Returns the current block number."
   ]
  },
  {
   "cell_type": "code",
   "execution_count": 77,
   "metadata": {},
   "outputs": [
    {
     "data": {
      "text/plain": [
       "'100000005000000000000'"
      ]
     },
     "execution_count": 77,
     "metadata": {},
     "output_type": "execute_result"
    }
   ],
   "source": [
    "web3.eth.getBalance(list1[1])"
   ]
  },
  {
   "cell_type": "code",
   "execution_count": 78,
   "metadata": {},
   "outputs": [
    {
     "data": {
      "text/plain": [
       "{\n",
       "  number: 1,\n",
       "  hash: '0x84a47aad04c0a95eb4fa1dd6eacbe6e47092e7393a7edff87e4630dd728a77d6',\n",
       "  parentHash: '0x7ca52293b00ef090602d8406b173ea4ddc6cd35fc3959e2935ab92bb69d7edab',\n",
       "  mixHash: '0x0000000000000000000000000000000000000000000000000000000000000000',\n",
       "  nonce: '0x0000000000000000',\n",
       "  sha3Uncles: '0x1dcc4de8dec75d7aab85b567b6ccd41ad312451b948a7413f0a142fd40d49347',\n",
       "  logsBloom: '0x00000000000000000000000000000000000000000000000000000000000000000000000000000000000000000000000000000000000000000000000000000000000000000000000000000000000000000000000000000000000000000000000000000000000000000000000000000000000000000000000000000000000000000000000000000000000000000000000000000000000000000000000000000000000000000000000000000000000000000000000000000000000000000000000000000000000000000000000000000000000000000000000000000000000000000000000000000000000000000000000000000000000000000000000000000000',\n",
       "  transactionsRoot: '0x56e81f171bcc55a6ff8345e692c0f86e5b48e01b996cadc001622fb5e363b421',\n",
       "  stateRoot: '0xe7d3e936868f0aa2b9632c7a14f75f941be513f87cb9359d214eefde875aad91',\n",
       "  receiptsRoot: '0x56e81f171bcc55a6ff8345e692c0f86e5b48e01b996cadc001622fb5e363b421',\n",
       "  miner: '0x0000000000000000000000000000000000000000',\n",
       "  difficulty: '0',\n",
       "  totalDifficulty: '0',\n",
       "  extraData: '0x',\n",
       "  size: 1000,\n",
       "  gasLimit: 6721975,\n",
       "  gasUsed: 21000,\n",
       "  timestamp: 1565876882,\n",
       "  transactions: [\n",
       "    '0x6043efd3204673acf96c1662492d416e7120224b8726050ffbdb92ae14c88c73'\n",
       "  ],\n",
       "  uncles: []\n",
       "}"
      ]
     },
     "execution_count": 78,
     "metadata": {},
     "output_type": "execute_result"
    }
   ],
   "source": [
    "web3.eth.getBlock(1) //get the block object. "
   ]
  },
  {
   "cell_type": "code",
   "execution_count": 79,
   "metadata": {},
   "outputs": [
    {
     "data": {
      "text/plain": [
       "1"
      ]
     },
     "execution_count": 79,
     "metadata": {},
     "output_type": "execute_result"
    }
   ],
   "source": [
    "web3.eth.getBlockTransactionCount(1) //Returns the number of transaction in a given block."
   ]
  },
  {
   "cell_type": "code",
   "execution_count": 80,
   "metadata": {},
   "outputs": [
    {
     "data": {
      "text/plain": [
       "{\n",
       "  hash: '0x6043efd3204673acf96c1662492d416e7120224b8726050ffbdb92ae14c88c73',\n",
       "  nonce: 0,\n",
       "  blockHash: '0x84a47aad04c0a95eb4fa1dd6eacbe6e47092e7393a7edff87e4630dd728a77d6',\n",
       "  blockNumber: 1,\n",
       "  transactionIndex: 0,\n",
       "  from: '0x3b089cCb6835860eCfb12cC073e723a544a1937E',\n",
       "  to: '0xAE6946590cCd7979153FbcE4Ff6CBdfB2331F7b3',\n",
       "  value: '5000000000000',\n",
       "  gas: 90000,\n",
       "  gasPrice: '2000000000',\n",
       "  input: '0x0'\n",
       "}"
      ]
     },
     "execution_count": 80,
     "metadata": {},
     "output_type": "execute_result"
    }
   ],
   "source": [
    "var transhash = '0x6043efd3204673acf96c1662492d416e7120224b8726050ffbdb92ae14c88c73'\n",
    "web3.eth.getTransaction(transhash)"
   ]
  },
  {
   "cell_type": "code",
   "execution_count": 81,
   "metadata": {},
   "outputs": [
    {
     "data": {
      "text/plain": [
       "{\n",
       "  transactionHash: '0x6043efd3204673acf96c1662492d416e7120224b8726050ffbdb92ae14c88c73',\n",
       "  transactionIndex: 0,\n",
       "  blockHash: '0x84a47aad04c0a95eb4fa1dd6eacbe6e47092e7393a7edff87e4630dd728a77d6',\n",
       "  blockNumber: 1,\n",
       "  gasUsed: 21000,\n",
       "  cumulativeGasUsed: 21000,\n",
       "  contractAddress: null,\n",
       "  logs: [],\n",
       "  status: true,\n",
       "  logsBloom: '0x00000000000000000000000000000000000000000000000000000000000000000000000000000000000000000000000000000000000000000000000000000000000000000000000000000000000000000000000000000000000000000000000000000000000000000000000000000000000000000000000000000000000000000000000000000000000000000000000000000000000000000000000000000000000000000000000000000000000000000000000000000000000000000000000000000000000000000000000000000000000000000000000000000000000000000000000000000000000000000000000000000000000000000000000000000000'\n",
       "}"
      ]
     },
     "execution_count": 81,
     "metadata": {},
     "output_type": "execute_result"
    }
   ],
   "source": [
    "web3.eth.getTransactionReceipt(transhash)"
   ]
  },
  {
   "cell_type": "code",
   "execution_count": 83,
   "metadata": {},
   "outputs": [
    {
     "data": {
      "text/plain": [
       "1"
      ]
     },
     "execution_count": 83,
     "metadata": {},
     "output_type": "execute_result"
    }
   ],
   "source": [
    "web3.eth.getTransactionCount(list1[0])"
   ]
  },
  {
   "cell_type": "markdown",
   "metadata": {},
   "source": [
    "## utils 模块\n",
    "不需要连接区域链"
   ]
  },
  {
   "cell_type": "markdown",
   "metadata": {},
   "source": [
    "var web3 = require('web3')"
   ]
  },
  {
   "cell_type": "code",
   "execution_count": 84,
   "metadata": {},
   "outputs": [
    {
     "data": {
      "text/plain": [
       "'0xa4'"
      ]
     },
     "execution_count": 84,
     "metadata": {},
     "output_type": "execute_result"
    }
   ],
   "source": [
    "web3.utils.randomHex(1) // 1 byte = 8 bits 需要2个16进制位才能表达 "
   ]
  },
  {
   "cell_type": "code",
   "execution_count": 89,
   "metadata": {},
   "outputs": [
    {
     "data": {
      "text/plain": [
       "BN { negative: 0, words: [ 1284 ], length: 1, red: null }"
      ]
     },
     "execution_count": 89,
     "metadata": {},
     "output_type": "execute_result"
    }
   ],
   "source": [
    "var BN = web3.utils.BN;\n",
    "new BN('13.4')"
   ]
  },
  {
   "cell_type": "code",
   "execution_count": 90,
   "metadata": {},
   "outputs": [
    {
     "data": {
      "text/plain": [
       "'1284'"
      ]
     },
     "execution_count": 90,
     "metadata": {},
     "output_type": "execute_result"
    }
   ],
   "source": [
    "new BN('13.4').toString()"
   ]
  },
  {
   "cell_type": "code",
   "execution_count": 91,
   "metadata": {},
   "outputs": [
    {
     "data": {
      "text/plain": [
       "'0x47173285a8d7341e5e972fc677286384f802f8ef42a5ec5f03bbfa254cb01fad'"
      ]
     },
     "execution_count": 91,
     "metadata": {},
     "output_type": "execute_result"
    }
   ],
   "source": [
    "web3.utils.sha3(\"hello world\")"
   ]
  },
  {
   "cell_type": "code",
   "execution_count": 93,
   "metadata": {},
   "outputs": [
    {
     "data": {
      "text/plain": [
       "'0x47173285a8d7341e5e972fc677286384f802f8ef42a5ec5f03bbfa254cb01fad'"
      ]
     },
     "execution_count": 93,
     "metadata": {},
     "output_type": "execute_result"
    }
   ],
   "source": [
    "web3.utils.keccak256('hello world') // sha3别名"
   ]
  },
  {
   "cell_type": "code",
   "execution_count": 97,
   "metadata": {},
   "outputs": [
    {
     "data": {
      "text/plain": [
       "'1000000000000000000'"
      ]
     },
     "execution_count": 97,
     "metadata": {},
     "output_type": "execute_result"
    }
   ],
   "source": [
    "web3.utils.toWei('1','ether')"
   ]
  },
  {
   "cell_type": "code",
   "execution_count": 98,
   "metadata": {},
   "outputs": [
    {
     "data": {
      "text/plain": [
       "'100000000000000000'"
      ]
     },
     "execution_count": 98,
     "metadata": {},
     "output_type": "execute_result"
    }
   ],
   "source": [
    "web3.utils.toWei('0.1','ether')"
   ]
  },
  {
   "cell_type": "code",
   "execution_count": 99,
   "metadata": {},
   "outputs": [
    {
     "data": {
      "text/plain": [
       "{\n",
       "  noether: '0',\n",
       "  wei: '1',\n",
       "  kwei: '1000',\n",
       "  Kwei: '1000',\n",
       "  babbage: '1000',\n",
       "  femtoether: '1000',\n",
       "  mwei: '1000000',\n",
       "  Mwei: '1000000',\n",
       "  lovelace: '1000000',\n",
       "  picoether: '1000000',\n",
       "  gwei: '1000000000',\n",
       "  Gwei: '1000000000',\n",
       "  shannon: '1000000000',\n",
       "  nanoether: '1000000000',\n",
       "  nano: '1000000000',\n",
       "  szabo: '1000000000000',\n",
       "  microether: '1000000000000',\n",
       "  micro: '1000000000000',\n",
       "  finney: '1000000000000000',\n",
       "  milliether: '1000000000000000',\n",
       "  milli: '1000000000000000',\n",
       "  ether: '1000000000000000000',\n",
       "  kether: '1000000000000000000000',\n",
       "  grand: '1000000000000000000000',\n",
       "  mether: '1000000000000000000000000',\n",
       "  gether: '1000000000000000000000000000',\n",
       "  tether: '1000000000000000000000000000000'\n",
       "}"
      ]
     },
     "execution_count": 99,
     "metadata": {},
     "output_type": "execute_result"
    }
   ],
   "source": [
    "web3.utils.unitMap"
   ]
  },
  {
   "cell_type": "code",
   "execution_count": null,
   "metadata": {},
   "outputs": [],
   "source": []
  }
 ],
 "metadata": {
  "kernelspec": {
   "display_name": "Javascript (Node.js)",
   "language": "javascript",
   "name": "javascript"
  },
  "language_info": {
   "file_extension": ".js",
   "mimetype": "application/javascript",
   "name": "javascript",
   "version": "12.2.0"
  },
  "toc": {
   "base_numbering": 1,
   "nav_menu": {},
   "number_sections": true,
   "sideBar": true,
   "skip_h1_title": false,
   "title_cell": "Table of Contents",
   "title_sidebar": "Contents",
   "toc_cell": false,
   "toc_position": {},
   "toc_section_display": true,
   "toc_window_display": false
  },
  "varInspector": {
   "cols": {
    "lenName": 16,
    "lenType": 16,
    "lenVar": 40
   },
   "kernels_config": {
    "python": {
     "delete_cmd_postfix": "",
     "delete_cmd_prefix": "del ",
     "library": "var_list.py",
     "varRefreshCmd": "print(var_dic_list())"
    },
    "r": {
     "delete_cmd_postfix": ") ",
     "delete_cmd_prefix": "rm(",
     "library": "var_list.r",
     "varRefreshCmd": "cat(var_dic_list()) "
    }
   },
   "types_to_exclude": [
    "module",
    "function",
    "builtin_function_or_method",
    "instance",
    "_Feature"
   ],
   "window_display": false
  }
 },
 "nbformat": 4,
 "nbformat_minor": 2
}
