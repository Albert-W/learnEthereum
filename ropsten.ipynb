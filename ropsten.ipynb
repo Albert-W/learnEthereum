{
 "cells": [
  {
   "cell_type": "code",
   "execution_count": 1,
   "metadata": {},
   "outputs": [],
   "source": [
    "var Web3 = require('web3')\n",
    "var web3 = new Web3(\"https://ropsten.infura.io/\")"
   ]
  },
  {
   "cell_type": "code",
   "execution_count": 2,
   "metadata": {},
   "outputs": [
    {
     "data": {
      "text/plain": [
       "'1.2.1'"
      ]
     },
     "execution_count": 2,
     "metadata": {},
     "output_type": "execute_result"
    }
   ],
   "source": [
    "web3.version"
   ]
  },
  {
   "cell_type": "code",
   "execution_count": 3,
   "metadata": {},
   "outputs": [
    {
     "data": {
      "text/plain": [
       "100"
      ]
     },
     "execution_count": 3,
     "metadata": {},
     "output_type": "execute_result"
    }
   ],
   "source": [
    "web3.eth.net.getPeerCount()"
   ]
  },
  {
   "cell_type": "code",
   "execution_count": 4,
   "metadata": {},
   "outputs": [
    {
     "data": {
      "text/plain": [
       "[]"
      ]
     },
     "execution_count": 4,
     "metadata": {},
     "output_type": "execute_result"
    }
   ],
   "source": [
    "web3.eth.getAccounts()"
   ]
  },
  {
   "cell_type": "code",
   "execution_count": 5,
   "metadata": {},
   "outputs": [
    {
     "data": {
      "text/plain": [
       "100"
      ]
     },
     "execution_count": 5,
     "metadata": {},
     "output_type": "execute_result"
    }
   ],
   "source": [
    "web3.shh.net.getPeerCount()"
   ]
  },
  {
   "cell_type": "code",
   "execution_count": 6,
   "metadata": {},
   "outputs": [],
   "source": [
    "var add1 = '0xea6aa737825976181C5Dbb3eC71D5050D86DFa6E'\n",
    "var add2 = '0x514a5A14D9cf277B1b134159C5ee14a44f6c7420'"
   ]
  },
  {
   "cell_type": "code",
   "execution_count": 7,
   "metadata": {},
   "outputs": [
    {
     "data": {
      "text/plain": [
       "'10999940162000000000'"
      ]
     },
     "execution_count": 7,
     "metadata": {},
     "output_type": "execute_result"
    }
   ],
   "source": [
    "web3.eth.getBalance(add1)"
   ]
  },
  {
   "cell_type": "code",
   "execution_count": 8,
   "metadata": {},
   "outputs": [
    {
     "data": {
      "text/plain": [
       "'0'"
      ]
     },
     "execution_count": 8,
     "metadata": {},
     "output_type": "execute_result"
    }
   ],
   "source": [
    "web3.eth.getBalance(add2)"
   ]
  },
  {
   "cell_type": "code",
   "execution_count": 9,
   "metadata": {},
   "outputs": [
    {
     "ename": "Error",
     "evalue": "Returned error: The method eth_sendTransaction does not exist/is not available",
     "output_type": "error",
     "traceback": [
      "Error: Returned error: The method eth_sendTransaction does not exist/is not available",
      "    at Object.ErrorResponse (/home/yichang/.nvm/versions/node/v12.2.0/lib/node_modules/web3/node_modules/web3-core-helpers/src/errors.js:29:16)",
      "    at /home/yichang/.nvm/versions/node/v12.2.0/lib/node_modules/web3/node_modules/web3-core-requestmanager/src/index.js:140:36",
      "    at XMLHttpRequest.request.onreadystatechange (/home/yichang/.nvm/versions/node/v12.2.0/lib/node_modules/web3/node_modules/web3-providers-http/src/index.js:96:13)",
      "    at XMLHttpRequestEventTarget.dispatchEvent (/home/yichang/.nvm/versions/node/v12.2.0/lib/node_modules/web3/node_modules/xhr2-cookies/dist/xml-http-request-event-target.js:34:22)",
      "    at XMLHttpRequest._setReadyState (/home/yichang/.nvm/versions/node/v12.2.0/lib/node_modules/web3/node_modules/xhr2-cookies/dist/xml-http-request.js:208:14)",
      "    at XMLHttpRequest._onHttpResponseEnd (/home/yichang/.nvm/versions/node/v12.2.0/lib/node_modules/web3/node_modules/xhr2-cookies/dist/xml-http-request.js:318:14)",
      "    at IncomingMessage.<anonymous> (/home/yichang/.nvm/versions/node/v12.2.0/lib/node_modules/web3/node_modules/xhr2-cookies/dist/xml-http-request.js:289:61)",
      "    at IncomingMessage.emit (events.js:201:15)",
      "    at endReadableNT (_stream_readable.js:1130:12)",
      "    at processTicksAndRejections (internal/process/task_queues.js:84:9)"
     ]
    }
   ],
   "source": [
    "web3.eth.sendTransaction({ //ganache中可以使用\n",
    "    from:add1,\n",
    "    to:add2,\n",
    "    value:web3.utils.toWei('0.15','ether')\n",
    "})"
   ]
  },
  {
   "cell_type": "code",
   "execution_count": 10,
   "metadata": {},
   "outputs": [
    {
     "ename": "Error",
     "evalue": "Returned error: The method eth_signTransaction does not exist/is not available",
     "output_type": "error",
     "traceback": [
      "Error: Returned error: The method eth_signTransaction does not exist/is not available",
      "    at Object.ErrorResponse (/home/yichang/.nvm/versions/node/v12.2.0/lib/node_modules/web3/node_modules/web3-core-helpers/src/errors.js:29:16)",
      "    at /home/yichang/.nvm/versions/node/v12.2.0/lib/node_modules/web3/node_modules/web3-core-requestmanager/src/index.js:140:36",
      "    at XMLHttpRequest.request.onreadystatechange (/home/yichang/.nvm/versions/node/v12.2.0/lib/node_modules/web3/node_modules/web3-providers-http/src/index.js:96:13)",
      "    at XMLHttpRequestEventTarget.dispatchEvent (/home/yichang/.nvm/versions/node/v12.2.0/lib/node_modules/web3/node_modules/xhr2-cookies/dist/xml-http-request-event-target.js:34:22)",
      "    at XMLHttpRequest._setReadyState (/home/yichang/.nvm/versions/node/v12.2.0/lib/node_modules/web3/node_modules/xhr2-cookies/dist/xml-http-request.js:208:14)",
      "    at XMLHttpRequest._onHttpResponseEnd (/home/yichang/.nvm/versions/node/v12.2.0/lib/node_modules/web3/node_modules/xhr2-cookies/dist/xml-http-request.js:318:14)",
      "    at IncomingMessage.<anonymous> (/home/yichang/.nvm/versions/node/v12.2.0/lib/node_modules/web3/node_modules/xhr2-cookies/dist/xml-http-request.js:289:61)",
      "    at IncomingMessage.emit (events.js:201:15)",
      "    at endReadableNT (_stream_readable.js:1130:12)",
      "    at processTicksAndRejections (internal/process/task_queues.js:84:9)"
     ]
    }
   ],
   "source": [
    "web3.eth.signTransaction({ //genache中也不支持\n",
    "    from:add1,\n",
    "    to:add2,\n",
    "    value:web3.utils.toWei('0.35','ether'),\n",
    "    data:web3.utils.toHex(\"hello address one.\")\n",
    "})"
   ]
  },
  {
   "cell_type": "code",
   "execution_count": 46,
   "metadata": {},
   "outputs": [
    {
     "data": {
      "text/plain": [
       "{\n",
       "  difficulty: '9589272200',\n",
       "  extraData: '0x74657374',\n",
       "  gasLimit: 8000029,\n",
       "  gasUsed: 1218529,\n",
       "  hash: '0xdb5ef3a939d7bb0f6005331911392c4491c28e02045293dc82cd63af249f702b',\n",
       "  logsBloom: '0x0000000000000000000400008000000000000080000000240000000000000000000000000008000000000000040000000100048000000000000000000000000000040000008020000002422800000000000000000000000000000000000004000000100002000011000000000000480010000000420500000030005000000000000200000000080080000000000000008000000000000000000000100000000000080000000000000000000000040000000000000000005000010000020000000001000a200000000000000000000000000000000000000000010010002022000000000000002000002000a000000a0000000040000000000000002000000000',\n",
       "  miner: '0xbbF5029Fd710d227630c8b7d338051B8E76d50B3',\n",
       "  mixHash: '0xb158114a0b7022170acc48ec72d6149e143fd8c21627e9114311f013878fa3d2',\n",
       "  nonce: '0x42d0d5180d126fad',\n",
       "  number: 6223025,\n",
       "  parentHash: '0x27ea363e36da5b7d7ef507aee0995328290cb28fdea92b67f4507932242e9873',\n",
       "  receiptsRoot: '0x7797fdad2026223299c2c825519f5e1c7735e41c6e901aff4e5a8f86380fcc24',\n",
       "  sha3Uncles: '0x1dcc4de8dec75d7aab85b567b6ccd41ad312451b948a7413f0a142fd40d49347',\n",
       "  size: 5841,\n",
       "  stateRoot: '0x6904977286c4bd5403716c7ae12350c065dd2cc60eff6c6a2683228ff5ae477f',\n",
       "  timestamp: 1566213783,\n",
       "  totalDifficulty: '21907841755241883',\n",
       "  transactions: [\n",
       "    '0x2b4defb40dffbc36dab5e4c89d12f181d8a72807fb0e1d9d24811e25dfb6d3f6',\n",
       "    '0x595847170ef811ecf366cba6029d824c553992232be5a319bf0795bf4bbcc85b',\n",
       "    '0x4a187dcffa64b815f8ced1405ef400ec925bc9cb611c8775cffd65b83c8aee54',\n",
       "    '0x16849fa4d5a1f816ca288c6329675426864cb25d97130dba9dae37e2a8402f1b',\n",
       "    '0xe760f6382b67229abf0bd37d1c2aa4ec34ec7f8b7e718a957384d216dda20788',\n",
       "    '0x8fe79db565ec841a71b49c8838467a112427f9b84a9c41dbf39c05ade6438dce',\n",
       "    '0x02d43185f5cbc20c1371ccad79c1d3b564ad4c840dc7b9c164a8c8af5fd5fe5f',\n",
       "    '0x723692ee480c5878ab227eaf1df823903b05a14442a5be7ae53004703ebe0f7f',\n",
       "    '0xd4c49df3800188d863cf6c0e1f47ad272d160a5507a845851db2161ccc20f59c',\n",
       "    '0xec281943e34e438a51c5d0e78d1a38da9ce6e993e17dafe97c5c69b8b285de54',\n",
       "    '0x555fe71708e27a50223f2303f2ad629214852716a67d662f1ccb94fca6491b46',\n",
       "    '0xdb0b70491b5142b0ecac8add61638e6d04a65859c4b8b58d13814387da25032a',\n",
       "    '0x9047890ba8124fc77332c8e00ed06920166f6cbe6fec09254c1c225c27fb30d7',\n",
       "    '0x3063e5489095e75758da38379fd187d6b76061d71d32871f7633b906d461f47e',\n",
       "    '0xb61dadfff3f13e8d1a9f9d222912bdb3d38161360384b6474e5609bdf0d4bfcc',\n",
       "    '0xcd511af6233ae3d40f6e6de11941a40085c0794e718f02d5df950b827c31dd3f',\n",
       "    '0xf3a404c0c190e9e1dc49a96f3eceddb81c363ba26ad8265867680b8381dda104'\n",
       "  ],\n",
       "  transactionsRoot: '0xa861a6adabb9b33add95a6c50853cded9c988b20b33bdc1411c42fa55326b9ff',\n",
       "  uncles: []\n",
       "}"
      ]
     },
     "execution_count": 46,
     "metadata": {},
     "output_type": "execute_result"
    }
   ],
   "source": [
    "block = web3.eth.getBlock('latest')"
   ]
  },
  {
   "cell_type": "code",
   "execution_count": 11,
   "metadata": {},
   "outputs": [],
   "source": [
    "var privatekey = '0x'+ '119c9e5540a7428c7da3d95f962bc12779c7980a08ad61e45801047719ff4f18';"
   ]
  },
  {
   "cell_type": "code",
   "execution_count": 13,
   "metadata": {},
   "outputs": [],
   "source": [
    "var rawTx = {\n",
    "    from:add1,\n",
    "    to:add2,\n",
    "    value:web3.utils.toWei('0.0035','ether'),\n",
    "    gas:2000000\n",
    "}"
   ]
  },
  {
   "cell_type": "code",
   "execution_count": 14,
   "metadata": {},
   "outputs": [
    {
     "data": {
      "text/plain": [
       "{\n",
       "  messageHash: '0x4f14a5970a6fba810aa4dd458c1a77589539d8ad07fc884fcab82ca83e97633f',\n",
       "  v: '0x29',\n",
       "  r: '0x7fa8af36d92a9d2d1c2b614b14563d8677927f7bec4cdae6b5316d71747f91b4',\n",
       "  s: '0x65f5e3a74882522b3d030ecd4fb1db8ccf2d364b7d22ac560b4fbcf4b4349072',\n",
       "  rawTransaction: '0xf86b0184b2d05e00831e848094514a5a14d9cf277b1b134159c5ee14a44f6c7420870c6f3b40b6c0008029a07fa8af36d92a9d2d1c2b614b14563d8677927f7bec4cdae6b5316d71747f91b4a065f5e3a74882522b3d030ecd4fb1db8ccf2d364b7d22ac560b4fbcf4b4349072'\n",
       "}"
      ]
     },
     "execution_count": 14,
     "metadata": {},
     "output_type": "execute_result"
    }
   ],
   "source": [
    "web3.eth.accounts.signTransaction(rawTx, privatekey)"
   ]
  },
  {
   "cell_type": "code",
   "execution_count": 15,
   "metadata": {},
   "outputs": [],
   "source": [
    "web3.eth.accounts.signTransaction(rawTx, privatekey).then(signed => {\n",
    "    web3.eth.sendSignedTransaction(signed.rawTransaction).on('receipt', console.log)\n",
    "});"
   ]
  },
  {
   "cell_type": "code",
   "execution_count": 16,
   "metadata": {},
   "outputs": [
    {
     "name": "stderr",
     "output_type": "stream",
     "text": [
      "(node:804) UnhandledPromiseRejectionWarning: Error: Returned error: replacement transaction underpriced\n",
      "    at Object.ErrorResponse (/home/yichang/.nvm/versions/node/v12.2.0/lib/node_modules/web3/node_modules/web3-core-helpers/src/errors.js:29:16)\n",
      "    at /home/yichang/.nvm/versions/node/v12.2.0/lib/node_modules/web3/node_modules/web3-core-requestmanager/src/index.js:140:36\n",
      "    at XMLHttpRequest.request.onreadystatechange (/home/yichang/.nvm/versions/node/v12.2.0/lib/node_modules/web3/node_modules/web3-providers-http/src/index.js:96:13)\n",
      "    at XMLHttpRequestEventTarget.dispatchEvent (/home/yichang/.nvm/versions/node/v12.2.0/lib/node_modules/web3/node_modules/xhr2-cookies/dist/xml-http-request-event-target.js:34:22)\n",
      "    at XMLHttpRequest._setReadyState (/home/yichang/.nvm/versions/node/v12.2.0/lib/node_modules/web3/node_modules/xhr2-cookies/dist/xml-http-request.js:208:14)\n",
      "    at XMLHttpRequest._onHttpResponseEnd (/home/yichang/.nvm/versions/node/v12.2.0/lib/node_modules/web3/node_modules/xhr2-cookies/dist/xml-http-request.js:318:14)\n",
      "    at IncomingMessage.<anonymous> (/home/yichang/.nvm/versions/node/v12.2.0/lib/node_modules/web3/node_modules/xhr2-cookies/dist/xml-http-request.js:289:61)\n",
      "    at IncomingMessage.emit (events.js:201:15)\n",
      "    at endReadableNT (_stream_readable.js:1130:12)\n",
      "    at processTicksAndRejections (internal/process/task_queues.js:84:9)\n",
      "(node:804) UnhandledPromiseRejectionWarning: Unhandled promise rejection. This error originated either by throwing inside of an async function without a catch block, or by rejecting a promise which was not handled with .catch(). (rejection id: 1)\n",
      "(node:804) [DEP0018] DeprecationWarning: Unhandled promise rejections are deprecated. In the future, promise rejections that are not handled will terminate the Node.js process with a non-zero exit code.\n"
     ]
    }
   ],
   "source": [
    "var rawTx2 = {\n",
    "    from:add1,\n",
    "    to:add2,\n",
    "    value:web3.utils.toWei('0.35','ether'),\n",
    "    gas:2000000\n",
    "}\n",
    "web3.eth.accounts.signTransaction(rawTx2, privatekey).then(signed => {\n",
    "    web3.eth.sendSignedTransaction(signed.rawTransaction).on('receipt', console.log)\n",
    "});"
   ]
  },
  {
   "cell_type": "code",
   "execution_count": 23,
   "metadata": {},
   "outputs": [
    {
     "data": {
      "text/plain": [
       "1"
      ]
     },
     "execution_count": 23,
     "metadata": {},
     "output_type": "execute_result"
    }
   ],
   "source": [
    "web3.eth.getTransactionCount(add1)"
   ]
  },
  {
   "cell_type": "code",
   "execution_count": 29,
   "metadata": {},
   "outputs": [
    {
     "data": {
      "text/plain": [
       "'3000000000'"
      ]
     },
     "execution_count": 29,
     "metadata": {},
     "output_type": "execute_result"
    }
   ],
   "source": [
    "web3.eth.getGasPrice()"
   ]
  },
  {
   "cell_type": "code",
   "execution_count": 31,
   "metadata": {},
   "outputs": [],
   "source": [
    "var rawTx3 = {\n",
    "    nonce:'0x02', // change the nonce in void replacing error. \n",
    "    from:add1,\n",
    "    to:add2,\n",
    "    value:web3.utils.toWei('0.35','ether'),\n",
    "    gas:2000000\n",
    "}\n",
    "web3.eth.accounts.signTransaction(rawTx3, privatekey).then(signed => {\n",
    "    web3.eth.sendSignedTransaction(signed.rawTransaction).on('receipt', console.log)\n",
    "});"
   ]
  },
  {
   "cell_type": "code",
   "execution_count": 41,
   "metadata": {},
   "outputs": [],
   "source": [
    "var rawTx4 = {\n",
    "    nonce:'0x05',\n",
    "    from:add1,\n",
    "    to:add2,\n",
    "    value:web3.utils.toWei('0.35','ether'),\n",
    "    gas:2000000,\n",
    "    gasPrice:'3400000000' // 拼写错误，将导致不生效。\n",
    "}\n",
    "web3.eth.accounts.signTransaction(rawTx4, privatekey).then(signed => {\n",
    "    web3.eth.sendSignedTransaction(signed.rawTransaction).on('receipt', console.log)\n",
    "});"
   ]
  },
  {
   "cell_type": "code",
   "execution_count": 43,
   "metadata": {},
   "outputs": [],
   "source": [
    "var rawTx5 = {\n",
    "    nonce:'0x06',\n",
    "    from:add1,\n",
    "    to:add2,\n",
    "    value:web3.utils.toWei('0.35','ether'),\n",
    "    gas:2000000,\n",
    "    gasPrice:'9000000000' // 增大出块几率\n",
    "}\n",
    "web3.eth.accounts.signTransaction(rawTx5, privatekey).then(signed => {\n",
    "    web3.eth.sendSignedTransaction(signed.rawTransaction).on('receipt', console.log)\n",
    "});"
   ]
  },
  {
   "cell_type": "code",
   "execution_count": null,
   "metadata": {},
   "outputs": [],
   "source": []
  }
 ],
 "metadata": {
  "kernelspec": {
   "display_name": "Javascript (Node.js)",
   "language": "javascript",
   "name": "javascript"
  },
  "language_info": {
   "file_extension": ".js",
   "mimetype": "application/javascript",
   "name": "javascript",
   "version": "12.2.0"
  },
  "toc": {
   "base_numbering": 1,
   "nav_menu": {},
   "number_sections": true,
   "sideBar": true,
   "skip_h1_title": false,
   "title_cell": "Table of Contents",
   "title_sidebar": "Contents",
   "toc_cell": false,
   "toc_position": {},
   "toc_section_display": true,
   "toc_window_display": false
  },
  "varInspector": {
   "cols": {
    "lenName": 16,
    "lenType": 16,
    "lenVar": 40
   },
   "kernels_config": {
    "python": {
     "delete_cmd_postfix": "",
     "delete_cmd_prefix": "del ",
     "library": "var_list.py",
     "varRefreshCmd": "print(var_dic_list())"
    },
    "r": {
     "delete_cmd_postfix": ") ",
     "delete_cmd_prefix": "rm(",
     "library": "var_list.r",
     "varRefreshCmd": "cat(var_dic_list()) "
    }
   },
   "types_to_exclude": [
    "module",
    "function",
    "builtin_function_or_method",
    "instance",
    "_Feature"
   ],
   "window_display": false
  }
 },
 "nbformat": 4,
 "nbformat_minor": 2
}
