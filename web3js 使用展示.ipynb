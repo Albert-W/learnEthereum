{
 "cells": [
  {
   "cell_type": "markdown",
   "metadata": {},
   "source": [
    "## web3\n",
    "npm install -g web3    "
   ]
  },
  {
   "cell_type": "code",
   "execution_count": 1,
   "metadata": {},
   "outputs": [
    {
     "data": {
      "text/plain": [
       "'1.2.1'"
      ]
     },
     "execution_count": 1,
     "metadata": {},
     "output_type": "execute_result"
    }
   ],
   "source": [
    "var web3 = require('web3')\n",
    "web3.version"
   ]
  },
  {
   "cell_type": "code",
   "execution_count": 2,
   "metadata": {},
   "outputs": [],
   "source": [
    "var web3 = new web3('HTTP://192.168.200.215:7545')"
   ]
  },
  {
   "cell_type": "code",
   "execution_count": 3,
   "metadata": {},
   "outputs": [
    {
     "data": {
      "text/plain": [
       "[ '0x61b11Aa9A43ed81Ed8ec42564FECCb28F3a3dc9f',\n",
       "  '0x9479Ee8981aB2965F590138FC63eBDf61CAd4cA7',\n",
       "  '0x30E3508Dfe7dFab00CA4DA17124E7fCaEFEc40F3',\n",
       "  '0x9A23C89dE5a2c30d0d75732E1741371706FDDfc9',\n",
       "  '0x585cc22D37AE8049Cc17aBc8F25FA48F82AA4043',\n",
       "  '0xE9840769ff087feb9749BB2E9316Dc7670f5CCB5',\n",
       "  '0x0a090FcE9Ce30A131388232fcD3014Aef6C7892e',\n",
       "  '0xC236248d43EDba38231e2E9eB035c38D8E6cD059',\n",
       "  '0x7620f0E2CE7252Ca0C2793C38Ca1EE9c0E3f12d2',\n",
       "  '0x8Ca05A0A252b5e3c352CbE292287B25Bc3a63741' ]"
      ]
     },
     "execution_count": 3,
     "metadata": {},
     "output_type": "execute_result"
    }
   ],
   "source": [
    "web3.eth.getAccounts()"
   ]
  },
  {
   "cell_type": "code",
   "execution_count": 4,
   "metadata": {},
   "outputs": [],
   "source": [
    "var list;\n",
    "web3.eth.getAccounts().then(function(add){\n",
    "    list = add\n",
    "})"
   ]
  },
  {
   "cell_type": "markdown",
   "metadata": {},
   "source": [
    "### Send Tx"
   ]
  },
  {
   "cell_type": "code",
   "execution_count": 5,
   "metadata": {},
   "outputs": [
    {
     "data": {
      "text/plain": [
       "{ transactionHash:\n",
       "   '0xf010bf65323da9490f9c7696760fe79eb65afc405765f3fabb6c03f87030e7c8',\n",
       "  transactionIndex: 0,\n",
       "  blockHash:\n",
       "   '0x24ae7faed7521f7dd1e6a4094c705f6d7f71857f5d8684b3a93fa066e19966ed',\n",
       "  blockNumber: 11,\n",
       "  from: '0x61b11aa9a43ed81ed8ec42564feccb28f3a3dc9f',\n",
       "  to: '0x9479ee8981ab2965f590138fc63ebdf61cad4ca7',\n",
       "  gasUsed: 21000,\n",
       "  cumulativeGasUsed: 21000,\n",
       "  contractAddress: null,\n",
       "  logs: [],\n",
       "  status: true,\n",
       "  logsBloom:\n",
       "   '0x00000000000000000000000000000000000000000000000000000000000000000000000000000000000000000000000000000000000000000000000000000000000000000000000000000000000000000000000000000000000000000000000000000000000000000000000000000000000000000000000000000000000000000000000000000000000000000000000000000000000000000000000000000000000000000000000000000000000000000000000000000000000000000000000000000000000000000000000000000000000000000000000000000000000000000000000000000000000000000000000000000000000000000000000000000000',\n",
       "  v: '0x1c',\n",
       "  r:\n",
       "   '0x362b031d086ce952eb62908e55bdc5c7843bcd95850fd2720b490e2030a2a538',\n",
       "  s:\n",
       "   '0x38eeacccf704bcdbe61149f92c9166739fc786b97c9f5c6060ce1e3879119088' }"
      ]
     },
     "execution_count": 5,
     "metadata": {},
     "output_type": "execute_result"
    }
   ],
   "source": [
    "web3.eth.sendTransaction({  //转账成功\n",
    "    from:list[0],\n",
    "    to:list[1],\n",
    "    value:web3.utils.toWei('0.15','ether')\n",
    "})"
   ]
  },
  {
   "cell_type": "markdown",
   "metadata": {},
   "source": [
    "### Sent Signed Tx"
   ]
  },
  {
   "cell_type": "code",
   "execution_count": 6,
   "metadata": {},
   "outputs": [
    {
     "data": {
      "text/plain": [
       "10"
      ]
     },
     "execution_count": 6,
     "metadata": {},
     "output_type": "execute_result"
    }
   ],
   "source": [
    "web3.eth.getTransactionCount(list[0])"
   ]
  },
  {
   "cell_type": "code",
   "execution_count": 7,
   "metadata": {},
   "outputs": [],
   "source": [
    "var rawTx = {\n",
    "    from:list[0],\n",
    "    to:list[1],\n",
    "    value:web3.utils.toHex(web3.utils.toWei('0.15','ether')),\n",
    "    gasPrice:'0',\n",
    "    gas:2000000\n",
    "}"
   ]
  },
  {
   "cell_type": "code",
   "execution_count": 8,
   "metadata": {},
   "outputs": [
    {
     "data": {
      "text/plain": [
       "'0x50b25f3c421b4e1201d25c8ae2ef10ecdbc921e15526e3822088cef083d0e374'"
      ]
     },
     "execution_count": 8,
     "metadata": {},
     "output_type": "execute_result"
    }
   ],
   "source": [
    "var privatekey = '0x'+'50b25f3c421b4e1201d25c8ae2ef10ecdbc921e15526e3822088cef083d0e374'\n",
    "privatekey // privatekey 的格式一定要证确。"
   ]
  },
  {
   "cell_type": "code",
   "execution_count": 9,
   "metadata": {},
   "outputs": [
    {
     "data": {
      "text/plain": [
       "{ messageHash:\n",
       "   '0xd163f32a4ad4d268404b6a261ca56d88daa74496fedc1807999e57387cc57dcd',\n",
       "  v: '0x2d45',\n",
       "  r:\n",
       "   '0x34f74e089439f60c917864620725c0816182fee2989895acd9d62926431a3ee',\n",
       "  s:\n",
       "   '0x57a3d11f21c4de4a1d81f1b7699b9b6f7291203aecb309493b62edf948869d63',\n",
       "  rawTransaction:\n",
       "   '0xf86a0a80831e8480949479ee8981ab2965f590138fc63ebdf61cad4ca7880214e8348c4f000080822d45a0034f74e089439f60c917864620725c0816182fee2989895acd9d62926431a3eea057a3d11f21c4de4a1d81f1b7699b9b6f7291203aecb309493b62edf948869d63' }"
      ]
     },
     "execution_count": 9,
     "metadata": {},
     "output_type": "execute_result"
    }
   ],
   "source": [
    "//Signs an Ethereum transaction with a given private key. \n",
    "var stx = web3.eth.accounts.signTransaction(rawTx,privatekey)\n",
    "stx "
   ]
  },
  {
   "cell_type": "code",
   "execution_count": 10,
   "metadata": {},
   "outputs": [
    {
     "name": "stdout",
     "output_type": "stream",
     "text": [
      "0xf86a0a80831e8480949479ee8981ab2965f590138fc63ebdf61cad4ca7880214e8348c4f000080822d45a0034f74e089439f60c917864620725c0816182fee2989895acd9d62926431a3eea057a3d11f21c4de4a1d81f1b7699b9b6f7291203aecb309493b62edf948869d63\n"
     ]
    }
   ],
   "source": [
    "// check the signed raw transaction\n",
    "web3.eth.accounts.signTransaction(rawTx,privatekey).then( signed =>{\n",
    "    console.log(signed.rawTransaction)\n",
    "}\n",
    ")"
   ]
  },
  {
   "cell_type": "code",
   "execution_count": 11,
   "metadata": {},
   "outputs": [
    {
     "name": "stdout",
     "output_type": "stream",
     "text": [
      "{ transactionHash:\n",
      "   '0x2849ac8668653555767ba8bea64e796d3cb440cbe5dfea2792d77bd0d4ebf973',\n",
      "  transactionIndex: 0,\n",
      "  blockHash:\n",
      "   '0x8daed07d45e993452796164a176f0ebc8c671dd3bfa4fe62653dbd32e60ea13e',\n",
      "  blockNumber: 12,\n",
      "  from: '0x61b11aa9a43ed81ed8ec42564feccb28f3a3dc9f',\n",
      "  to: '0x9479ee8981ab2965f590138fc63ebdf61cad4ca7',\n",
      "  gasUsed: 21000,\n",
      "  cumulativeGasUsed: 21000,\n",
      "  contractAddress: null,\n",
      "  logs: [],\n",
      "  status: true,\n",
      "  logsBloom:\n",
      "   '0x00000000000000000000000000000000000000000000000000000000000000000000000000000000000000000000000000000000000000000000000000000000000000000000000000000000000000000000000000000000000000000000000000000000000000000000000000000000000000000000000000000000000000000000000000000000000000000000000000000000000000000000000000000000000000000000000000000000000000000000000000000000000000000000000000000000000000000000000000000000000000000000000000000000000000000000000000000000000000000000000000000000000000000000000000000000',\n",
      "  v: '0x2d45',\n",
      "  r:\n",
      "   '0x034f74e089439f60c917864620725c0816182fee2989895acd9d62926431a3ee',\n",
      "  s:\n",
      "   '0x57a3d11f21c4de4a1d81f1b7699b9b6f7291203aecb309493b62edf948869d63' }\n"
     ]
    }
   ],
   "source": [
    "// send the transaction, print the receipt\n",
    "web3.eth.accounts.signTransaction(rawTx, privatekey).then(signed => {\n",
    "    web3.eth.sendSignedTransaction(signed.rawTransaction).on('receipt', console.log)\n",
    "});"
   ]
  },
  {
   "cell_type": "code",
   "execution_count": 12,
   "metadata": {},
   "outputs": [
    {
     "name": "stdout",
     "output_type": "stream",
     "text": [
      "{ transactionHash:\n",
      "   '0x9ca65a0b819d67ddfce07a11c476044481135bd37ab30bd6b9eba52e44797121',\n",
      "  transactionIndex: 0,\n",
      "  blockHash:\n",
      "   '0xb9f96a865f902705cf79f0dcf4a882870b233adfea5a866412250356da066bff',\n",
      "  blockNumber: 13,\n",
      "  from: '0x61b11aa9a43ed81ed8ec42564feccb28f3a3dc9f',\n",
      "  to: '0x9479ee8981ab2965f590138fc63ebdf61cad4ca7',\n",
      "  gasUsed: 21000,\n",
      "  cumulativeGasUsed: 21000,\n",
      "  contractAddress: null,\n",
      "  logs: [],\n",
      "  status: true,\n",
      "  logsBloom:\n",
      "   '0x00000000000000000000000000000000000000000000000000000000000000000000000000000000000000000000000000000000000000000000000000000000000000000000000000000000000000000000000000000000000000000000000000000000000000000000000000000000000000000000000000000000000000000000000000000000000000000000000000000000000000000000000000000000000000000000000000000000000000000000000000000000000000000000000000000000000000000000000000000000000000000000000000000000000000000000000000000000000000000000000000000000000000000000000000000000',\n",
      "  v: '0x2d45',\n",
      "  r:\n",
      "   '0x4fdbf00570aa555807c512a04dd30e91c815eed9d6f98bdf9ff677fce0d13d30',\n",
      "  s:\n",
      "   '0x2f873c85afbaaf9d5d0f8978c811e65191cafff87bf4019f48ca6de17ae4fba7' }\n"
     ]
    }
   ],
   "source": [
    "// send another transaction. \n",
    "var rawTx2 = {\n",
    "    from:list[0],\n",
    "    to:list[1],\n",
    "    value:web3.utils.toHex(web3.utils.toWei('0.15','ether')),\n",
    "    gas:2000000, //\"gas is missing\"\n",
    "}\n",
    "web3.eth.accounts.signTransaction(rawTx2, privatekey).then(signed => {\n",
    "    web3.eth.sendSignedTransaction(signed.rawTransaction).on('receipt', console.log)\n",
    "});"
   ]
  },
  {
   "cell_type": "code",
   "execution_count": 62,
   "metadata": {},
   "outputs": [
    {
     "name": "stdout",
     "output_type": "stream",
     "text": [
      "{\n",
      "  transactionHash: '0xfea1a4be27134f2a64e9ef7fdc516506b4c1ad9d1efc0719349da80289d13ae1',\n",
      "  transactionIndex: 0,\n",
      "  blockHash: '0x285078b0e8694b04734522706d3628992468b7e24b1a6dfa187394da4ee9aa70',\n",
      "  blockNumber: 15,\n",
      "  from: '0x53a2daae7b69138ff57cbbc2f94866bf72f8b9bf',\n",
      "  to: '0x7b2d4edaf10bb0aac517e8699878239d64d2817a',\n",
      "  gasUsed: 21000,\n",
      "  cumulativeGasUsed: 21000,\n",
      "  contractAddress: null,\n",
      "  logs: [],\n",
      "  status: true,\n",
      "  logsBloom: '0x00000000000000000000000000000000000000000000000000000000000000000000000000000000000000000000000000000000000000000000000000000000000000000000000000000000000000000000000000000000000000000000000000000000000000000000000000000000000000000000000000000000000000000000000000000000000000000000000000000000000000000000000000000000000000000000000000000000000000000000000000000000000000000000000000000000000000000000000000000000000000000000000000000000000000000000000000000000000000000000000000000000000000000000000000000000',\n",
      "  v: '0x2d46',\n",
      "  r: '0x259ac5429e5056d22163f8c26f90e6a4df823d27a4d9cd2ca74ca30bf79a622f',\n",
      "  s: '0x6c0078e5fd709e9adbffd372217eab242b56bed4544f4e9aaaf9fe9b7dfbab8b'\n",
      "}\n"
     ]
    }
   ],
   "source": [
    "var rawTx3 = {\n",
    "    to:list[1],\n",
    "    value:web3.utils.toHex(web3.utils.toWei('0.15','ether')),\n",
    "    gas:2000000, //\"gas is missing\"\n",
    "}\n",
    "web3.eth.accounts.signTransaction(rawTx3, privatekey).then(signed => {\n",
    "    web3.eth.sendSignedTransaction(signed.rawTransaction).on('receipt', console.log)\n",
    "});"
   ]
  },
  {
   "cell_type": "code",
   "execution_count": 13,
   "metadata": {},
   "outputs": [
    {
     "name": "stdout",
     "output_type": "stream",
     "text": [
      "{ transactionHash:\n",
      "   '0x815f130aa1ac56bba1724b863f974d995c58e9827e997a2ff62a0a88cd34d372',\n",
      "  transactionIndex: 0,\n",
      "  blockHash:\n",
      "   '0xfee9770129e2bc00a64fffe5b6e2845abcc833ba233970f9c8dcd8ddc02c86e2',\n",
      "  blockNumber: 14,\n",
      "  from: '0x61b11aa9a43ed81ed8ec42564feccb28f3a3dc9f',\n",
      "  to: '0x9479ee8981ab2965f590138fc63ebdf61cad4ca7',\n",
      "  gasUsed: 21000,\n",
      "  cumulativeGasUsed: 21000,\n",
      "  contractAddress: null,\n",
      "  logs: [],\n",
      "  status: true,\n",
      "  logsBloom:\n",
      "   '0x00000000000000000000000000000000000000000000000000000000000000000000000000000000000000000000000000000000000000000000000000000000000000000000000000000000000000000000000000000000000000000000000000000000000000000000000000000000000000000000000000000000000000000000000000000000000000000000000000000000000000000000000000000000000000000000000000000000000000000000000000000000000000000000000000000000000000000000000000000000000000000000000000000000000000000000000000000000000000000000000000000000000000000000000000000000',\n",
      "  v: '0x2d45',\n",
      "  r:\n",
      "   '0xbf376a347da719f36ca3f8508ab650bd19668aa71727596b287ea8b41e3b7d30',\n",
      "  s:\n",
      "   '0x5bda1932de09b71252bcb30b29b8a3a239ee21edeadc5e78f3aa2f77c9e34ec3' }\n"
     ]
    }
   ],
   "source": [
    "// send the most simple transation\n",
    "var rawTx4 = {\n",
    "    to:list[1],\n",
    "    gas:2000000, //\"gas is missing\"\n",
    "}\n",
    "web3.eth.accounts.signTransaction(rawTx4, privatekey).then(signed => {\n",
    "    web3.eth.sendSignedTransaction(signed.rawTransaction).on('receipt', console.log)\n",
    "});"
   ]
  },
  {
   "cell_type": "markdown",
   "metadata": {},
   "source": [
    "## Interact with SC"
   ]
  },
  {
   "cell_type": "code",
   "execution_count": 15,
   "metadata": {},
   "outputs": [
    {
     "data": {
      "text/plain": [
       "'pragma solidity ^0.5.0;\\n\\ncontract Calc{\\n\\n  uint result;\\n\\n\\n  function add(uint a, uint b) public returns(uint){\\n    result = a + b;\\n    return result;\\n  }\\n\\n\\n  function getCount() public view returns (uint){\\n    return result;\\n  }\\n}'"
      ]
     },
     "execution_count": 15,
     "metadata": {},
     "output_type": "execute_result"
    }
   ],
   "source": [
    "//读取sol文件\n",
    "var fs = require('fs');\n",
    "var data = fs.readFileSync('./contracts/add.sol','UTF-8'); //添加‘UTF-8’之后，得到字符串\n",
    "data"
   ]
  },
  {
   "cell_type": "code",
   "execution_count": 16,
   "metadata": {},
   "outputs": [],
   "source": [
    "var input = {\n",
    "    language: 'Solidity',\n",
    "    sources: {\n",
    "        'add.sol' : {\n",
    "            content: data\n",
    "        }\n",
    "    },\n",
    "    settings: {\n",
    "        outputSelection: {\n",
    "            '*': {\n",
    "                '*': [ '*' ]\n",
    "            }\n",
    "        }\n",
    "    }\n",
    "};"
   ]
  },
  {
   "cell_type": "markdown",
   "metadata": {},
   "source": [
    "### Compile SC \n",
    "npm install -g solc    "
   ]
  },
  {
   "cell_type": "code",
   "execution_count": 18,
   "metadata": {},
   "outputs": [],
   "source": [
    "var solc = require('solc')"
   ]
  },
  {
   "cell_type": "code",
   "execution_count": 19,
   "metadata": {},
   "outputs": [
    {
     "data": {
      "text/plain": [
       "{ contracts: { 'add.sol': { Calc: [Object] } },\n",
       "  sources: { 'add.sol': { id: 0 } } }"
      ]
     },
     "execution_count": 19,
     "metadata": {},
     "output_type": "execute_result"
    }
   ],
   "source": [
    "var output = JSON.parse(solc.compile(JSON.stringify(input)));\n",
    "output"
   ]
  },
  {
   "cell_type": "code",
   "execution_count": 20,
   "metadata": {},
   "outputs": [
    {
     "data": {
      "text/plain": [
       "'608060405234801561001057600080fd5b5060f08061001f6000396000f3fe6080604052348015600f57600080fd5b506004361060325760003560e01c8063771602f7146037578063a87d942c146080575b600080fd5b606a60048036036040811015604b57600080fd5b810190808035906020019092919080359060200190929190505050609c565b6040518082815260200191505060405180910390f35b608660b2565b6040518082815260200191505060405180910390f35b6000818301600081905550600054905092915050565b6000805490509056fea265627a7a72315820ff1068beeb47da4ea4b5cf8f5fbd24b14fbc470a318e80d69b8484db5e415be464736f6c634300050c0032'"
      ]
     },
     "execution_count": 20,
     "metadata": {},
     "output_type": "execute_result"
    }
   ],
   "source": [
    "// 一定要使用'0x'+ object\n",
    "var bytecode = output.contracts['add.sol']['Calc'].evm.bytecode.object\n",
    "bytecode"
   ]
  },
  {
   "cell_type": "code",
   "execution_count": 21,
   "metadata": {},
   "outputs": [
    {
     "data": {
      "text/plain": [
       "[ { constant: false,\n",
       "    inputs: [ [Object], [Object] ],\n",
       "    name: 'add',\n",
       "    outputs: [ [Object] ],\n",
       "    payable: false,\n",
       "    stateMutability: 'nonpayable',\n",
       "    type: 'function' },\n",
       "  { constant: true,\n",
       "    inputs: [],\n",
       "    name: 'getCount',\n",
       "    outputs: [ [Object] ],\n",
       "    payable: false,\n",
       "    stateMutability: 'view',\n",
       "    type: 'function' } ]"
      ]
     },
     "execution_count": 21,
     "metadata": {},
     "output_type": "execute_result"
    }
   ],
   "source": [
    "var abi = output.contracts['add.sol']['Calc'].abi\n",
    "abi "
   ]
  },
  {
   "cell_type": "markdown",
   "metadata": {},
   "source": [
    "### Deploy SC"
   ]
  },
  {
   "cell_type": "code",
   "execution_count": 22,
   "metadata": {},
   "outputs": [],
   "source": [
    "// 创建合约对象\n",
    "var calcContract = new web3.eth.Contract(abi,null,{\n",
    "    data:'0x' + bytecode,\n",
    "    gas:6000000\n",
    "})"
   ]
  },
  {
   "cell_type": "code",
   "execution_count": 23,
   "metadata": {},
   "outputs": [
    {
     "name": "stdout",
     "output_type": "stream",
     "text": [
      "transactionHash :0xcfe01d0918e8ccb66351fd40ec481ebbe621db166c62ba569a3366f7e2da4e01\n",
      "0xE5eADaC345A466F6DB365465A8278adC2860B461\n"
     ]
    },
    {
     "data": {
      "text/plain": [
       "Contract {\n",
       "  currentProvider: [Getter/Setter],\n",
       "  _requestManager:\n",
       "   RequestManager {\n",
       "     provider:\n",
       "      HttpProvider {\n",
       "        host: 'HTTP://192.168.200.215:7545',\n",
       "        httpAgent: [Agent],\n",
       "        timeout: 0,\n",
       "        headers: undefined,\n",
       "        connected: true },\n",
       "     providers:\n",
       "      { WebsocketProvider: [Function: WebsocketProvider],\n",
       "        HttpProvider: [Function: HttpProvider],\n",
       "        IpcProvider: [Function: IpcProvider] },\n",
       "     subscriptions: {} },\n",
       "  givenProvider: null,\n",
       "  providers:\n",
       "   { WebsocketProvider: [Function: WebsocketProvider],\n",
       "     HttpProvider: [Function: HttpProvider],\n",
       "     IpcProvider: [Function: IpcProvider] },\n",
       "  _provider:\n",
       "   HttpProvider {\n",
       "     host: 'HTTP://192.168.200.215:7545',\n",
       "     httpAgent:\n",
       "      Agent {\n",
       "        _events: [Object],\n",
       "        _eventsCount: 1,\n",
       "        _maxListeners: undefined,\n",
       "        defaultPort: 80,\n",
       "        protocol: 'http:',\n",
       "        options: [Object],\n",
       "        requests: {},\n",
       "        sockets: {},\n",
       "        freeSockets: [Object],\n",
       "        keepAliveMsecs: 1000,\n",
       "        keepAlive: true,\n",
       "        maxSockets: Infinity,\n",
       "        maxFreeSockets: 256 },\n",
       "     timeout: 0,\n",
       "     headers: undefined,\n",
       "     connected: true },\n",
       "  setProvider: [Function],\n",
       "  BatchRequest: [Function: bound Batch],\n",
       "  extend:\n",
       "   { [Function: ex]\n",
       "     formatters:\n",
       "      { inputDefaultBlockNumberFormatter: [Function: inputDefaultBlockNumberFormatter],\n",
       "        inputBlockNumberFormatter: [Function: inputBlockNumberFormatter],\n",
       "        inputCallFormatter: [Function: inputCallFormatter],\n",
       "        inputTransactionFormatter: [Function: inputTransactionFormatter],\n",
       "        inputAddressFormatter: [Function: inputAddressFormatter],\n",
       "        inputPostFormatter: [Function: inputPostFormatter],\n",
       "        inputLogFormatter: [Function: inputLogFormatter],\n",
       "        inputSignFormatter: [Function: inputSignFormatter],\n",
       "        outputBigNumberFormatter: [Function: outputBigNumberFormatter],\n",
       "        outputTransactionFormatter: [Function: outputTransactionFormatter],\n",
       "        outputTransactionReceiptFormatter: [Function: outputTransactionReceiptFormatter],\n",
       "        outputBlockFormatter: [Function: outputBlockFormatter],\n",
       "        outputLogFormatter: [Function: outputLogFormatter],\n",
       "        outputPostFormatter: [Function: outputPostFormatter],\n",
       "        outputSyncingFormatter: [Function: outputSyncingFormatter] },\n",
       "     utils:\n",
       "      { _fireError: [Function: _fireError],\n",
       "        _jsonInterfaceMethodToString: [Function: _jsonInterfaceMethodToString],\n",
       "        _flattenTypes: [Function: _flattenTypes],\n",
       "        randomHex: [Function: randomHex],\n",
       "        _: [Function],\n",
       "        BN: [Function],\n",
       "        isBN: [Function: isBN],\n",
       "        isBigNumber: [Function: isBigNumber],\n",
       "        isHex: [Function: isHex],\n",
       "        isHexStrict: [Function: isHexStrict],\n",
       "        sha3: [Function],\n",
       "        keccak256: [Function],\n",
       "        soliditySha3: [Function: soliditySha3],\n",
       "        isAddress: [Function: isAddress],\n",
       "        checkAddressChecksum: [Function: checkAddressChecksum],\n",
       "        toChecksumAddress: [Function: toChecksumAddress],\n",
       "        toHex: [Function: toHex],\n",
       "        toBN: [Function: toBN],\n",
       "        bytesToHex: [Function: bytesToHex],\n",
       "        hexToBytes: [Function: hexToBytes],\n",
       "        hexToNumberString: [Function: hexToNumberString],\n",
       "        hexToNumber: [Function: hexToNumber],\n",
       "        toDecimal: [Function: hexToNumber],\n",
       "        numberToHex: [Function: numberToHex],\n",
       "        fromDecimal: [Function: numberToHex],\n",
       "        hexToUtf8: [Function: hexToUtf8],\n",
       "        hexToString: [Function: hexToUtf8],\n",
       "        toUtf8: [Function: hexToUtf8],\n",
       "        utf8ToHex: [Function: utf8ToHex],\n",
       "        stringToHex: [Function: utf8ToHex],\n",
       "        fromUtf8: [Function: utf8ToHex],\n",
       "        hexToAscii: [Function: hexToAscii],\n",
       "        toAscii: [Function: hexToAscii],\n",
       "        asciiToHex: [Function: asciiToHex],\n",
       "        fromAscii: [Function: asciiToHex],\n",
       "        unitMap: [Object],\n",
       "        toWei: [Function: toWei],\n",
       "        fromWei: [Function: fromWei],\n",
       "        padLeft: [Function: leftPad],\n",
       "        leftPad: [Function: leftPad],\n",
       "        padRight: [Function: rightPad],\n",
       "        rightPad: [Function: rightPad],\n",
       "        toTwosComplement: [Function: toTwosComplement] },\n",
       "     Method: [Function: Method] },\n",
       "  clearSubscriptions: [Function],\n",
       "  options:\n",
       "   { data:\n",
       "      '0x608060405234801561001057600080fd5b5060f08061001f6000396000f3fe6080604052348015600f57600080fd5b506004361060325760003560e01c8063771602f7146037578063a87d942c146080575b600080fd5b606a60048036036040811015604b57600080fd5b810190808035906020019092919080359060200190929190505050609c565b6040518082815260200191505060405180910390f35b608660b2565b6040518082815260200191505060405180910390f35b6000818301600081905550600054905092915050565b6000805490509056fea265627a7a72315820ff1068beeb47da4ea4b5cf8f5fbd24b14fbc470a318e80d69b8484db5e415be464736f6c634300050c0032',\n",
       "     gas: 6000000,\n",
       "     from: undefined,\n",
       "     gasPrice: undefined,\n",
       "     address: [Getter/Setter],\n",
       "     jsonInterface: [Getter/Setter] },\n",
       "  defaultAccount: [Getter/Setter],\n",
       "  defaultBlock: [Getter/Setter],\n",
       "  methods:\n",
       "   { add: [Function: bound _createTxObject],\n",
       "     '0x771602f7': [Function: bound _createTxObject],\n",
       "     'add(uint256,uint256)': [Function: bound _createTxObject],\n",
       "     getCount: [Function: bound _createTxObject],\n",
       "     '0xa87d942c': [Function: bound _createTxObject],\n",
       "     'getCount()': [Function: bound _createTxObject] },\n",
       "  events: { allEvents: [Function: bound ] },\n",
       "  _address: '0xE5eADaC345A466F6DB365465A8278adC2860B461',\n",
       "  _jsonInterface:\n",
       "   [ { constant: false,\n",
       "       inputs: [Array],\n",
       "       name: 'add',\n",
       "       outputs: [Array],\n",
       "       payable: false,\n",
       "       stateMutability: 'nonpayable',\n",
       "       type: 'function',\n",
       "       signature: '0x771602f7' },\n",
       "     { constant: true,\n",
       "       inputs: [],\n",
       "       name: 'getCount',\n",
       "       outputs: [Array],\n",
       "       payable: false,\n",
       "       stateMutability: 'view',\n",
       "       type: 'function',\n",
       "       signature: '0xa87d942c' } ] }"
      ]
     },
     "execution_count": 23,
     "metadata": {},
     "output_type": "execute_result"
    }
   ],
   "source": [
    "// 部署合约\n",
    "var contractAdd\n",
    "calcContract.deploy().send({\n",
    "    from: list[0]\n",
    "})\n",
    ".on('error', (error) => { \n",
    "    console.error(error)\n",
    " })\n",
    ".on('transactionHash', (transactionHash) => { \n",
    "//     tx_hash = transactionHash;\n",
    "    console.log(\"transactionHash :\" + transactionHash)\n",
    " })\n",
    ".on('receipt', (receipt) => {\n",
    "//    console.log(\"receipt:\"); \n",
    "//    console.log(receipt);\n",
    "   contractAdd = receipt.contractAddress; \n",
    "   console.log(receipt.contractAddress); \n",
    "})\n",
    "// console.log(contractAdd)"
   ]
  },
  {
   "cell_type": "markdown",
   "metadata": {},
   "source": [
    "### Invocke SC"
   ]
  },
  {
   "cell_type": "code",
   "execution_count": 24,
   "metadata": {},
   "outputs": [],
   "source": [
    "var contractInstance =new web3.eth.Contract(abi, contractAdd)"
   ]
  },
  {
   "cell_type": "code",
   "execution_count": 25,
   "metadata": {},
   "outputs": [
    {
     "data": {
      "text/plain": [
       "{ transactionHash:\n",
       "   '0xac416121edb800131b63507384ea3618fd5c45c6e017c0cd69d30e4117b5aabd',\n",
       "  transactionIndex: 0,\n",
       "  blockHash:\n",
       "   '0x20e32313ea834770b22cfd983a6b172576270be9130184b0aa92aa7788b4c434',\n",
       "  blockNumber: 16,\n",
       "  from: '0x9a23c89de5a2c30d0d75732e1741371706fddfc9',\n",
       "  to: '0xe5eadac345a466f6db365465a8278adc2860b461',\n",
       "  gasUsed: 42183,\n",
       "  cumulativeGasUsed: 42183,\n",
       "  contractAddress: null,\n",
       "  status: true,\n",
       "  logsBloom:\n",
       "   '0x00000000000000000000000000000000000000000000000000000000000000000000000000000000000000000000000000000000000000000000000000000000000000000000000000000000000000000000000000000000000000000000000000000000000000000000000000000000000000000000000000000000000000000000000000000000000000000000000000000000000000000000000000000000000000000000000000000000000000000000000000000000000000000000000000000000000000000000000000000000000000000000000000000000000000000000000000000000000000000000000000000000000000000000000000000000',\n",
       "  v: '0x1c',\n",
       "  r:\n",
       "   '0xe6356f313ec35fc4b8d8c2986a316f32697ccc260002ce6249834ccd39127e8c',\n",
       "  s:\n",
       "   '0x6e9f99b6f992d8b8cc1fa42cf7c5171a65334e80cb4da8d2743eda88bddef3c8',\n",
       "  events: {} }"
      ]
     },
     "execution_count": 25,
     "metadata": {},
     "output_type": "execute_result"
    }
   ],
   "source": [
    "// Will send a transaction to the smart contract and execute its method. Note this can alter the smart contract state.\n",
    "contractInstance.methods.add(8,9).send({\n",
    "    from:list[3]\n",
    "})"
   ]
  },
  {
   "cell_type": "code",
   "execution_count": 26,
   "metadata": {},
   "outputs": [
    {
     "data": {
      "text/plain": [
       "'17'"
      ]
     },
     "execution_count": 26,
     "metadata": {},
     "output_type": "execute_result"
    }
   ],
   "source": [
    "contractInstance.methods.getCount().call()"
   ]
  },
  {
   "cell_type": "code",
   "execution_count": null,
   "metadata": {},
   "outputs": [],
   "source": []
  }
 ],
 "metadata": {
  "kernelspec": {
   "display_name": "Javascript (Node.js)",
   "language": "javascript",
   "name": "javascript"
  },
  "language_info": {
   "file_extension": ".js",
   "mimetype": "application/javascript",
   "name": "javascript",
   "version": "10.16.0"
  },
  "toc": {
   "base_numbering": 1,
   "nav_menu": {},
   "number_sections": true,
   "sideBar": true,
   "skip_h1_title": false,
   "title_cell": "Table of Contents",
   "title_sidebar": "Contents",
   "toc_cell": false,
   "toc_position": {},
   "toc_section_display": true,
   "toc_window_display": true
  },
  "varInspector": {
   "cols": {
    "lenName": 16,
    "lenType": 16,
    "lenVar": 40
   },
   "kernels_config": {
    "python": {
     "delete_cmd_postfix": "",
     "delete_cmd_prefix": "del ",
     "library": "var_list.py",
     "varRefreshCmd": "print(var_dic_list())"
    },
    "r": {
     "delete_cmd_postfix": ") ",
     "delete_cmd_prefix": "rm(",
     "library": "var_list.r",
     "varRefreshCmd": "cat(var_dic_list()) "
    }
   },
   "types_to_exclude": [
    "module",
    "function",
    "builtin_function_or_method",
    "instance",
    "_Feature"
   ],
   "window_display": false
  }
 },
 "nbformat": 4,
 "nbformat_minor": 2
}
