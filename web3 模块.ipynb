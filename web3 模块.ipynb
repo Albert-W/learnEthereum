{
 "cells": [
  {
   "cell_type": "markdown",
   "metadata": {},
   "source": [
    "## web3"
   ]
  },
  {
   "cell_type": "code",
   "execution_count": 1,
   "metadata": {},
   "outputs": [
    {
     "data": {
      "text/plain": [
       "'1.2.1'"
      ]
     },
     "execution_count": 1,
     "metadata": {},
     "output_type": "execute_result"
    }
   ],
   "source": [
    "var web3 = require('web3')\n",
    "web3.version"
   ]
  },
  {
   "cell_type": "code",
   "execution_count": 4,
   "metadata": {},
   "outputs": [
    {
     "data": {
      "text/plain": [
       "{\n",
       "  WebsocketProvider: [Function: WebsocketProvider],\n",
       "  HttpProvider: [Function: HttpProvider],\n",
       "  IpcProvider: [Function: IpcProvider]\n",
       "}"
      ]
     },
     "execution_count": 4,
     "metadata": {},
     "output_type": "execute_result"
    }
   ],
   "source": [
    "web3.providers"
   ]
  },
  {
   "cell_type": "code",
   "execution_count": 7,
   "metadata": {},
   "outputs": [],
   "source": [
    "var web3 = new web3('HTTP://127.0.0.1:7545')"
   ]
  },
  {
   "cell_type": "code",
   "execution_count": 8,
   "metadata": {},
   "outputs": [
    {
     "data": {
      "text/plain": [
       "HttpProvider {\n",
       "  host: 'HTTP://127.0.0.1:7545',\n",
       "  httpAgent: Agent {\n",
       "    _events: [Object: null prototype] { free: [Function] },\n",
       "    _eventsCount: 1,\n",
       "    _maxListeners: undefined,\n",
       "    defaultPort: 80,\n",
       "    protocol: 'http:',\n",
       "    options: { keepAlive: true, path: null },\n",
       "    requests: {},\n",
       "    sockets: {},\n",
       "    freeSockets: {},\n",
       "    keepAliveMsecs: 1000,\n",
       "    keepAlive: true,\n",
       "    maxSockets: Infinity,\n",
       "    maxFreeSockets: 256\n",
       "  },\n",
       "  timeout: 0,\n",
       "  headers: undefined,\n",
       "  connected: false\n",
       "}"
      ]
     },
     "execution_count": 8,
     "metadata": {},
     "output_type": "execute_result"
    }
   ],
   "source": [
    "web3.currentProvider"
   ]
  },
  {
   "cell_type": "code",
   "execution_count": 9,
   "metadata": {},
   "outputs": [
    {
     "data": {
      "text/plain": [
       "HttpProvider {\n",
       "  host: 'HTTP://127.0.0.1:7545',\n",
       "  httpAgent: Agent {\n",
       "    _events: [Object: null prototype] { free: [Function] },\n",
       "    _eventsCount: 1,\n",
       "    _maxListeners: undefined,\n",
       "    defaultPort: 80,\n",
       "    protocol: 'http:',\n",
       "    options: { keepAlive: true, path: null },\n",
       "    requests: {},\n",
       "    sockets: {},\n",
       "    freeSockets: {},\n",
       "    keepAliveMsecs: 1000,\n",
       "    keepAlive: true,\n",
       "    maxSockets: Infinity,\n",
       "    maxFreeSockets: 256\n",
       "  },\n",
       "  timeout: 0,\n",
       "  headers: undefined,\n",
       "  connected: false\n",
       "}"
      ]
     },
     "execution_count": 9,
     "metadata": {},
     "output_type": "execute_result"
    }
   ],
   "source": [
    "web3.shh.currentProvider // interacting with the whisper protocol "
   ]
  },
  {
   "cell_type": "code",
   "execution_count": 10,
   "metadata": {},
   "outputs": [
    {
     "data": {
      "text/plain": [
       "HttpProvider {\n",
       "  host: 'HTTP://127.0.0.1:7545',\n",
       "  httpAgent: Agent {\n",
       "    _events: [Object: null prototype] { free: [Function] },\n",
       "    _eventsCount: 1,\n",
       "    _maxListeners: undefined,\n",
       "    defaultPort: 80,\n",
       "    protocol: 'http:',\n",
       "    options: { keepAlive: true, path: null },\n",
       "    requests: {},\n",
       "    sockets: {},\n",
       "    freeSockets: {},\n",
       "    keepAliveMsecs: 1000,\n",
       "    keepAlive: true,\n",
       "    maxSockets: Infinity,\n",
       "    maxFreeSockets: 256\n",
       "  },\n",
       "  timeout: 0,\n",
       "  headers: undefined,\n",
       "  connected: false\n",
       "}"
      ]
     },
     "execution_count": 10,
     "metadata": {},
     "output_type": "execute_result"
    }
   ],
   "source": [
    "web3.eth.currentProvider //interacting with the Ethereum network"
   ]
  },
  {
   "cell_type": "code",
   "execution_count": 11,
   "metadata": {},
   "outputs": [
    {
     "data": {
      "text/plain": [
       "null"
      ]
     },
     "execution_count": 11,
     "metadata": {},
     "output_type": "execute_result"
    }
   ],
   "source": [
    "web3.bzz.currentProvider //interacting with the swarm network"
   ]
  },
  {
   "cell_type": "code",
   "execution_count": 12,
   "metadata": {},
   "outputs": [
    {
     "data": {
      "text/plain": [
       "5777"
      ]
     },
     "execution_count": 12,
     "metadata": {},
     "output_type": "execute_result"
    }
   ],
   "source": [
    "web3.eth.net.getId()"
   ]
  },
  {
   "cell_type": "code",
   "execution_count": 14,
   "metadata": {},
   "outputs": [
    {
     "data": {
      "text/plain": [
       "5777"
      ]
     },
     "execution_count": 14,
     "metadata": {},
     "output_type": "execute_result"
    }
   ],
   "source": [
    "web3.shh.net.getId()"
   ]
  },
  {
   "cell_type": "code",
   "execution_count": 15,
   "metadata": {},
   "outputs": [
    {
     "data": {
      "text/plain": [
       "true"
      ]
     },
     "execution_count": 15,
     "metadata": {},
     "output_type": "execute_result"
    }
   ],
   "source": [
    "web3.eth.net.isListening()"
   ]
  },
  {
   "cell_type": "code",
   "execution_count": 17,
   "metadata": {},
   "outputs": [
    {
     "data": {
      "text/plain": [
       "true"
      ]
     },
     "execution_count": 17,
     "metadata": {},
     "output_type": "execute_result"
    }
   ],
   "source": [
    "web3.shh.net.isListening()"
   ]
  },
  {
   "cell_type": "code",
   "execution_count": 20,
   "metadata": {},
   "outputs": [
    {
     "data": {
      "text/plain": [
       "0"
      ]
     },
     "execution_count": 20,
     "metadata": {},
     "output_type": "execute_result"
    }
   ],
   "source": [
    "web3.eth.net.getPeerCount()"
   ]
  },
  {
   "cell_type": "code",
   "execution_count": 21,
   "metadata": {},
   "outputs": [
    {
     "data": {
      "text/plain": [
       "[\n",
       "  '0x3b089cCb6835860eCfb12cC073e723a544a1937E',\n",
       "  '0xAE6946590cCd7979153FbcE4Ff6CBdfB2331F7b3',\n",
       "  '0x514a5A14D9cf277B1b134159C5ee14a44f6c7420',\n",
       "  '0xFd6fF9702e505Cb2C1B2BC14bDb5D6b2e3e54260',\n",
       "  '0x858A4BFf71fEB5e5359405d895c18b70b1792E4F',\n",
       "  '0x8213806b2A2B5aA222F4c552626dB706B626A3bf',\n",
       "  '0xE02FA7fE062553Df6cAA0d9dd4a1e2672d4C5428',\n",
       "  '0xDeCC32b6C513c2D54B0C485a0b6251c0Dd3eaF34',\n",
       "  '0x37fE73Beef5E98E28a4a1985c156d93Eff2F9593',\n",
       "  '0x05991DA89D594114084C6944738fA72BEC1cD299'\n",
       "]"
      ]
     },
     "execution_count": 21,
     "metadata": {},
     "output_type": "execute_result"
    }
   ],
   "source": [
    "web3.eth.getAccounts()"
   ]
  },
  {
   "cell_type": "code",
   "execution_count": 23,
   "metadata": {},
   "outputs": [
    {
     "data": {
      "text/plain": [
       "0"
      ]
     },
     "execution_count": 23,
     "metadata": {},
     "output_type": "execute_result"
    }
   ],
   "source": [
    "web3.shh.net.getPeerCount()"
   ]
  },
  {
   "cell_type": "code",
   "execution_count": 25,
   "metadata": {},
   "outputs": [
    {
     "data": {
      "text/plain": [
       "'2'"
      ]
     },
     "execution_count": 25,
     "metadata": {},
     "output_type": "execute_result"
    }
   ],
   "source": [
    "web3.shh.getVersion() //the version of the running whisper."
   ]
  },
  {
   "cell_type": "code",
   "execution_count": 27,
   "metadata": {},
   "outputs": [
    {
     "ename": "Error",
     "evalue": "Returned error: Method shh_newKeyPair not supported.",
     "output_type": "error",
     "traceback": [
      "Error: Returned error: Method shh_newKeyPair not supported.",
      "    at Object.ErrorResponse (/home/yichang/.nvm/versions/node/v12.2.0/lib/node_modules/web3/node_modules/web3-core-helpers/src/errors.js:29:16)",
      "    at /home/yichang/.nvm/versions/node/v12.2.0/lib/node_modules/web3/node_modules/web3-core-requestmanager/src/index.js:140:36",
      "    at XMLHttpRequest.request.onreadystatechange (/home/yichang/.nvm/versions/node/v12.2.0/lib/node_modules/web3/node_modules/web3-providers-http/src/index.js:96:13)",
      "    at XMLHttpRequestEventTarget.dispatchEvent (/home/yichang/.nvm/versions/node/v12.2.0/lib/node_modules/web3/node_modules/xhr2-cookies/dist/xml-http-request-event-target.js:34:22)",
      "    at XMLHttpRequest._setReadyState (/home/yichang/.nvm/versions/node/v12.2.0/lib/node_modules/web3/node_modules/xhr2-cookies/dist/xml-http-request.js:208:14)",
      "    at XMLHttpRequest._onHttpResponseEnd (/home/yichang/.nvm/versions/node/v12.2.0/lib/node_modules/web3/node_modules/xhr2-cookies/dist/xml-http-request.js:318:14)",
      "    at IncomingMessage.<anonymous> (/home/yichang/.nvm/versions/node/v12.2.0/lib/node_modules/web3/node_modules/xhr2-cookies/dist/xml-http-request.js:289:61)",
      "    at IncomingMessage.emit (events.js:201:15)",
      "    at endReadableNT (_stream_readable.js:1130:12)",
      "    at processTicksAndRejections (internal/process/task_queues.js:84:9)"
     ]
    }
   ],
   "source": [
    "web3.shh.newKeyPair()"
   ]
  },
  {
   "cell_type": "code",
   "execution_count": 28,
   "metadata": {},
   "outputs": [
    {
     "ename": "Error",
     "evalue": "Returned error: Method shh_getPublicKey not supported.",
     "output_type": "error",
     "traceback": [
      "Error: Returned error: Method shh_getPublicKey not supported.",
      "    at Object.ErrorResponse (/home/yichang/.nvm/versions/node/v12.2.0/lib/node_modules/web3/node_modules/web3-core-helpers/src/errors.js:29:16)",
      "    at /home/yichang/.nvm/versions/node/v12.2.0/lib/node_modules/web3/node_modules/web3-core-requestmanager/src/index.js:140:36",
      "    at XMLHttpRequest.request.onreadystatechange (/home/yichang/.nvm/versions/node/v12.2.0/lib/node_modules/web3/node_modules/web3-providers-http/src/index.js:96:13)",
      "    at XMLHttpRequestEventTarget.dispatchEvent (/home/yichang/.nvm/versions/node/v12.2.0/lib/node_modules/web3/node_modules/xhr2-cookies/dist/xml-http-request-event-target.js:34:22)",
      "    at XMLHttpRequest._setReadyState (/home/yichang/.nvm/versions/node/v12.2.0/lib/node_modules/web3/node_modules/xhr2-cookies/dist/xml-http-request.js:208:14)",
      "    at XMLHttpRequest._onHttpResponseEnd (/home/yichang/.nvm/versions/node/v12.2.0/lib/node_modules/web3/node_modules/xhr2-cookies/dist/xml-http-request.js:318:14)",
      "    at IncomingMessage.<anonymous> (/home/yichang/.nvm/versions/node/v12.2.0/lib/node_modules/web3/node_modules/xhr2-cookies/dist/xml-http-request.js:289:61)",
      "    at IncomingMessage.emit (events.js:201:15)",
      "    at endReadableNT (_stream_readable.js:1130:12)",
      "    at processTicksAndRejections (internal/process/task_queues.js:84:9)"
     ]
    }
   ],
   "source": [
    "web3.shh.getPublicKey(\"0x3b089cCb6835860eCfb12cC073e723a544a1937E\")"
   ]
  },
  {
   "cell_type": "code",
   "execution_count": null,
   "metadata": {},
   "outputs": [],
   "source": []
  }
 ],
 "metadata": {
  "kernelspec": {
   "display_name": "Javascript (Node.js)",
   "language": "javascript",
   "name": "javascript"
  },
  "language_info": {
   "file_extension": ".js",
   "mimetype": "application/javascript",
   "name": "javascript",
   "version": "12.2.0"
  },
  "toc": {
   "base_numbering": 1,
   "nav_menu": {},
   "number_sections": true,
   "sideBar": true,
   "skip_h1_title": false,
   "title_cell": "Table of Contents",
   "title_sidebar": "Contents",
   "toc_cell": false,
   "toc_position": {},
   "toc_section_display": true,
   "toc_window_display": false
  },
  "varInspector": {
   "cols": {
    "lenName": 16,
    "lenType": 16,
    "lenVar": 40
   },
   "kernels_config": {
    "python": {
     "delete_cmd_postfix": "",
     "delete_cmd_prefix": "del ",
     "library": "var_list.py",
     "varRefreshCmd": "print(var_dic_list())"
    },
    "r": {
     "delete_cmd_postfix": ") ",
     "delete_cmd_prefix": "rm(",
     "library": "var_list.r",
     "varRefreshCmd": "cat(var_dic_list()) "
    }
   },
   "types_to_exclude": [
    "module",
    "function",
    "builtin_function_or_method",
    "instance",
    "_Feature"
   ],
   "window_display": false
  }
 },
 "nbformat": 4,
 "nbformat_minor": 2
}
