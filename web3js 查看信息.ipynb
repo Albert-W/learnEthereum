{
 "cells": [
  {
   "cell_type": "markdown",
   "metadata": {},
   "source": [
    "## 导入web3 "
   ]
  },
  {
   "cell_type": "code",
   "execution_count": 1,
   "metadata": {},
   "outputs": [],
   "source": [
    "var web3 = require('web3')"
   ]
  },
  {
   "cell_type": "code",
   "execution_count": 2,
   "metadata": {},
   "outputs": [
    {
     "data": {
      "text/plain": [
       "'1.2.1'"
      ]
     },
     "execution_count": 2,
     "metadata": {},
     "output_type": "execute_result"
    }
   ],
   "source": [
    "web3.version"
   ]
  },
  {
   "cell_type": "markdown",
   "metadata": {},
   "source": [
    "## 连接 区块链\n",
    "\n",
    "通过Ganache 建立 本地仿真链    \n",
    "查看RPC：HTTP://192.168.200.215:7545"
   ]
  },
  {
   "cell_type": "code",
   "execution_count": 3,
   "metadata": {},
   "outputs": [],
   "source": [
    "var web3 = new web3('HTTP://192.168.200.215:7545')"
   ]
  },
  {
   "cell_type": "markdown",
   "metadata": {},
   "source": [
    "### eth 模块"
   ]
  },
  {
   "cell_type": "code",
   "execution_count": 13,
   "metadata": {
    "scrolled": true
   },
   "outputs": [
    {
     "data": {
      "text/plain": [
       "[ '0x61b11Aa9A43ed81Ed8ec42564FECCb28F3a3dc9f',\n",
       "  '0x9479Ee8981aB2965F590138FC63eBDf61CAd4cA7',\n",
       "  '0x30E3508Dfe7dFab00CA4DA17124E7fCaEFEc40F3',\n",
       "  '0x9A23C89dE5a2c30d0d75732E1741371706FDDfc9',\n",
       "  '0x585cc22D37AE8049Cc17aBc8F25FA48F82AA4043',\n",
       "  '0xE9840769ff087feb9749BB2E9316Dc7670f5CCB5',\n",
       "  '0x0a090FcE9Ce30A131388232fcD3014Aef6C7892e',\n",
       "  '0xC236248d43EDba38231e2E9eB035c38D8E6cD059',\n",
       "  '0x7620f0E2CE7252Ca0C2793C38Ca1EE9c0E3f12d2',\n",
       "  '0x8Ca05A0A252b5e3c352CbE292287B25Bc3a63741' ]"
      ]
     },
     "execution_count": 13,
     "metadata": {},
     "output_type": "execute_result"
    }
   ],
   "source": [
    "web3.eth.getAccounts() // 获取全部账户"
   ]
  },
  {
   "cell_type": "code",
   "execution_count": 16,
   "metadata": {},
   "outputs": [
    {
     "name": "stdout",
     "output_type": "stream",
     "text": [
      "first addr: 0x61b11Aa9A43ed81Ed8ec42564FECCb28F3a3dc9f\n"
     ]
    }
   ],
   "source": [
    "var list;\n",
    "web3.eth.getAccounts().then(function(add){\n",
    "    list = add\n",
    "})\n",
    "console.log(\"first addr: \"+ list[0])"
   ]
  },
  {
   "cell_type": "code",
   "execution_count": 17,
   "metadata": {},
   "outputs": [
    {
     "data": {
      "text/plain": [
       "'99248319999996975904'"
      ]
     },
     "execution_count": 17,
     "metadata": {},
     "output_type": "execute_result"
    }
   ],
   "source": [
    "web3.eth.getBalance(list[0]) //100eth = 100 * 10^18 Wei"
   ]
  },
  {
   "cell_type": "code",
   "execution_count": 18,
   "metadata": {},
   "outputs": [
    {
     "data": {
      "text/plain": [
       "'0x61b11aa9a43ed81ed8ec42564feccb28f3a3dc9f'"
      ]
     },
     "execution_count": 18,
     "metadata": {},
     "output_type": "execute_result"
    }
   ],
   "source": [
    "web3.eth.getCoinbase() //the coinbase address to which mining rewards will go."
   ]
  },
  {
   "cell_type": "code",
   "execution_count": 20,
   "metadata": {},
   "outputs": [
    {
     "name": "stdout",
     "output_type": "stream",
     "text": [
      "second: 0x9A23C89dE5a2c30d0d75732E1741371706FDDfc9\n"
     ]
    }
   ],
   "source": [
    "var list2;\n",
    "web3.eth.getAccounts().then(add =>{ //简头函数，不能传入外部的参数。 \n",
    "    list2 = add\n",
    "})\n",
    "console.log(\"second: \"+ list2[3])"
   ]
  },
  {
   "cell_type": "code",
   "execution_count": 21,
   "metadata": {},
   "outputs": [],
   "source": [
    "var addr2 = list[2]"
   ]
  },
  {
   "cell_type": "code",
   "execution_count": 22,
   "metadata": {
    "scrolled": true
   },
   "outputs": [
    {
     "data": {
      "text/plain": [
       "{ transactionHash:\n",
       "   '0xffc7f09384c252d25de19dba4a3661eb2ed7274929c8998cbfc535a0015bdfca',\n",
       "  transactionIndex: 0,\n",
       "  blockHash:\n",
       "   '0x82063db1f8a16464f295ca985a704681073f95cb4d307a89a15f36460ca07335',\n",
       "  blockNumber: 10,\n",
       "  from: '0x61b11aa9a43ed81ed8ec42564feccb28f3a3dc9f',\n",
       "  to: '0x30e3508dfe7dfab00ca4da17124e7fcaefec40f3',\n",
       "  gasUsed: 21000,\n",
       "  cumulativeGasUsed: 21000,\n",
       "  contractAddress: null,\n",
       "  logs: [],\n",
       "  status: true,\n",
       "  logsBloom:\n",
       "   '0x00000000000000000000000000000000000000000000000000000000000000000000000000000000000000000000000000000000000000000000000000000000000000000000000000000000000000000000000000000000000000000000000000000000000000000000000000000000000000000000000000000000000000000000000000000000000000000000000000000000000000000000000000000000000000000000000000000000000000000000000000000000000000000000000000000000000000000000000000000000000000000000000000000000000000000000000000000000000000000000000000000000000000000000000000000000',\n",
       "  v: '0x1c',\n",
       "  r:\n",
       "   '0xd586e25c4f4d748b09b35ee1612fc30ac0aab6d20cd311243a11cb0e177feb35',\n",
       "  s:\n",
       "   '0x68107c14e3a06ce256b463d05e4fd07018f8058ace6c4649d29156bd3b0bb22f' }"
      ]
     },
     "execution_count": 22,
     "metadata": {},
     "output_type": "execute_result"
    }
   ],
   "source": [
    "web3.eth.sendTransaction({\n",
    "    from:addr1,\n",
    "    to:addr2,\n",
    "    value:'5000000000000'\n",
    "})"
   ]
  },
  {
   "cell_type": "code",
   "execution_count": 23,
   "metadata": {},
   "outputs": [
    {
     "data": {
      "text/plain": [
       "null"
      ]
     },
     "execution_count": 23,
     "metadata": {},
     "output_type": "execute_result"
    }
   ],
   "source": [
    "web3.eth.defaultAccount //Default is undefined"
   ]
  },
  {
   "cell_type": "code",
   "execution_count": 24,
   "metadata": {},
   "outputs": [
    {
     "data": {
      "text/plain": [
       "'0x61b11Aa9A43ed81Ed8ec42564FECCb28F3a3dc9f'"
      ]
     },
     "execution_count": 24,
     "metadata": {},
     "output_type": "execute_result"
    }
   ],
   "source": [
    "web3.eth.defaultAccount = addr1\n",
    "web3.eth.defaultAccount"
   ]
  },
  {
   "cell_type": "code",
   "execution_count": 25,
   "metadata": {},
   "outputs": [
    {
     "data": {
      "text/plain": [
       "'latest'"
      ]
     },
     "execution_count": 25,
     "metadata": {},
     "output_type": "execute_result"
    }
   ],
   "source": [
    "web3.eth.defaultBlock //default value is “latest” "
   ]
  },
  {
   "cell_type": "code",
   "execution_count": 26,
   "metadata": {},
   "outputs": [
    {
     "data": {
      "text/plain": [
       "'63'"
      ]
     },
     "execution_count": 26,
     "metadata": {},
     "output_type": "execute_result"
    }
   ],
   "source": [
    "web3.eth.getProtocolVersion()"
   ]
  },
  {
   "cell_type": "code",
   "execution_count": 27,
   "metadata": {},
   "outputs": [
    {
     "data": {
      "text/plain": [
       "0"
      ]
     },
     "execution_count": 27,
     "metadata": {},
     "output_type": "execute_result"
    }
   ],
   "source": [
    "web3.eth.getHashrate()"
   ]
  },
  {
   "cell_type": "code",
   "execution_count": 28,
   "metadata": {},
   "outputs": [
    {
     "data": {
      "text/plain": [
       "'20000000000'"
      ]
     },
     "execution_count": 28,
     "metadata": {},
     "output_type": "execute_result"
    }
   ],
   "source": [
    "web3.eth.getGasPrice()"
   ]
  },
  {
   "cell_type": "code",
   "execution_count": 29,
   "metadata": {},
   "outputs": [
    {
     "data": {
      "text/plain": [
       "10"
      ]
     },
     "execution_count": 29,
     "metadata": {},
     "output_type": "execute_result"
    }
   ],
   "source": [
    "web3.eth.getBlockNumber() //Returns the current block number."
   ]
  },
  {
   "cell_type": "code",
   "execution_count": 30,
   "metadata": {},
   "outputs": [
    {
     "data": {
      "text/plain": [
       "'100599580000000000096'"
      ]
     },
     "execution_count": 30,
     "metadata": {},
     "output_type": "execute_result"
    }
   ],
   "source": [
    "web3.eth.getBalance(list1[1])"
   ]
  },
  {
   "cell_type": "code",
   "execution_count": 31,
   "metadata": {
    "collapsed": true
   },
   "outputs": [
    {
     "data": {
      "text/plain": [
       "{ number: 1,\n",
       "  hash:\n",
       "   '0x8a21579cfb31a20cdfad61d4230cd99eb98b123df89d0b002cca7778445ced42',\n",
       "  parentHash:\n",
       "   '0xa102f23caf8f2cc749faf8fb22c910607b79034a9a4f7392d368198757d9598a',\n",
       "  mixHash:\n",
       "   '0x0000000000000000000000000000000000000000000000000000000000000000',\n",
       "  nonce: '0x0000000000000000',\n",
       "  sha3Uncles:\n",
       "   '0x1dcc4de8dec75d7aab85b567b6ccd41ad312451b948a7413f0a142fd40d49347',\n",
       "  logsBloom:\n",
       "   '0x00000000000000000000000000000000000000000000000000000000000000000000000000000000000000000000000000000000000000000000000000000000000000000000000000000000000000000000000000000000000000000000000000000000000000000000000000000000000000000000000000000000000000000000000000000000000000000000000000000000000000000000000000000000000000000000000000000000000000000000000000000000000000000000000000000000000000000000000000000000000000000000000000000000000000000000000000000000000000000000000000000000000000000000000000000000',\n",
       "  transactionsRoot:\n",
       "   '0x5f76b668be544fe5e63cf63a187fa11da2131929deb8c39ea45e11ea615735e9',\n",
       "  stateRoot:\n",
       "   '0xcc02864795a261deba1569bd64f671acb7a63d12dd209516ae891b07288f53ba',\n",
       "  receiptsRoot:\n",
       "   '0x056b23fbba480696b65fe5a59b8f2148a1299103c4f57df839233af2cf4ca2d2',\n",
       "  miner: '0x0000000000000000000000000000000000000000',\n",
       "  difficulty: '0',\n",
       "  totalDifficulty: '0',\n",
       "  extraData: '0x',\n",
       "  size: 1000,\n",
       "  gasLimit: 6721975,\n",
       "  gasUsed: 21000,\n",
       "  timestamp: 1566223459,\n",
       "  transactions:\n",
       "   [ '0x5975d220770569d4e2ea782223a9038801ee8bc38ea91e58be02da782a67ba85' ],\n",
       "  uncles: [] }"
      ]
     },
     "execution_count": 31,
     "metadata": {},
     "output_type": "execute_result"
    }
   ],
   "source": [
    "web3.eth.getBlock(1) //get the block object. "
   ]
  },
  {
   "cell_type": "code",
   "execution_count": 79,
   "metadata": {},
   "outputs": [
    {
     "data": {
      "text/plain": [
       "1"
      ]
     },
     "execution_count": 79,
     "metadata": {},
     "output_type": "execute_result"
    }
   ],
   "source": [
    "web3.eth.getBlockTransactionCount(1) //Returns the number of transaction in a given block."
   ]
  },
  {
   "cell_type": "code",
   "execution_count": 80,
   "metadata": {},
   "outputs": [
    {
     "data": {
      "text/plain": [
       "{\n",
       "  hash: '0x6043efd3204673acf96c1662492d416e7120224b8726050ffbdb92ae14c88c73',\n",
       "  nonce: 0,\n",
       "  blockHash: '0x84a47aad04c0a95eb4fa1dd6eacbe6e47092e7393a7edff87e4630dd728a77d6',\n",
       "  blockNumber: 1,\n",
       "  transactionIndex: 0,\n",
       "  from: '0x3b089cCb6835860eCfb12cC073e723a544a1937E',\n",
       "  to: '0xAE6946590cCd7979153FbcE4Ff6CBdfB2331F7b3',\n",
       "  value: '5000000000000',\n",
       "  gas: 90000,\n",
       "  gasPrice: '2000000000',\n",
       "  input: '0x0'\n",
       "}"
      ]
     },
     "execution_count": 80,
     "metadata": {},
     "output_type": "execute_result"
    }
   ],
   "source": [
    "var transhash = '0x6043efd3204673acf96c1662492d416e7120224b8726050ffbdb92ae14c88c73'\n",
    "web3.eth.getTransaction(transhash)"
   ]
  },
  {
   "cell_type": "code",
   "execution_count": 81,
   "metadata": {},
   "outputs": [
    {
     "data": {
      "text/plain": [
       "{\n",
       "  transactionHash: '0x6043efd3204673acf96c1662492d416e7120224b8726050ffbdb92ae14c88c73',\n",
       "  transactionIndex: 0,\n",
       "  blockHash: '0x84a47aad04c0a95eb4fa1dd6eacbe6e47092e7393a7edff87e4630dd728a77d6',\n",
       "  blockNumber: 1,\n",
       "  gasUsed: 21000,\n",
       "  cumulativeGasUsed: 21000,\n",
       "  contractAddress: null,\n",
       "  logs: [],\n",
       "  status: true,\n",
       "  logsBloom: '0x00000000000000000000000000000000000000000000000000000000000000000000000000000000000000000000000000000000000000000000000000000000000000000000000000000000000000000000000000000000000000000000000000000000000000000000000000000000000000000000000000000000000000000000000000000000000000000000000000000000000000000000000000000000000000000000000000000000000000000000000000000000000000000000000000000000000000000000000000000000000000000000000000000000000000000000000000000000000000000000000000000000000000000000000000000000'\n",
       "}"
      ]
     },
     "execution_count": 81,
     "metadata": {},
     "output_type": "execute_result"
    }
   ],
   "source": [
    "web3.eth.getTransactionReceipt(transhash)"
   ]
  },
  {
   "cell_type": "code",
   "execution_count": 83,
   "metadata": {},
   "outputs": [
    {
     "data": {
      "text/plain": [
       "1"
      ]
     },
     "execution_count": 83,
     "metadata": {},
     "output_type": "execute_result"
    }
   ],
   "source": [
    "web3.eth.getTransactionCount(list1[0])"
   ]
  },
  {
   "cell_type": "markdown",
   "metadata": {},
   "source": [
    "## utils 模块\n",
    "不需要连接区域链"
   ]
  },
  {
   "cell_type": "markdown",
   "metadata": {},
   "source": [
    "var web3 = require('web3')"
   ]
  },
  {
   "cell_type": "code",
   "execution_count": 84,
   "metadata": {},
   "outputs": [
    {
     "data": {
      "text/plain": [
       "'0xa4'"
      ]
     },
     "execution_count": 84,
     "metadata": {},
     "output_type": "execute_result"
    }
   ],
   "source": [
    "web3.utils.randomHex(1) // 1 byte = 8 bits 需要2个16进制位才能表达 "
   ]
  },
  {
   "cell_type": "code",
   "execution_count": 89,
   "metadata": {},
   "outputs": [
    {
     "data": {
      "text/plain": [
       "BN { negative: 0, words: [ 1284 ], length: 1, red: null }"
      ]
     },
     "execution_count": 89,
     "metadata": {},
     "output_type": "execute_result"
    }
   ],
   "source": [
    "var BN = web3.utils.BN;\n",
    "new BN('13.4')"
   ]
  },
  {
   "cell_type": "code",
   "execution_count": 90,
   "metadata": {},
   "outputs": [
    {
     "data": {
      "text/plain": [
       "'1284'"
      ]
     },
     "execution_count": 90,
     "metadata": {},
     "output_type": "execute_result"
    }
   ],
   "source": [
    "new BN('13.4').toString()"
   ]
  },
  {
   "cell_type": "code",
   "execution_count": 91,
   "metadata": {},
   "outputs": [
    {
     "data": {
      "text/plain": [
       "'0x47173285a8d7341e5e972fc677286384f802f8ef42a5ec5f03bbfa254cb01fad'"
      ]
     },
     "execution_count": 91,
     "metadata": {},
     "output_type": "execute_result"
    }
   ],
   "source": [
    "web3.utils.sha3(\"hello world\")"
   ]
  },
  {
   "cell_type": "code",
   "execution_count": 93,
   "metadata": {},
   "outputs": [
    {
     "data": {
      "text/plain": [
       "'0x47173285a8d7341e5e972fc677286384f802f8ef42a5ec5f03bbfa254cb01fad'"
      ]
     },
     "execution_count": 93,
     "metadata": {},
     "output_type": "execute_result"
    }
   ],
   "source": [
    "web3.utils.keccak256('hello world') // sha3别名"
   ]
  },
  {
   "cell_type": "code",
   "execution_count": 97,
   "metadata": {},
   "outputs": [
    {
     "data": {
      "text/plain": [
       "'1000000000000000000'"
      ]
     },
     "execution_count": 97,
     "metadata": {},
     "output_type": "execute_result"
    }
   ],
   "source": [
    "web3.utils.toWei('1','ether')"
   ]
  },
  {
   "cell_type": "code",
   "execution_count": 98,
   "metadata": {},
   "outputs": [
    {
     "data": {
      "text/plain": [
       "'100000000000000000'"
      ]
     },
     "execution_count": 98,
     "metadata": {},
     "output_type": "execute_result"
    }
   ],
   "source": [
    "web3.utils.toWei('0.1','ether')"
   ]
  },
  {
   "cell_type": "code",
   "execution_count": 99,
   "metadata": {},
   "outputs": [
    {
     "data": {
      "text/plain": [
       "{\n",
       "  noether: '0',\n",
       "  wei: '1',\n",
       "  kwei: '1000',\n",
       "  Kwei: '1000',\n",
       "  babbage: '1000',\n",
       "  femtoether: '1000',\n",
       "  mwei: '1000000',\n",
       "  Mwei: '1000000',\n",
       "  lovelace: '1000000',\n",
       "  picoether: '1000000',\n",
       "  gwei: '1000000000',\n",
       "  Gwei: '1000000000',\n",
       "  shannon: '1000000000',\n",
       "  nanoether: '1000000000',\n",
       "  nano: '1000000000',\n",
       "  szabo: '1000000000000',\n",
       "  microether: '1000000000000',\n",
       "  micro: '1000000000000',\n",
       "  finney: '1000000000000000',\n",
       "  milliether: '1000000000000000',\n",
       "  milli: '1000000000000000',\n",
       "  ether: '1000000000000000000',\n",
       "  kether: '1000000000000000000000',\n",
       "  grand: '1000000000000000000000',\n",
       "  mether: '1000000000000000000000000',\n",
       "  gether: '1000000000000000000000000000',\n",
       "  tether: '1000000000000000000000000000000'\n",
       "}"
      ]
     },
     "execution_count": 99,
     "metadata": {},
     "output_type": "execute_result"
    }
   ],
   "source": [
    "web3.utils.unitMap"
   ]
  },
  {
   "cell_type": "code",
   "execution_count": null,
   "metadata": {},
   "outputs": [],
   "source": []
  }
 ],
 "metadata": {
  "kernelspec": {
   "display_name": "Javascript (Node.js)",
   "language": "javascript",
   "name": "javascript"
  },
  "language_info": {
   "file_extension": ".js",
   "mimetype": "application/javascript",
   "name": "javascript",
   "version": "10.16.0"
  },
  "toc": {
   "base_numbering": 1,
   "nav_menu": {},
   "number_sections": true,
   "sideBar": true,
   "skip_h1_title": false,
   "title_cell": "Table of Contents",
   "title_sidebar": "Contents",
   "toc_cell": false,
   "toc_position": {},
   "toc_section_display": true,
   "toc_window_display": true
  },
  "varInspector": {
   "cols": {
    "lenName": 16,
    "lenType": 16,
    "lenVar": 40
   },
   "kernels_config": {
    "python": {
     "delete_cmd_postfix": "",
     "delete_cmd_prefix": "del ",
     "library": "var_list.py",
     "varRefreshCmd": "print(var_dic_list())"
    },
    "r": {
     "delete_cmd_postfix": ") ",
     "delete_cmd_prefix": "rm(",
     "library": "var_list.r",
     "varRefreshCmd": "cat(var_dic_list()) "
    }
   },
   "types_to_exclude": [
    "module",
    "function",
    "builtin_function_or_method",
    "instance",
    "_Feature"
   ],
   "window_display": false
  }
 },
 "nbformat": 4,
 "nbformat_minor": 2
}
