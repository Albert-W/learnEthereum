{
 "cells": [
  {
   "cell_type": "markdown",
   "metadata": {},
   "source": [
    "## Basic function   \n",
    "pip install web3  "
   ]
  },
  {
   "cell_type": "code",
   "execution_count": 3,
   "metadata": {},
   "outputs": [],
   "source": [
    "from web3 import Web3, HTTPProvider, IPCProvider, WebsocketProvider"
   ]
  },
  {
   "cell_type": "code",
   "execution_count": 14,
   "metadata": {},
   "outputs": [
    {
     "data": {
      "text/plain": [
       "<property at 0x7f090ce69ea8>"
      ]
     },
     "execution_count": 14,
     "metadata": {},
     "output_type": "execute_result"
    }
   ],
   "source": [
    "Web3.api"
   ]
  },
  {
   "cell_type": "code",
   "execution_count": 35,
   "metadata": {},
   "outputs": [],
   "source": [
    "# 链接JSON-RPC servers.\n",
    "web3 = Web3(HTTPProvider(\"HTTP://127.0.0.1:7545\"))"
   ]
  },
  {
   "cell_type": "code",
   "execution_count": 36,
   "metadata": {},
   "outputs": [
    {
     "data": {
      "text/plain": [
       "'EthereumJS TestRPC/v2.6.1-beta.0/ethereum-js'"
      ]
     },
     "execution_count": 36,
     "metadata": {},
     "output_type": "execute_result"
    }
   ],
   "source": [
    "web3.clientVersion"
   ]
  },
  {
   "cell_type": "code",
   "execution_count": 37,
   "metadata": {},
   "outputs": [
    {
     "data": {
      "text/plain": [
       "'5.0.1'"
      ]
     },
     "execution_count": 37,
     "metadata": {},
     "output_type": "execute_result"
    }
   ],
   "source": [
    "# the current Web3 version\n",
    "web3.api"
   ]
  },
  {
   "cell_type": "code",
   "execution_count": 38,
   "metadata": {},
   "outputs": [
    {
     "data": {
      "text/plain": [
       "<web3.version.Version at 0x7f08ed6b7a58>"
      ]
     },
     "execution_count": 38,
     "metadata": {},
     "output_type": "execute_result"
    }
   ],
   "source": [
    "web3.version"
   ]
  },
  {
   "cell_type": "markdown",
   "metadata": {},
   "source": [
    "### Base API"
   ]
  },
  {
   "cell_type": "code",
   "execution_count": 39,
   "metadata": {
    "collapsed": true
   },
   "outputs": [
    {
     "ename": "TypeError",
     "evalue": "Unsupported type: The primitive argument must be one of: bytes,bytearray, int or bool and not str",
     "output_type": "error",
     "traceback": [
      "\u001b[0;31m---------------------------------------------------------------------------\u001b[0m",
      "\u001b[0;31mTypeError\u001b[0m                                 Traceback (most recent call last)",
      "\u001b[0;32m<ipython-input-39-807742cbd9af>\u001b[0m in \u001b[0;36m<module>\u001b[0;34m\u001b[0m\n\u001b[1;32m      1\u001b[0m \u001b[0;31m#The primitive argument must be one of: bytes,bytearray, int or bool and not str\u001b[0m\u001b[0;34m\u001b[0m\u001b[0;34m\u001b[0m\u001b[0;34m\u001b[0m\u001b[0m\n\u001b[0;32m----> 2\u001b[0;31m \u001b[0mWeb3\u001b[0m\u001b[0;34m.\u001b[0m\u001b[0mtoHex\u001b[0m\u001b[0;34m(\u001b[0m\u001b[0;34m\"hello world!\"\u001b[0m\u001b[0;34m)\u001b[0m\u001b[0;34m\u001b[0m\u001b[0;34m\u001b[0m\u001b[0m\n\u001b[0m",
      "\u001b[0;32m/usr/local/miniconda3/lib/python3.7/site-packages/eth_utils/decorators.py\u001b[0m in \u001b[0;36mwrapper\u001b[0;34m(*args, **kwargs)\u001b[0m\n\u001b[1;32m     72\u001b[0m         \u001b[0;32mif\u001b[0m \u001b[0mlen\u001b[0m\u001b[0;34m(\u001b[0m\u001b[0margs\u001b[0m\u001b[0;34m)\u001b[0m \u001b[0;34m==\u001b[0m \u001b[0;36m0\u001b[0m \u001b[0;32mand\u001b[0m \u001b[0;34m\"primitive\"\u001b[0m \u001b[0;32mnot\u001b[0m \u001b[0;32min\u001b[0m \u001b[0mkwargs\u001b[0m\u001b[0;34m:\u001b[0m\u001b[0;34m\u001b[0m\u001b[0;34m\u001b[0m\u001b[0m\n\u001b[1;32m     73\u001b[0m             \u001b[0m_assert_hexstr_or_text_kwarg_is_text_type\u001b[0m\u001b[0;34m(\u001b[0m\u001b[0;34m**\u001b[0m\u001b[0mkwargs\u001b[0m\u001b[0;34m)\u001b[0m\u001b[0;34m\u001b[0m\u001b[0;34m\u001b[0m\u001b[0m\n\u001b[0;32m---> 74\u001b[0;31m         \u001b[0;32mreturn\u001b[0m \u001b[0mto_wrap\u001b[0m\u001b[0;34m(\u001b[0m\u001b[0;34m*\u001b[0m\u001b[0margs\u001b[0m\u001b[0;34m,\u001b[0m \u001b[0;34m**\u001b[0m\u001b[0mkwargs\u001b[0m\u001b[0;34m)\u001b[0m\u001b[0;34m\u001b[0m\u001b[0;34m\u001b[0m\u001b[0m\n\u001b[0m\u001b[1;32m     75\u001b[0m \u001b[0;34m\u001b[0m\u001b[0m\n\u001b[1;32m     76\u001b[0m     \u001b[0;32mreturn\u001b[0m \u001b[0mwrapper\u001b[0m\u001b[0;34m\u001b[0m\u001b[0;34m\u001b[0m\u001b[0m\n",
      "\u001b[0;32m/usr/local/miniconda3/lib/python3.7/site-packages/eth_utils/conversions.py\u001b[0m in \u001b[0;36mto_hex\u001b[0;34m(primitive, hexstr, text)\u001b[0m\n\u001b[1;32m     30\u001b[0m     \u001b[0;32melif\u001b[0m \u001b[0mis_string\u001b[0m\u001b[0;34m(\u001b[0m\u001b[0mprimitive\u001b[0m\u001b[0;34m)\u001b[0m\u001b[0;34m:\u001b[0m\u001b[0;34m\u001b[0m\u001b[0;34m\u001b[0m\u001b[0m\n\u001b[1;32m     31\u001b[0m         raise TypeError(\n\u001b[0;32m---> 32\u001b[0;31m             \u001b[0;34m\"Unsupported type: The primitive argument must be one of: bytes,\"\u001b[0m\u001b[0;34m\u001b[0m\u001b[0;34m\u001b[0m\u001b[0m\n\u001b[0m\u001b[1;32m     33\u001b[0m             \u001b[0;34m\"bytearray, int or bool and not str\"\u001b[0m\u001b[0;34m\u001b[0m\u001b[0;34m\u001b[0m\u001b[0m\n\u001b[1;32m     34\u001b[0m         )\n",
      "\u001b[0;31mTypeError\u001b[0m: Unsupported type: The primitive argument must be one of: bytes,bytearray, int or bool and not str"
     ]
    }
   ],
   "source": [
    "#The primitive argument must be one of: bytes,bytearray, int or bool and not str\n",
    "Web3.toHex(\"hello world!\") "
   ]
  },
  {
   "cell_type": "code",
   "execution_count": 29,
   "metadata": {},
   "outputs": [
    {
     "data": {
      "text/plain": [
       "'0x68656c6c6f20776f726c6421'"
      ]
     },
     "execution_count": 29,
     "metadata": {},
     "output_type": "execute_result"
    }
   ],
   "source": [
    "Web3.toHex(text= \"hello world!\")"
   ]
  },
  {
   "cell_type": "code",
   "execution_count": 40,
   "metadata": {},
   "outputs": [
    {
     "data": {
      "text/plain": [
       "'0x68656c6c6f20776f726c6421'"
      ]
     },
     "execution_count": 40,
     "metadata": {},
     "output_type": "execute_result"
    }
   ],
   "source": [
    "web3.toHex(text= \"hello world!\") #也可用实例调用"
   ]
  },
  {
   "cell_type": "code",
   "execution_count": 31,
   "metadata": {},
   "outputs": [
    {
     "data": {
      "text/plain": [
       "1000000000000000000"
      ]
     },
     "execution_count": 31,
     "metadata": {},
     "output_type": "execute_result"
    }
   ],
   "source": [
    "Web3.toWei(1, 'ether')"
   ]
  },
  {
   "cell_type": "markdown",
   "metadata": {},
   "source": [
    "### eth API"
   ]
  },
  {
   "cell_type": "code",
   "execution_count": 41,
   "metadata": {},
   "outputs": [
    {
     "data": {
      "text/plain": [
       "'0x0E25F0a98bd2ce8f01BBa053BE509E47f2f99E91'"
      ]
     },
     "execution_count": 41,
     "metadata": {},
     "output_type": "execute_result"
    }
   ],
   "source": [
    "web3.eth.coinbase"
   ]
  },
  {
   "cell_type": "code",
   "execution_count": 42,
   "metadata": {},
   "outputs": [
    {
     "data": {
      "text/plain": [
       "AttributeDict({'number': 0,\n",
       " 'hash': HexBytes('0x8550d709885cd5869e3fa0b3ca24bc8a7b110254016c080de46e28fb3ee76165'),\n",
       " 'parentHash': HexBytes('0x0000000000000000000000000000000000000000000000000000000000000000'),\n",
       " 'mixHash': HexBytes('0x0000000000000000000000000000000000000000000000000000000000000000'),\n",
       " 'nonce': HexBytes('0x0000000000000000'),\n",
       " 'sha3Uncles': HexBytes('0x1dcc4de8dec75d7aab85b567b6ccd41ad312451b948a7413f0a142fd40d49347'),\n",
       " 'logsBloom': HexBytes('0x00000000000000000000000000000000000000000000000000000000000000000000000000000000000000000000000000000000000000000000000000000000000000000000000000000000000000000000000000000000000000000000000000000000000000000000000000000000000000000000000000000000000000000000000000000000000000000000000000000000000000000000000000000000000000000000000000000000000000000000000000000000000000000000000000000000000000000000000000000000000000000000000000000000000000000000000000000000000000000000000000000000000000000000000000000000'),\n",
       " 'transactionsRoot': HexBytes('0x56e81f171bcc55a6ff8345e692c0f86e5b48e01b996cadc001622fb5e363b421'),\n",
       " 'stateRoot': HexBytes('0x760829887636354de312ed110f385ffde669c5ea698bc1809c820bc84181b68b'),\n",
       " 'receiptsRoot': HexBytes('0x56e81f171bcc55a6ff8345e692c0f86e5b48e01b996cadc001622fb5e363b421'),\n",
       " 'miner': '0x0000000000000000000000000000000000000000',\n",
       " 'difficulty': 0,\n",
       " 'totalDifficulty': 0,\n",
       " 'extraData': HexBytes('0x'),\n",
       " 'size': 1000,\n",
       " 'gasLimit': 6721975,\n",
       " 'gasUsed': 0,\n",
       " 'timestamp': 1566467109,\n",
       " 'transactions': [],\n",
       " 'uncles': []})"
      ]
     },
     "execution_count": 42,
     "metadata": {},
     "output_type": "execute_result"
    }
   ],
   "source": [
    "web3.eth.getBlock('latest')"
   ]
  },
  {
   "cell_type": "code",
   "execution_count": 43,
   "metadata": {},
   "outputs": [
    {
     "data": {
      "text/plain": [
       "<eth_account.account.Account at 0x7f08d79550b8>"
      ]
     },
     "execution_count": 43,
     "metadata": {},
     "output_type": "execute_result"
    }
   ],
   "source": [
    "web3.eth.account"
   ]
  },
  {
   "cell_type": "code",
   "execution_count": 49,
   "metadata": {},
   "outputs": [
    {
     "data": {
      "text/plain": [
       "['0x0E25F0a98bd2ce8f01BBa053BE509E47f2f99E91',\n",
       " '0xEB8384eBba808E10af03AE71eF2c7BAAE40dFd06',\n",
       " '0x37CEA667403DF99E7a3Fb3cae8BA5384755D597b',\n",
       " '0xba6e744339fbFdA785A96656dDE3c29ff4a792Fd',\n",
       " '0x100F0244cd5dc8D51eA3800F03C353EF84BEE42d',\n",
       " '0x59ec84Acb01e485Bf54a8Fa0FD72155C3313F1a9',\n",
       " '0xC8541e2622A0F66e9bCb89Ddd0416612cfA832B2',\n",
       " '0xed83f120DA90F4e1DEA1D52684f74cA071c58c60',\n",
       " '0xa1DddEBCEed2DA2E306E49F3B8Ed4FAb96F95617',\n",
       " '0x34B532ce792Be852296C216bc5600e6823b86117']"
      ]
     },
     "execution_count": 49,
     "metadata": {},
     "output_type": "execute_result"
    }
   ],
   "source": [
    "list = web3.eth.accounts\n",
    "list "
   ]
  },
  {
   "cell_type": "code",
   "execution_count": 45,
   "metadata": {},
   "outputs": [
    {
     "data": {
      "text/plain": [
       "<web3._utils.empty.Empty at 0x7f08d799b518>"
      ]
     },
     "execution_count": 45,
     "metadata": {},
     "output_type": "execute_result"
    }
   ],
   "source": [
    "web3.eth.defaultAccount"
   ]
  },
  {
   "cell_type": "code",
   "execution_count": 46,
   "metadata": {},
   "outputs": [
    {
     "data": {
      "text/plain": [
       "'latest'"
      ]
     },
     "execution_count": 46,
     "metadata": {},
     "output_type": "execute_result"
    }
   ],
   "source": [
    "web3.eth.defaultBlock"
   ]
  },
  {
   "cell_type": "code",
   "execution_count": 47,
   "metadata": {},
   "outputs": [
    {
     "data": {
      "text/plain": [
       "20000000000"
      ]
     },
     "execution_count": 47,
     "metadata": {},
     "output_type": "execute_result"
    }
   ],
   "source": [
    "web3.eth.gasPrice"
   ]
  },
  {
   "cell_type": "code",
   "execution_count": 50,
   "metadata": {},
   "outputs": [
    {
     "data": {
      "text/plain": [
       "100000000000000000000"
      ]
     },
     "execution_count": 50,
     "metadata": {},
     "output_type": "execute_result"
    }
   ],
   "source": [
    "web3.eth.getBalance(list[0])"
   ]
  },
  {
   "cell_type": "code",
   "execution_count": 51,
   "metadata": {},
   "outputs": [
    {
     "data": {
      "text/plain": [
       "True"
      ]
     },
     "execution_count": 51,
     "metadata": {},
     "output_type": "execute_result"
    }
   ],
   "source": [
    "# whether the node is currently mining.\n",
    "web3.eth.mining"
   ]
  },
  {
   "cell_type": "code",
   "execution_count": 52,
   "metadata": {},
   "outputs": [
    {
     "data": {
      "text/plain": [
       "0"
      ]
     },
     "execution_count": 52,
     "metadata": {},
     "output_type": "execute_result"
    }
   ],
   "source": [
    "web3.eth.hashrate"
   ]
  },
  {
   "cell_type": "code",
   "execution_count": 53,
   "metadata": {},
   "outputs": [
    {
     "data": {
      "text/plain": [
       "0"
      ]
     },
     "execution_count": 53,
     "metadata": {},
     "output_type": "execute_result"
    }
   ],
   "source": [
    "web3.eth.blockNumber"
   ]
  },
  {
   "cell_type": "code",
   "execution_count": 54,
   "metadata": {},
   "outputs": [
    {
     "data": {
      "text/plain": [
       "'99'"
      ]
     },
     "execution_count": 54,
     "metadata": {},
     "output_type": "execute_result"
    }
   ],
   "source": [
    "# the id of the current Ethereum protocol version.\n",
    "web3.eth.protocolVersion"
   ]
  },
  {
   "cell_type": "code",
   "execution_count": 55,
   "metadata": {},
   "outputs": [
    {
     "data": {
      "text/plain": [
       "1337"
      ]
     },
     "execution_count": 55,
     "metadata": {},
     "output_type": "execute_result"
    }
   ],
   "source": [
    "web3.eth.chainId"
   ]
  },
  {
   "cell_type": "markdown",
   "metadata": {},
   "source": [
    "### send Transaction"
   ]
  },
  {
   "cell_type": "code",
   "execution_count": 57,
   "metadata": {},
   "outputs": [
    {
     "data": {
      "text/plain": [
       "HexBytes('0x20e571fd0e61fb38a628d638b0bc10f8185f827e109c46ec538619c2493a6203')"
      ]
     },
     "execution_count": 57,
     "metadata": {},
     "output_type": "execute_result"
    }
   ],
   "source": [
    "# return TX HASH\n",
    "web3.eth.sendTransaction({\n",
    "    'from' :list[0],\n",
    "    'to' : list[1],\n",
    "    'value': Web3.toWei(0.15, 'ether')\n",
    "})"
   ]
  },
  {
   "cell_type": "code",
   "execution_count": 59,
   "metadata": {},
   "outputs": [
    {
     "data": {
      "text/plain": [
       "AttributeDict({'hash': HexBytes('0x20e571fd0e61fb38a628d638b0bc10f8185f827e109c46ec538619c2493a6203'),\n",
       " 'nonce': 0,\n",
       " 'blockHash': HexBytes('0xced090c959eee2d74565083f183b0a2c2091e5d890659c660d93e532f95028e6'),\n",
       " 'blockNumber': 1,\n",
       " 'transactionIndex': 0,\n",
       " 'from': '0x0E25F0a98bd2ce8f01BBa053BE509E47f2f99E91',\n",
       " 'to': '0xEB8384eBba808E10af03AE71eF2c7BAAE40dFd06',\n",
       " 'value': 150000000000000000,\n",
       " 'gas': 121000,\n",
       " 'gasPrice': 20000000000,\n",
       " 'input': '0x',\n",
       " 'v': 28,\n",
       " 'r': HexBytes('0xfa97911bb415cab8bd53875ded5859591011cfc9969798e85c25358418d1b992'),\n",
       " 's': HexBytes('0x5b35ec96820971bbc7c69f6bb7fa832ad4af8f2345f986aabdd7593acc90eff7')})"
      ]
     },
     "execution_count": 59,
     "metadata": {},
     "output_type": "execute_result"
    }
   ],
   "source": [
    "web3.eth.getTransaction('0x20e571fd0e61fb38a628d638b0bc10f8185f827e109c46ec538619c2493a6203')"
   ]
  },
  {
   "cell_type": "code",
   "execution_count": 60,
   "metadata": {},
   "outputs": [
    {
     "ename": "NameError",
     "evalue": "name 'HexBytes' is not defined",
     "output_type": "error",
     "traceback": [
      "\u001b[0;31m---------------------------------------------------------------------------\u001b[0m",
      "\u001b[0;31mNameError\u001b[0m                                 Traceback (most recent call last)",
      "\u001b[0;32m<ipython-input-60-5a7a86c374bb>\u001b[0m in \u001b[0;36m<module>\u001b[0;34m\u001b[0m\n\u001b[0;32m----> 1\u001b[0;31m \u001b[0mweb3\u001b[0m\u001b[0;34m.\u001b[0m\u001b[0meth\u001b[0m\u001b[0;34m.\u001b[0m\u001b[0mgetTransaction\u001b[0m\u001b[0;34m(\u001b[0m\u001b[0mHexBytes\u001b[0m\u001b[0;34m(\u001b[0m\u001b[0;34m'0x20e571fd0e61fb38a628d638b0bc10f8185f827e109c46ec538619c2493a6203'\u001b[0m\u001b[0;34m)\u001b[0m\u001b[0;34m)\u001b[0m\u001b[0;34m\u001b[0m\u001b[0;34m\u001b[0m\u001b[0m\n\u001b[0m",
      "\u001b[0;31mNameError\u001b[0m: name 'HexBytes' is not defined"
     ]
    }
   ],
   "source": []
  },
  {
   "cell_type": "markdown",
   "metadata": {},
   "source": [
    "#### sent signed Transaction."
   ]
  },
  {
   "cell_type": "code",
   "execution_count": 62,
   "metadata": {},
   "outputs": [],
   "source": [
    "privatekey = '0x'+'c7391bfcd18888e3ce3a2c86616a04c7cdf20711f6bf5e214aefef048bf2bf4a'"
   ]
  },
  {
   "cell_type": "code",
   "execution_count": 68,
   "metadata": {},
   "outputs": [
    {
     "data": {
      "text/plain": [
       "{'nonce': 1,\n",
       " 'gasPrice': 20000000000,\n",
       " 'gas': 100000,\n",
       " 'to': '0x37CEA667403DF99E7a3Fb3cae8BA5384755D597b',\n",
       " 'value': 150000000000000000,\n",
       " 'data': b''}"
      ]
     },
     "execution_count": 68,
     "metadata": {},
     "output_type": "execute_result"
    }
   ],
   "source": [
    "rawTx = dict(\n",
    "    nonce=web3.eth.getTransactionCount(web3.eth.coinbase),\n",
    "    gasPrice=web3.eth.gasPrice,\n",
    "    gas=100000,\n",
    "    to=list[2],\n",
    "    value= Web3.toWei(0.15, 'ether'),\n",
    "    data=b'',\n",
    "    )\n",
    "rawTx"
   ]
  },
  {
   "cell_type": "code",
   "execution_count": 70,
   "metadata": {},
   "outputs": [
    {
     "ename": "TypeError",
     "evalue": "signTransaction() takes 2 positional arguments but 3 were given",
     "output_type": "error",
     "traceback": [
      "\u001b[0;31m---------------------------------------------------------------------------\u001b[0m",
      "\u001b[0;31mTypeError\u001b[0m                                 Traceback (most recent call last)",
      "\u001b[0;32m<ipython-input-70-0d0d7c5fd4b4>\u001b[0m in \u001b[0;36m<module>\u001b[0;34m\u001b[0m\n\u001b[0;32m----> 1\u001b[0;31m \u001b[0msignedTx\u001b[0m \u001b[0;34m=\u001b[0m \u001b[0mweb3\u001b[0m\u001b[0;34m.\u001b[0m\u001b[0meth\u001b[0m\u001b[0;34m.\u001b[0m\u001b[0msignTransaction\u001b[0m\u001b[0;34m(\u001b[0m\u001b[0mrawTx\u001b[0m\u001b[0;34m,\u001b[0m\u001b[0mprivatekey\u001b[0m\u001b[0;34m)\u001b[0m\u001b[0;34m\u001b[0m\u001b[0;34m\u001b[0m\u001b[0m\n\u001b[0m",
      "\u001b[0;31mTypeError\u001b[0m: signTransaction() takes 2 positional arguments but 3 were given"
     ]
    }
   ],
   "source": [
    "signedTx = web3.eth.signTransaction(rawTx,privatekey)"
   ]
  },
  {
   "cell_type": "code",
   "execution_count": 72,
   "metadata": {},
   "outputs": [
    {
     "data": {
      "text/plain": [
       "AttributeDict({'rawTransaction': HexBytes('0xf86d018504a817c800830186a09437cea667403df99e7a3fb3cae8ba5384755d597b880214e8348c4f0000801ba040d3aa5b98d0efc70e09504d69fb84fd21ae26f5ffdc840e751546027d24e313a059534422156ae87d3e9eccc480610b2fc5851770252f7e294ac4032018b43dc8'),\n",
       " 'hash': HexBytes('0xca3645a79af5870a62cc49d6082eb2a1370b616454218f34480e56d2485a0837'),\n",
       " 'r': 29322002806324808934268296655514525802009126704047563344810591654061820666643,\n",
       " 's': 40402962067932620497648706004071628228538649321899559618617260429210474003912,\n",
       " 'v': 27})"
      ]
     },
     "execution_count": 72,
     "metadata": {},
     "output_type": "execute_result"
    }
   ],
   "source": [
    "signedTx = web3.eth.account.signTransaction(rawTx,privatekey)\n",
    "signedTx"
   ]
  },
  {
   "cell_type": "code",
   "execution_count": 73,
   "metadata": {},
   "outputs": [
    {
     "data": {
      "text/plain": [
       "HexBytes('0xca3645a79af5870a62cc49d6082eb2a1370b616454218f34480e56d2485a0837')"
      ]
     },
     "execution_count": 73,
     "metadata": {},
     "output_type": "execute_result"
    }
   ],
   "source": [
    "web3.eth.sendRawTransaction(signedTx.rawTransaction)"
   ]
  },
  {
   "cell_type": "markdown",
   "metadata": {},
   "source": [
    "## Interact with Smart Contract"
   ]
  },
  {
   "cell_type": "markdown",
   "metadata": {},
   "source": [
    "### Compile Smart Contract\n",
    "sudo add-apt-repository ppa:ethereum/ethereum    \n",
    "sudo apt-get update    \n",
    "sudo apt-get install solc        \n",
    "pip install py-solc     \n",
    "  "
   ]
  },
  {
   "cell_type": "code",
   "execution_count": 76,
   "metadata": {},
   "outputs": [],
   "source": [
    "from solc import compile_standard"
   ]
  },
  {
   "cell_type": "code",
   "execution_count": 79,
   "metadata": {},
   "outputs": [
    {
     "data": {
      "text/plain": [
       "'pragma solidity ^0.5.0;\\n\\ncontract Calc{\\n\\n  uint result;\\n\\n\\n  function add(uint a, uint b) public returns(uint){\\n    result = a + b;\\n    return result;\\n  }\\n\\n\\n  function getCount() public view returns (uint){\\n    return result;\\n  }\\n}'"
      ]
     },
     "execution_count": 79,
     "metadata": {},
     "output_type": "execute_result"
    }
   ],
   "source": [
    "# read sol file. \n",
    "with open(\"add.sol\") as f:\n",
    "    data = f.read()\n",
    "data    "
   ]
  },
  {
   "cell_type": "code",
   "execution_count": 80,
   "metadata": {},
   "outputs": [],
   "source": [
    "input = {\n",
    "    \"language\": \"Solidity\",\n",
    "    \"sources\": {\n",
    "        \"add.sol\": {\n",
    "            \"content\": data\n",
    "        }\n",
    "    },\n",
    "    \"settings\":\n",
    "    {\n",
    "        \"outputSelection\": {\n",
    "            \"*\": {\n",
    "                \"*\": [\n",
    "                    \"metadata\", \"evm.bytecode\", \"evm.bytecode.sourceMap\"\n",
    "                ]\n",
    "            }\n",
    "        }\n",
    "    }\n",
    "}"
   ]
  },
  {
   "cell_type": "code",
   "execution_count": 82,
   "metadata": {},
   "outputs": [
    {
     "data": {
      "text/plain": [
       "{'contracts': {'add.sol': {'Calc': {'evm': {'bytecode': {'linkReferences': {},\n",
       "      'object': '608060405234801561001057600080fd5b5060f08061001f6000396000f3fe6080604052348015600f57600080fd5b506004361060325760003560e01c8063771602f7146037578063a87d942c146080575b600080fd5b606a60048036036040811015604b57600080fd5b810190808035906020019092919080359060200190929190505050609c565b6040518082815260200191505060405180910390f35b608660b2565b6040518082815260200191505060405180910390f35b6000818301600081905550600054905092915050565b6000805490509056fea265627a7a72315820cb42c154233b3977ed55f6c4bd28341b00072fcdfb791ad35d90e0d8e30fbcc464736f6c634300050b0032',\n",
       "      'opcodes': 'PUSH1 0x80 PUSH1 0x40 MSTORE CALLVALUE DUP1 ISZERO PUSH2 0x10 JUMPI PUSH1 0x0 DUP1 REVERT JUMPDEST POP PUSH1 0xF0 DUP1 PUSH2 0x1F PUSH1 0x0 CODECOPY PUSH1 0x0 RETURN INVALID PUSH1 0x80 PUSH1 0x40 MSTORE CALLVALUE DUP1 ISZERO PUSH1 0xF JUMPI PUSH1 0x0 DUP1 REVERT JUMPDEST POP PUSH1 0x4 CALLDATASIZE LT PUSH1 0x32 JUMPI PUSH1 0x0 CALLDATALOAD PUSH1 0xE0 SHR DUP1 PUSH4 0x771602F7 EQ PUSH1 0x37 JUMPI DUP1 PUSH4 0xA87D942C EQ PUSH1 0x80 JUMPI JUMPDEST PUSH1 0x0 DUP1 REVERT JUMPDEST PUSH1 0x6A PUSH1 0x4 DUP1 CALLDATASIZE SUB PUSH1 0x40 DUP2 LT ISZERO PUSH1 0x4B JUMPI PUSH1 0x0 DUP1 REVERT JUMPDEST DUP2 ADD SWAP1 DUP1 DUP1 CALLDATALOAD SWAP1 PUSH1 0x20 ADD SWAP1 SWAP3 SWAP2 SWAP1 DUP1 CALLDATALOAD SWAP1 PUSH1 0x20 ADD SWAP1 SWAP3 SWAP2 SWAP1 POP POP POP PUSH1 0x9C JUMP JUMPDEST PUSH1 0x40 MLOAD DUP1 DUP3 DUP2 MSTORE PUSH1 0x20 ADD SWAP2 POP POP PUSH1 0x40 MLOAD DUP1 SWAP2 SUB SWAP1 RETURN JUMPDEST PUSH1 0x86 PUSH1 0xB2 JUMP JUMPDEST PUSH1 0x40 MLOAD DUP1 DUP3 DUP2 MSTORE PUSH1 0x20 ADD SWAP2 POP POP PUSH1 0x40 MLOAD DUP1 SWAP2 SUB SWAP1 RETURN JUMPDEST PUSH1 0x0 DUP2 DUP4 ADD PUSH1 0x0 DUP2 SWAP1 SSTORE POP PUSH1 0x0 SLOAD SWAP1 POP SWAP3 SWAP2 POP POP JUMP JUMPDEST PUSH1 0x0 DUP1 SLOAD SWAP1 POP SWAP1 JUMP INVALID LOG2 PUSH6 0x627A7A723158 KECCAK256 0xcb TIMESTAMP 0xc1 SLOAD 0x23 EXTCODESIZE CODECOPY PUSH24 0xED55F6C4BD28341B00072FCDFB791AD35D90E0D8E30FBCC4 PUSH5 0x736F6C6343 STOP SDIV SIGNEXTEND STOP ORIGIN ',\n",
       "      'sourceMap': '25:205:0:-;;;;8:9:-1;5:2;;;30:1;27;20:12;5:2;25:205:0;;;;;;;'}},\n",
       "    'metadata': '{\"compiler\":{\"version\":\"0.5.11+commit.22be8592\"},\"language\":\"Solidity\",\"output\":{\"abi\":[{\"constant\":false,\"inputs\":[{\"internalType\":\"uint256\",\"name\":\"a\",\"type\":\"uint256\"},{\"internalType\":\"uint256\",\"name\":\"b\",\"type\":\"uint256\"}],\"name\":\"add\",\"outputs\":[{\"internalType\":\"uint256\",\"name\":\"\",\"type\":\"uint256\"}],\"payable\":false,\"stateMutability\":\"nonpayable\",\"type\":\"function\"},{\"constant\":true,\"inputs\":[],\"name\":\"getCount\",\"outputs\":[{\"internalType\":\"uint256\",\"name\":\"\",\"type\":\"uint256\"}],\"payable\":false,\"stateMutability\":\"view\",\"type\":\"function\"}],\"devdoc\":{\"methods\":{}},\"userdoc\":{\"methods\":{}}},\"settings\":{\"compilationTarget\":{\"add.sol\":\"Calc\"},\"evmVersion\":\"petersburg\",\"libraries\":{},\"optimizer\":{\"enabled\":false,\"runs\":200},\"remappings\":[]},\"sources\":{\"add.sol\":{\"keccak256\":\"0xbe9e61ad987dd22eb290b848998f585f3d3030fb5d1b9bc65e4cb47c476b953c\",\"urls\":[\"bzz-raw://e78350ace817d60d6fc513b269a8344bf8bc2b2dff1c882f49928f0bca774fb0\",\"dweb:/ipfs/Qmc1vQh8t9jU1KmZnURNG6mkKgGDDFJbvHjJUu19a5aaNJ\"]}},\"version\":1}'}}},\n",
       " 'sources': {'add.sol': {'id': 0}}}"
      ]
     },
     "execution_count": 82,
     "metadata": {},
     "output_type": "execute_result"
    }
   ],
   "source": [
    "compiledSol = compile_standard(input) \n",
    "compiledSol"
   ]
  },
  {
   "cell_type": "code",
   "execution_count": 83,
   "metadata": {},
   "outputs": [
    {
     "data": {
      "text/plain": [
       "'608060405234801561001057600080fd5b5060f08061001f6000396000f3fe6080604052348015600f57600080fd5b506004361060325760003560e01c8063771602f7146037578063a87d942c146080575b600080fd5b606a60048036036040811015604b57600080fd5b810190808035906020019092919080359060200190929190505050609c565b6040518082815260200191505060405180910390f35b608660b2565b6040518082815260200191505060405180910390f35b6000818301600081905550600054905092915050565b6000805490509056fea265627a7a72315820cb42c154233b3977ed55f6c4bd28341b00072fcdfb791ad35d90e0d8e30fbcc464736f6c634300050b0032'"
      ]
     },
     "execution_count": 83,
     "metadata": {},
     "output_type": "execute_result"
    }
   ],
   "source": [
    "bytecode = compiledSol['contracts']['add.sol']['Calc']['evm']['bytecode']['object']\n",
    "bytecode"
   ]
  },
  {
   "cell_type": "code",
   "execution_count": 84,
   "metadata": {},
   "outputs": [],
   "source": [
    "import json"
   ]
  },
  {
   "cell_type": "code",
   "execution_count": 85,
   "metadata": {},
   "outputs": [
    {
     "data": {
      "text/plain": [
       "[{'constant': False,\n",
       "  'inputs': [{'internalType': 'uint256', 'name': 'a', 'type': 'uint256'},\n",
       "   {'internalType': 'uint256', 'name': 'b', 'type': 'uint256'}],\n",
       "  'name': 'add',\n",
       "  'outputs': [{'internalType': 'uint256', 'name': '', 'type': 'uint256'}],\n",
       "  'payable': False,\n",
       "  'stateMutability': 'nonpayable',\n",
       "  'type': 'function'},\n",
       " {'constant': True,\n",
       "  'inputs': [],\n",
       "  'name': 'getCount',\n",
       "  'outputs': [{'internalType': 'uint256', 'name': '', 'type': 'uint256'}],\n",
       "  'payable': False,\n",
       "  'stateMutability': 'view',\n",
       "  'type': 'function'}]"
      ]
     },
     "execution_count": 85,
     "metadata": {},
     "output_type": "execute_result"
    }
   ],
   "source": [
    "abi = json.loads(compiledSol['contracts']['add.sol']['Calc']['metadata'])['output']['abi']\n",
    "abi"
   ]
  },
  {
   "cell_type": "markdown",
   "metadata": {},
   "source": [
    "### Create SC"
   ]
  },
  {
   "cell_type": "code",
   "execution_count": 89,
   "metadata": {},
   "outputs": [
    {
     "data": {
      "text/plain": [
       "web3._utils.datatypes.Contract"
      ]
     },
     "execution_count": 89,
     "metadata": {},
     "output_type": "execute_result"
    }
   ],
   "source": [
    "CalcContract = web3.eth.contract(abi=abi, bytecode= bytecode)\n",
    "CalcContract"
   ]
  },
  {
   "cell_type": "markdown",
   "metadata": {},
   "source": [
    "### deploy SC"
   ]
  },
  {
   "cell_type": "code",
   "execution_count": 91,
   "metadata": {},
   "outputs": [],
   "source": [
    "# 输入布置合约的地址\n",
    "tx_hash = CalcContract.constructor().transact({\n",
    "    \"from\":list[0]\n",
    "})"
   ]
  },
  {
   "cell_type": "code",
   "execution_count": 92,
   "metadata": {},
   "outputs": [
    {
     "data": {
      "text/plain": [
       "AttributeDict({'transactionHash': HexBytes('0x6e5b914880818df4b8e79da3ac76ee896d2b292e9a924549403a7658eb04ab5d'),\n",
       " 'transactionIndex': 0,\n",
       " 'blockHash': HexBytes('0xefe9b3d07542f6d35f17cdf26d20e838c816c64c4b4f48274695eacc9e5c2582'),\n",
       " 'blockNumber': 3,\n",
       " 'from': '0x0e25f0a98bd2ce8f01bba053be509e47f2f99e91',\n",
       " 'to': None,\n",
       " 'gasUsed': 118503,\n",
       " 'cumulativeGasUsed': 118503,\n",
       " 'contractAddress': '0xED3Fb2C37240cBDc4FAD8B10E6029E25f96f26f8',\n",
       " 'logs': [],\n",
       " 'status': 1,\n",
       " 'logsBloom': HexBytes('0x00000000000000000000000000000000000000000000000000000000000000000000000000000000000000000000000000000000000000000000000000000000000000000000000000000000000000000000000000000000000000000000000000000000000000000000000000000000000000000000000000000000000000000000000000000000000000000000000000000000000000000000000000000000000000000000000000000000000000000000000000000000000000000000000000000000000000000000000000000000000000000000000000000000000000000000000000000000000000000000000000000000000000000000000000000000'),\n",
       " 'v': '0x1c',\n",
       " 'r': '0x063275325c6f62442b27744577f2420144a21df7c4e569c0562f58eb5df75bb1',\n",
       " 's': '0x7ccd2905d5fd814ea9d0133fbb246bb91e1f2440d2d75fd3d64340c7507af9c5'})"
      ]
     },
     "execution_count": 92,
     "metadata": {},
     "output_type": "execute_result"
    }
   ],
   "source": [
    "tx_receipt = web3.eth.waitForTransactionReceipt(tx_hash) \n",
    "tx_receipt"
   ]
  },
  {
   "cell_type": "markdown",
   "metadata": {},
   "source": [
    "### Invoke SC"
   ]
  },
  {
   "cell_type": "code",
   "execution_count": 93,
   "metadata": {},
   "outputs": [
    {
     "data": {
      "text/plain": [
       "<web3._utils.datatypes.Contract at 0x7f08ed392748>"
      ]
     },
     "execution_count": 93,
     "metadata": {},
     "output_type": "execute_result"
    }
   ],
   "source": [
    "# get the local SC instance \n",
    "CalcInstance = web3.eth.contract(\n",
    "    address=tx_receipt.contractAddress,\n",
    "    abi = abi\n",
    ")\n",
    "CalcInstance"
   ]
  },
  {
   "cell_type": "code",
   "execution_count": 95,
   "metadata": {},
   "outputs": [
    {
     "data": {
      "text/plain": [
       "HexBytes('0x5f8f8f17cafbe83c88e6547d12956fe2c965edf911f197ba614ea2d57eb3373b')"
      ]
     },
     "execution_count": 95,
     "metadata": {},
     "output_type": "execute_result"
    }
   ],
   "source": [
    "CalcInstance.functions.add(8,9).transact({\n",
    "    'from':list[3]\n",
    "})"
   ]
  },
  {
   "cell_type": "code",
   "execution_count": 96,
   "metadata": {},
   "outputs": [
    {
     "data": {
      "text/plain": [
       "17"
      ]
     },
     "execution_count": 96,
     "metadata": {},
     "output_type": "execute_result"
    }
   ],
   "source": [
    "CalcInstance.functions.getCount().call()"
   ]
  },
  {
   "cell_type": "code",
   "execution_count": 98,
   "metadata": {},
   "outputs": [
    {
     "data": {
      "text/plain": [
       "17"
      ]
     },
     "execution_count": 98,
     "metadata": {},
     "output_type": "execute_result"
    }
   ],
   "source": [
    "#executing the transaction locally using the eth_call API. This will not create a new public transaction.\n",
    "CalcInstance.functions.add(8,9).call()"
   ]
  },
  {
   "cell_type": "code",
   "execution_count": null,
   "metadata": {},
   "outputs": [],
   "source": []
  }
 ],
 "metadata": {
  "kernelspec": {
   "display_name": "Python 3",
   "language": "python",
   "name": "python3"
  },
  "language_info": {
   "codemirror_mode": {
    "name": "ipython",
    "version": 3
   },
   "file_extension": ".py",
   "mimetype": "text/x-python",
   "name": "python",
   "nbconvert_exporter": "python",
   "pygments_lexer": "ipython3",
   "version": "3.7.3"
  },
  "toc": {
   "base_numbering": 1,
   "nav_menu": {},
   "number_sections": true,
   "sideBar": true,
   "skip_h1_title": false,
   "title_cell": "Table of Contents",
   "title_sidebar": "Contents",
   "toc_cell": false,
   "toc_position": {},
   "toc_section_display": true,
   "toc_window_display": true
  },
  "varInspector": {
   "cols": {
    "lenName": 16,
    "lenType": 16,
    "lenVar": 40
   },
   "kernels_config": {
    "python": {
     "delete_cmd_postfix": "",
     "delete_cmd_prefix": "del ",
     "library": "var_list.py",
     "varRefreshCmd": "print(var_dic_list())"
    },
    "r": {
     "delete_cmd_postfix": ") ",
     "delete_cmd_prefix": "rm(",
     "library": "var_list.r",
     "varRefreshCmd": "cat(var_dic_list()) "
    }
   },
   "types_to_exclude": [
    "module",
    "function",
    "builtin_function_or_method",
    "instance",
    "_Feature"
   ],
   "window_display": false
  }
 },
 "nbformat": 4,
 "nbformat_minor": 2
}
