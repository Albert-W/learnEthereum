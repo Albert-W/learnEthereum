{
 "cells": [
  {
   "cell_type": "markdown",
   "metadata": {},
   "source": [
    "## web3\n",
    "npm install -g web3    "
   ]
  },
  {
   "cell_type": "code",
   "execution_count": 2,
   "metadata": {},
   "outputs": [
    {
     "data": {
      "text/plain": [
       "'1.2.1'"
      ]
     },
     "execution_count": 2,
     "metadata": {},
     "output_type": "execute_result"
    }
   ],
   "source": [
    "var web3 = require('web3')\n",
    "web3.version"
   ]
  },
  {
   "cell_type": "code",
   "execution_count": 3,
   "metadata": {},
   "outputs": [],
   "source": [
    "var web3 = new web3('HTTP://127.0.0.1:7545')"
   ]
  },
  {
   "cell_type": "code",
   "execution_count": 4,
   "metadata": {},
   "outputs": [
    {
     "data": {
      "text/plain": [
       "[\n",
       "  '0x53a2DaAe7B69138fF57cBBc2F94866Bf72f8b9BF',\n",
       "  '0x7b2d4edaF10Bb0aAC517e8699878239d64D2817a',\n",
       "  '0x3bbD9bC6f21BB5e431b64b4A11F36d8887be3680',\n",
       "  '0x88215ddB47d850Ad39A630280B80D5775c96A4AB',\n",
       "  '0xe4De9160670825469c1A649fA072fE243eF9b274',\n",
       "  '0x99134776A83950368167b784D58Ca19C77ec6bE1',\n",
       "  '0x2c81a13b88dF3a32Ddb01287D9f0Ce4c729BDfeC',\n",
       "  '0x3fEF67beFE1B540B3e3e030261e1d9D31905DBF9',\n",
       "  '0x67AFca7a1f4af6a4bbC7f302F81CA1b45195BEa9',\n",
       "  '0xf3bA4c406bBC409CeDE68Cf185a0ab77D7950022'\n",
       "]"
      ]
     },
     "execution_count": 4,
     "metadata": {},
     "output_type": "execute_result"
    }
   ],
   "source": [
    "web3.eth.getAccounts()"
   ]
  },
  {
   "cell_type": "code",
   "execution_count": 5,
   "metadata": {},
   "outputs": [],
   "source": [
    "var list;\n",
    "web3.eth.getAccounts().then(function(add){\n",
    "    list = add\n",
    "})"
   ]
  },
  {
   "cell_type": "markdown",
   "metadata": {},
   "source": [
    "### Send Tx"
   ]
  },
  {
   "cell_type": "code",
   "execution_count": 7,
   "metadata": {},
   "outputs": [
    {
     "data": {
      "text/plain": [
       "{\n",
       "  transactionHash: '0xab5b59e5ab9c1540b1ff69ee84585ecf4a4513d29e28b78ece8eea97e0c8f18a',\n",
       "  transactionIndex: 0,\n",
       "  blockHash: '0x80cf9426e76462defb03ac032e02bfa522e6d14e24961b18b915d1e2011d297d',\n",
       "  blockNumber: 12,\n",
       "  from: '0x53a2daae7b69138ff57cbbc2f94866bf72f8b9bf',\n",
       "  to: '0x7b2d4edaf10bb0aac517e8699878239d64d2817a',\n",
       "  gasUsed: 21000,\n",
       "  cumulativeGasUsed: 21000,\n",
       "  contractAddress: null,\n",
       "  logs: [],\n",
       "  status: true,\n",
       "  logsBloom: '0x00000000000000000000000000000000000000000000000000000000000000000000000000000000000000000000000000000000000000000000000000000000000000000000000000000000000000000000000000000000000000000000000000000000000000000000000000000000000000000000000000000000000000000000000000000000000000000000000000000000000000000000000000000000000000000000000000000000000000000000000000000000000000000000000000000000000000000000000000000000000000000000000000000000000000000000000000000000000000000000000000000000000000000000000000000000',\n",
       "  v: '0x1b',\n",
       "  r: '0x29dc22d5863c1e22c8d4ce4b49167a08b704f86731754efe57f8554b2582d08e',\n",
       "  s: '0x40575f60091dfc5f00ab60ef1c414b2e3b306b7b255f9d62ec2fb80646bc996b'\n",
       "}"
      ]
     },
     "execution_count": 7,
     "metadata": {},
     "output_type": "execute_result"
    }
   ],
   "source": [
    "web3.eth.sendTransaction({  //转账成功\n",
    "    from:list[0],\n",
    "    to:list[1],\n",
    "    value:web3.utils.toWei('0.15','ether')\n",
    "})"
   ]
  },
  {
   "cell_type": "markdown",
   "metadata": {},
   "source": [
    "### Sent Signed Tx"
   ]
  },
  {
   "cell_type": "code",
   "execution_count": 34,
   "metadata": {},
   "outputs": [
    {
     "data": {
      "text/plain": [
       "12"
      ]
     },
     "execution_count": 34,
     "metadata": {},
     "output_type": "execute_result"
    }
   ],
   "source": [
    "web3.eth.getTransactionCount(list[0])"
   ]
  },
  {
   "cell_type": "code",
   "execution_count": 55,
   "metadata": {},
   "outputs": [],
   "source": [
    "var rawTx = {\n",
    "    from:list[0],\n",
    "    to:list[1],\n",
    "    value:web3.utils.toHex(web3.utils.toWei('0.15','ether')),\n",
    "    gasPrice:'0',\n",
    "    gas:2000000\n",
    "}"
   ]
  },
  {
   "cell_type": "code",
   "execution_count": 56,
   "metadata": {},
   "outputs": [
    {
     "data": {
      "text/plain": [
       "'0xabced836806fd64dc62fa9c42ef80a0adfe412c77fbdffc396e9bb5bc786bd0c'"
      ]
     },
     "execution_count": 56,
     "metadata": {},
     "output_type": "execute_result"
    }
   ],
   "source": [
    "var privatekey = '0x'+'abced836806fd64dc62fa9c42ef80a0adfe412c77fbdffc396e9bb5bc786bd0c'\n",
    "privatekey // privatekey 的格式一定要证确。"
   ]
  },
  {
   "cell_type": "code",
   "execution_count": 57,
   "metadata": {},
   "outputs": [
    {
     "data": {
      "text/plain": [
       "{\n",
       "  messageHash: '0xe62b4eb24c9a42d686f2cbfe4c3a13ccae609a22a8518f0bf07749e73ef345a0',\n",
       "  v: '0x2d45',\n",
       "  r: '0x13f6a3ea678266a61aa9a0d285fd95329dd1c3a5b64c69ee48497492411998b3',\n",
       "  s: '0x577ebdf0ee29440a0a45d8ed7c3a2687a9f2d8541a21b042ebe41b1bd5cb7ab6',\n",
       "  rawTransaction: '0xf86a0c80831e8480947b2d4edaf10bb0aac517e8699878239d64d2817a880214e8348c4f000080822d45a013f6a3ea678266a61aa9a0d285fd95329dd1c3a5b64c69ee48497492411998b3a0577ebdf0ee29440a0a45d8ed7c3a2687a9f2d8541a21b042ebe41b1bd5cb7ab6'\n",
       "}"
      ]
     },
     "execution_count": 57,
     "metadata": {},
     "output_type": "execute_result"
    }
   ],
   "source": [
    "//Signs an Ethereum transaction with a given private key. \n",
    "var stx = web3.eth.accounts.signTransaction(rawTx,privatekey)\n",
    "stx "
   ]
  },
  {
   "cell_type": "code",
   "execution_count": 58,
   "metadata": {},
   "outputs": [
    {
     "name": "stdout",
     "output_type": "stream",
     "text": [
      "0xf86a0c80831e8480947b2d4edaf10bb0aac517e8699878239d64d2817a880214e8348c4f000080822d45a013f6a3ea678266a61aa9a0d285fd95329dd1c3a5b64c69ee48497492411998b3a0577ebdf0ee29440a0a45d8ed7c3a2687a9f2d8541a21b042ebe41b1bd5cb7ab6\n"
     ]
    }
   ],
   "source": [
    "web3.eth.accounts.signTransaction(rawTx,privatekey).then( signed =>{\n",
    "    console.log(signed.rawTransaction)\n",
    "}\n",
    ")"
   ]
  },
  {
   "cell_type": "code",
   "execution_count": 59,
   "metadata": {},
   "outputs": [
    {
     "name": "stdout",
     "output_type": "stream",
     "text": [
      "{\n",
      "  transactionHash: '0x0c772927e2b38e14fc1055a544e78e8750ae69cce6b33ed0b30efd5c53989d09',\n",
      "  transactionIndex: 0,\n",
      "  blockHash: '0x1731fd6de916519e6e6ba9c7bdf84d5ad14d4bd88c6dbf88d666dbc9e498559e',\n",
      "  blockNumber: 13,\n",
      "  from: '0x53a2daae7b69138ff57cbbc2f94866bf72f8b9bf',\n",
      "  to: '0x7b2d4edaf10bb0aac517e8699878239d64d2817a',\n",
      "  gasUsed: 21000,\n",
      "  cumulativeGasUsed: 21000,\n",
      "  contractAddress: null,\n",
      "  logs: [],\n",
      "  status: true,\n",
      "  logsBloom: '0x00000000000000000000000000000000000000000000000000000000000000000000000000000000000000000000000000000000000000000000000000000000000000000000000000000000000000000000000000000000000000000000000000000000000000000000000000000000000000000000000000000000000000000000000000000000000000000000000000000000000000000000000000000000000000000000000000000000000000000000000000000000000000000000000000000000000000000000000000000000000000000000000000000000000000000000000000000000000000000000000000000000000000000000000000000000',\n",
      "  v: '0x2d45',\n",
      "  r: '0x13f6a3ea678266a61aa9a0d285fd95329dd1c3a5b64c69ee48497492411998b3',\n",
      "  s: '0x577ebdf0ee29440a0a45d8ed7c3a2687a9f2d8541a21b042ebe41b1bd5cb7ab6'\n",
      "}\n"
     ]
    }
   ],
   "source": [
    "web3.eth.accounts.signTransaction(rawTx, privatekey).then(signed => {\n",
    "    web3.eth.sendSignedTransaction(signed.rawTransaction).on('receipt', console.log)\n",
    "});"
   ]
  },
  {
   "cell_type": "code",
   "execution_count": 61,
   "metadata": {},
   "outputs": [
    {
     "name": "stdout",
     "output_type": "stream",
     "text": [
      "{\n",
      "  transactionHash: '0xc74bd41a09f773f4f17398f765d6d6eb716e558cfb2b02156f42f4f0807535ca',\n",
      "  transactionIndex: 0,\n",
      "  blockHash: '0x8f00bcac230e587c338cac2e0a90ee39993d15b265e8542515679ac0e7ea3c6c',\n",
      "  blockNumber: 14,\n",
      "  from: '0x53a2daae7b69138ff57cbbc2f94866bf72f8b9bf',\n",
      "  to: '0x7b2d4edaf10bb0aac517e8699878239d64d2817a',\n",
      "  gasUsed: 21000,\n",
      "  cumulativeGasUsed: 21000,\n",
      "  contractAddress: null,\n",
      "  logs: [],\n",
      "  status: true,\n",
      "  logsBloom: '0x00000000000000000000000000000000000000000000000000000000000000000000000000000000000000000000000000000000000000000000000000000000000000000000000000000000000000000000000000000000000000000000000000000000000000000000000000000000000000000000000000000000000000000000000000000000000000000000000000000000000000000000000000000000000000000000000000000000000000000000000000000000000000000000000000000000000000000000000000000000000000000000000000000000000000000000000000000000000000000000000000000000000000000000000000000000',\n",
      "  v: '0x2d45',\n",
      "  r: '0xc134989f8c9ff54e9cbe4d8536de2bfdfcfdbeae32e026e99532bcae2b5d9c08',\n",
      "  s: '0x0fc8e61843e9f1f21cf79cb9ec08b2e705a86a6232a223fb16416399faec9460'\n",
      "}\n"
     ]
    }
   ],
   "source": [
    "var rawTx2 = {\n",
    "    from:list[0],\n",
    "    to:list[1],\n",
    "    value:web3.utils.toHex(web3.utils.toWei('0.15','ether')),\n",
    "    gas:2000000, //\"gas is missing\"\n",
    "}\n",
    "web3.eth.accounts.signTransaction(rawTx2, privatekey).then(signed => {\n",
    "    web3.eth.sendSignedTransaction(signed.rawTransaction).on('receipt', console.log)\n",
    "});"
   ]
  },
  {
   "cell_type": "code",
   "execution_count": 62,
   "metadata": {},
   "outputs": [
    {
     "name": "stdout",
     "output_type": "stream",
     "text": [
      "{\n",
      "  transactionHash: '0xfea1a4be27134f2a64e9ef7fdc516506b4c1ad9d1efc0719349da80289d13ae1',\n",
      "  transactionIndex: 0,\n",
      "  blockHash: '0x285078b0e8694b04734522706d3628992468b7e24b1a6dfa187394da4ee9aa70',\n",
      "  blockNumber: 15,\n",
      "  from: '0x53a2daae7b69138ff57cbbc2f94866bf72f8b9bf',\n",
      "  to: '0x7b2d4edaf10bb0aac517e8699878239d64d2817a',\n",
      "  gasUsed: 21000,\n",
      "  cumulativeGasUsed: 21000,\n",
      "  contractAddress: null,\n",
      "  logs: [],\n",
      "  status: true,\n",
      "  logsBloom: '0x00000000000000000000000000000000000000000000000000000000000000000000000000000000000000000000000000000000000000000000000000000000000000000000000000000000000000000000000000000000000000000000000000000000000000000000000000000000000000000000000000000000000000000000000000000000000000000000000000000000000000000000000000000000000000000000000000000000000000000000000000000000000000000000000000000000000000000000000000000000000000000000000000000000000000000000000000000000000000000000000000000000000000000000000000000000',\n",
      "  v: '0x2d46',\n",
      "  r: '0x259ac5429e5056d22163f8c26f90e6a4df823d27a4d9cd2ca74ca30bf79a622f',\n",
      "  s: '0x6c0078e5fd709e9adbffd372217eab242b56bed4544f4e9aaaf9fe9b7dfbab8b'\n",
      "}\n"
     ]
    }
   ],
   "source": [
    "var rawTx3 = {\n",
    "    to:list[1],\n",
    "    value:web3.utils.toHex(web3.utils.toWei('0.15','ether')),\n",
    "    gas:2000000, //\"gas is missing\"\n",
    "}\n",
    "web3.eth.accounts.signTransaction(rawTx3, privatekey).then(signed => {\n",
    "    web3.eth.sendSignedTransaction(signed.rawTransaction).on('receipt', console.log)\n",
    "});"
   ]
  },
  {
   "cell_type": "code",
   "execution_count": 63,
   "metadata": {},
   "outputs": [
    {
     "name": "stdout",
     "output_type": "stream",
     "text": [
      "{\n",
      "  transactionHash: '0xf2d0680e74b823db604bc2e4a121a69b267cdb8b598a87c104840c4369a6ca1f',\n",
      "  transactionIndex: 0,\n",
      "  blockHash: '0x7da98924da9951aa893a9c9fa710e790fbefaccea3183b8895caf5b2054c46b0',\n",
      "  blockNumber: 16,\n",
      "  from: '0x53a2daae7b69138ff57cbbc2f94866bf72f8b9bf',\n",
      "  to: '0x7b2d4edaf10bb0aac517e8699878239d64d2817a',\n",
      "  gasUsed: 21000,\n",
      "  cumulativeGasUsed: 21000,\n",
      "  contractAddress: null,\n",
      "  logs: [],\n",
      "  status: true,\n",
      "  logsBloom: '0x00000000000000000000000000000000000000000000000000000000000000000000000000000000000000000000000000000000000000000000000000000000000000000000000000000000000000000000000000000000000000000000000000000000000000000000000000000000000000000000000000000000000000000000000000000000000000000000000000000000000000000000000000000000000000000000000000000000000000000000000000000000000000000000000000000000000000000000000000000000000000000000000000000000000000000000000000000000000000000000000000000000000000000000000000000000',\n",
      "  v: '0x2d46',\n",
      "  r: '0x794c1078db04556378425e424b877137251f23aff80cade697cfdd2748567e21',\n",
      "  s: '0x6cd31cd6306b6a487aee7177472b991f2647a454f2bbbd955b27cc3ed1e9b372'\n",
      "}\n"
     ]
    }
   ],
   "source": [
    "var rawTx4 = {\n",
    "    to:list[1],\n",
    "    gas:2000000, //\"gas is missing\"\n",
    "}\n",
    "web3.eth.accounts.signTransaction(rawTx4, privatekey).then(signed => {\n",
    "    web3.eth.sendSignedTransaction(signed.rawTransaction).on('receipt', console.log)\n",
    "});"
   ]
  },
  {
   "cell_type": "markdown",
   "metadata": {},
   "source": [
    "## Interact with SC"
   ]
  },
  {
   "cell_type": "code",
   "execution_count": 64,
   "metadata": {},
   "outputs": [
    {
     "data": {
      "text/plain": [
       "'pragma solidity ^0.5.0;\\n\\ncontract Calc{\\n\\n  uint result;\\n\\n\\n ' +\n",
       "  ' function add(uint a, uint b) public returns(uint){\\n    ' +\n",
       "  'result = a + b;\\n    return result;\\n  }\\n\\n\\n  function ' +\n",
       "  'getCount() public view returns (uint){\\n    return result;\\n ' +\n",
       "  ' }\\n}'"
      ]
     },
     "execution_count": 64,
     "metadata": {},
     "output_type": "execute_result"
    }
   ],
   "source": [
    "//读取sol文件\n",
    "var fs = require('fs');\n",
    "var data = fs.readFileSync('add.sol','UTF-8'); //添加‘UTF-8’之后，得到字符串\n",
    "data"
   ]
  },
  {
   "cell_type": "code",
   "execution_count": 65,
   "metadata": {},
   "outputs": [],
   "source": [
    "var input = {\n",
    "    language: 'Solidity',\n",
    "    sources: {\n",
    "        'add.sol' : {\n",
    "            content: data\n",
    "        }\n",
    "    },\n",
    "    settings: {\n",
    "        outputSelection: {\n",
    "            '*': {\n",
    "                '*': [ '*' ]\n",
    "            }\n",
    "        }\n",
    "    }\n",
    "};"
   ]
  },
  {
   "cell_type": "markdown",
   "metadata": {},
   "source": [
    "### Compile SC \n",
    "npm install -g solc    "
   ]
  },
  {
   "cell_type": "code",
   "execution_count": 66,
   "metadata": {},
   "outputs": [],
   "source": [
    "var solc = require('solc')"
   ]
  },
  {
   "cell_type": "code",
   "execution_count": 67,
   "metadata": {},
   "outputs": [
    {
     "data": {
      "text/plain": [
       "{\n",
       "  contracts: { 'add.sol': { Calc: [Object] } },\n",
       "  sources: { 'add.sol': { id: 0 } }\n",
       "}"
      ]
     },
     "execution_count": 67,
     "metadata": {},
     "output_type": "execute_result"
    }
   ],
   "source": [
    "var output = JSON.parse(solc.compile(JSON.stringify(input)));\n",
    "output"
   ]
  },
  {
   "cell_type": "code",
   "execution_count": 68,
   "metadata": {},
   "outputs": [
    {
     "data": {
      "text/plain": [
       "'608060405234801561001057600080fd5b5060f08061001f6000396000f3fe6080604052348015600f57600080fd5b506004361060325760003560e01c8063771602f7146037578063a87d942c146080575b600080fd5b606a60048036036040811015604b57600080fd5b810190808035906020019092919080359060200190929190505050609c565b6040518082815260200191505060405180910390f35b608660b2565b6040518082815260200191505060405180910390f35b6000818301600081905550600054905092915050565b6000805490509056fea265627a7a723158208db16baf38ecc1c01a9acbd39dd828a73f3541e02215320a3630527772f6957864736f6c634300050b0032'"
      ]
     },
     "execution_count": 68,
     "metadata": {},
     "output_type": "execute_result"
    }
   ],
   "source": [
    "// 一定要使用'0x'+ object\n",
    "var bytecode = output.contracts['add.sol']['Calc'].evm.bytecode.object\n",
    "bytecode"
   ]
  },
  {
   "cell_type": "code",
   "execution_count": 69,
   "metadata": {},
   "outputs": [
    {
     "data": {
      "text/plain": [
       "[\n",
       "  {\n",
       "    constant: false,\n",
       "    inputs: [ [Object], [Object] ],\n",
       "    name: 'add',\n",
       "    outputs: [ [Object] ],\n",
       "    payable: false,\n",
       "    stateMutability: 'nonpayable',\n",
       "    type: 'function'\n",
       "  },\n",
       "  {\n",
       "    constant: true,\n",
       "    inputs: [],\n",
       "    name: 'getCount',\n",
       "    outputs: [ [Object] ],\n",
       "    payable: false,\n",
       "    stateMutability: 'view',\n",
       "    type: 'function'\n",
       "  }\n",
       "]"
      ]
     },
     "execution_count": 69,
     "metadata": {},
     "output_type": "execute_result"
    }
   ],
   "source": [
    "var abi = output.contracts['add.sol']['Calc'].abi\n",
    "abi "
   ]
  },
  {
   "cell_type": "markdown",
   "metadata": {},
   "source": [
    "### Deploy SC"
   ]
  },
  {
   "cell_type": "code",
   "execution_count": 70,
   "metadata": {},
   "outputs": [],
   "source": [
    "// 创建合约对象\n",
    "var calcContract = new web3.eth.Contract(abi,null,{\n",
    "    data:'0x' + bytecode,\n",
    "    gas:6000000\n",
    "})"
   ]
  },
  {
   "cell_type": "code",
   "execution_count": 79,
   "metadata": {},
   "outputs": [
    {
     "name": "stdout",
     "output_type": "stream",
     "text": [
      "transactionHash :0x2df57c11b444cb9c4f2bff846000f08f295bc6c5866e7593c8fc5de6b22afe3e\n",
      "0x73DA038fa2190C597e7FB48423FA2024Ae46aD90\n"
     ]
    },
    {
     "data": {
      "text/plain": [
       "Contract {\n",
       "  currentProvider: [Getter/Setter],\n",
       "  _requestManager: RequestManager {\n",
       "    provider: HttpProvider {\n",
       "      host: 'HTTP://127.0.0.1:7545',\n",
       "      httpAgent: [Agent],\n",
       "      timeout: 0,\n",
       "      headers: undefined,\n",
       "      connected: true\n",
       "    },\n",
       "    providers: {\n",
       "      WebsocketProvider: [Function: WebsocketProvider],\n",
       "      HttpProvider: [Function: HttpProvider],\n",
       "      IpcProvider: [Function: IpcProvider]\n",
       "    },\n",
       "    subscriptions: {}\n",
       "  },\n",
       "  givenProvider: null,\n",
       "  providers: {\n",
       "    WebsocketProvider: [Function: WebsocketProvider],\n",
       "    HttpProvider: [Function: HttpProvider],\n",
       "    IpcProvider: [Function: IpcProvider]\n",
       "  },\n",
       "  _provider: HttpProvider {\n",
       "    host: 'HTTP://127.0.0.1:7545',\n",
       "    httpAgent: Agent {\n",
       "      _events: [Object],\n",
       "      _eventsCount: 1,\n",
       "      _maxListeners: undefined,\n",
       "      defaultPort: 80,\n",
       "      protocol: 'http:',\n",
       "      options: [Object],\n",
       "      requests: {},\n",
       "      sockets: {},\n",
       "      freeSockets: [Object],\n",
       "      keepAliveMsecs: 1000,\n",
       "      keepAlive: true,\n",
       "      maxSockets: Infinity,\n",
       "      maxFreeSockets: 256\n",
       "    },\n",
       "    timeout: 0,\n",
       "    headers: undefined,\n",
       "    connected: true\n",
       "  },\n",
       "  setProvider: [Function],\n",
       "  BatchRequest: [Function: bound Batch],\n",
       "  extend: [Function: ex] {\n",
       "    formatters: {\n",
       "      inputDefaultBlockNumberFormatter: [Function: inputDefaultBlockNumberFormatter],\n",
       "      inputBlockNumberFormatter: [Function: inputBlockNumberFormatter],\n",
       "      inputCallFormatter: [Function: inputCallFormatter],\n",
       "      inputTransactionFormatter: [Function: inputTransactionFormatter],\n",
       "      inputAddressFormatter: [Function: inputAddressFormatter],\n",
       "      inputPostFormatter: [Function: inputPostFormatter],\n",
       "      inputLogFormatter: [Function: inputLogFormatter],\n",
       "      inputSignFormatter: [Function: inputSignFormatter],\n",
       "      outputBigNumberFormatter: [Function: outputBigNumberFormatter],\n",
       "      outputTransactionFormatter: [Function: outputTransactionFormatter],\n",
       "      outputTransactionReceiptFormatter: [Function: outputTransactionReceiptFormatter],\n",
       "      outputBlockFormatter: [Function: outputBlockFormatter],\n",
       "      outputLogFormatter: [Function: outputLogFormatter],\n",
       "      outputPostFormatter: [Function: outputPostFormatter],\n",
       "      outputSyncingFormatter: [Function: outputSyncingFormatter]\n",
       "    },\n",
       "    utils: {\n",
       "      _fireError: [Function: _fireError],\n",
       "      _jsonInterfaceMethodToString: [Function: _jsonInterfaceMethodToString],\n",
       "      _flattenTypes: [Function: _flattenTypes],\n",
       "      randomHex: [Function: randomHex],\n",
       "      _: [Function],\n",
       "      BN: [Function],\n",
       "      isBN: [Function: isBN],\n",
       "      isBigNumber: [Function: isBigNumber],\n",
       "      isHex: [Function: isHex],\n",
       "      isHexStrict: [Function: isHexStrict],\n",
       "      sha3: [Function],\n",
       "      keccak256: [Function],\n",
       "      soliditySha3: [Function: soliditySha3],\n",
       "      isAddress: [Function: isAddress],\n",
       "      checkAddressChecksum: [Function: checkAddressChecksum],\n",
       "      toChecksumAddress: [Function: toChecksumAddress],\n",
       "      toHex: [Function: toHex],\n",
       "      toBN: [Function: toBN],\n",
       "      bytesToHex: [Function: bytesToHex],\n",
       "      hexToBytes: [Function: hexToBytes],\n",
       "      hexToNumberString: [Function: hexToNumberString],\n",
       "      hexToNumber: [Function: hexToNumber],\n",
       "      toDecimal: [Function: hexToNumber],\n",
       "      numberToHex: [Function: numberToHex],\n",
       "      fromDecimal: [Function: numberToHex],\n",
       "      hexToUtf8: [Function: hexToUtf8],\n",
       "      hexToString: [Function: hexToUtf8],\n",
       "      toUtf8: [Function: hexToUtf8],\n",
       "      utf8ToHex: [Function: utf8ToHex],\n",
       "      stringToHex: [Function: utf8ToHex],\n",
       "      fromUtf8: [Function: utf8ToHex],\n",
       "      hexToAscii: [Function: hexToAscii],\n",
       "      toAscii: [Function: hexToAscii],\n",
       "      asciiToHex: [Function: asciiToHex],\n",
       "      fromAscii: [Function: asciiToHex],\n",
       "      unitMap: [Object],\n",
       "      toWei: [Function: toWei],\n",
       "      fromWei: [Function: fromWei],\n",
       "      padLeft: [Function: leftPad],\n",
       "      leftPad: [Function: leftPad],\n",
       "      padRight: [Function: rightPad],\n",
       "      rightPad: [Function: rightPad],\n",
       "      toTwosComplement: [Function: toTwosComplement]\n",
       "    },\n",
       "    Method: [Function: Method]\n",
       "  },\n",
       "  clearSubscriptions: [Function],\n",
       "  options: {\n",
       "    data: '0x608060405234801561001057600080fd5b5060f08061001f6000396000f3fe6080604052348015600f57600080fd5b506004361060325760003560e01c8063771602f7146037578063a87d942c146080575b600080fd5b606a60048036036040811015604b57600080fd5b810190808035906020019092919080359060200190929190505050609c565b6040518082815260200191505060405180910390f35b608660b2565b6040518082815260200191505060405180910390f35b6000818301600081905550600054905092915050565b6000805490509056fea265627a7a723158208db16baf38ecc1c01a9acbd39dd828a73f3541e02215320a3630527772f6957864736f6c634300050b0032',\n",
       "    gas: 6000000,\n",
       "    from: undefined,\n",
       "    gasPrice: undefined,\n",
       "    address: [Getter/Setter],\n",
       "    jsonInterface: [Getter/Setter]\n",
       "  },\n",
       "  defaultAccount: [Getter/Setter],\n",
       "  defaultBlock: [Getter/Setter],\n",
       "  methods: {\n",
       "    add: [Function: bound _createTxObject],\n",
       "    '0x771602f7': [Function: bound _createTxObject],\n",
       "    'add(uint256,uint256)': [Function: bound _createTxObject],\n",
       "    getCount: [Function: bound _createTxObject],\n",
       "    '0xa87d942c': [Function: bound _createTxObject],\n",
       "    'getCount()': [Function: bound _createTxObject]\n",
       "  },\n",
       "  events: { allEvents: [Function: bound ] },\n",
       "  _address: '0x73DA038fa2190C597e7FB48423FA2024Ae46aD90',\n",
       "  _jsonInterface: [\n",
       "    {\n",
       "      constant: false,\n",
       "      inputs: [Array],\n",
       "      name: 'add',\n",
       "      outputs: [Array],\n",
       "      payable: false,\n",
       "      stateMutability: 'nonpayable',\n",
       "      type: 'function',\n",
       "      signature: '0x771602f7'\n",
       "    },\n",
       "    {\n",
       "      constant: true,\n",
       "      inputs: [],\n",
       "      name: 'getCount',\n",
       "      outputs: [Array],\n",
       "      payable: false,\n",
       "      stateMutability: 'view',\n",
       "      type: 'function',\n",
       "      signature: '0xa87d942c'\n",
       "    }\n",
       "  ]\n",
       "}"
      ]
     },
     "execution_count": 79,
     "metadata": {},
     "output_type": "execute_result"
    }
   ],
   "source": [
    "// 部署合约\n",
    "var contractAdd\n",
    "calcContract.deploy().send({\n",
    "    from: list[0]\n",
    "})\n",
    ".on('error', (error) => { \n",
    "    console.error(error)\n",
    " })\n",
    ".on('transactionHash', (transactionHash) => { \n",
    "//     tx_hash = transactionHash;\n",
    "    console.log(\"transactionHash :\" + transactionHash)\n",
    " })\n",
    ".on('receipt', (receipt) => {\n",
    "//    console.log(\"receipt:\"); \n",
    "//    console.log(receipt);\n",
    "   contractAdd = receipt.contractAddress; \n",
    "   console.log(receipt.contractAddress); \n",
    "})\n",
    "// console.log(contractAdd)"
   ]
  },
  {
   "cell_type": "markdown",
   "metadata": {},
   "source": [
    "### Invocke SC"
   ]
  },
  {
   "cell_type": "code",
   "execution_count": 80,
   "metadata": {},
   "outputs": [],
   "source": [
    "var contractInstance =new web3.eth.Contract(abi, contractAdd)"
   ]
  },
  {
   "cell_type": "code",
   "execution_count": 81,
   "metadata": {},
   "outputs": [
    {
     "data": {
      "text/plain": [
       "{\n",
       "  transactionHash: '0x803483d16cc049a0894183511548795138232ddae030dd4f7a0956c5d2acf52b',\n",
       "  transactionIndex: 0,\n",
       "  blockHash: '0x17ef88725a0ec2f170cb46f4cb95abd813e57ff8273ab237954ef259bd87f3bb',\n",
       "  blockNumber: 24,\n",
       "  from: '0x88215ddb47d850ad39a630280b80d5775c96a4ab',\n",
       "  to: '0x0ebe827b1fffe1f7d543e5c39ca24e2f2e5363b7',\n",
       "  gasUsed: 42183,\n",
       "  cumulativeGasUsed: 42183,\n",
       "  contractAddress: null,\n",
       "  status: true,\n",
       "  logsBloom: '0x00000000000000000000000000000000000000000000000000000000000000000000000000000000000000000000000000000000000000000000000000000000000000000000000000000000000000000000000000000000000000000000000000000000000000000000000000000000000000000000000000000000000000000000000000000000000000000000000000000000000000000000000000000000000000000000000000000000000000000000000000000000000000000000000000000000000000000000000000000000000000000000000000000000000000000000000000000000000000000000000000000000000000000000000000000000',\n",
       "  v: '0x1c',\n",
       "  r: '0x6061e7a6e13abe643601acb53e7a2b431acceacfd8fe3215391b3a177018a059',\n",
       "  s: '0x5de3304147796ac28e8f41f098f4120ad38cca211fda2c9dbf275f36c52acccc',\n",
       "  events: {}\n",
       "}"
      ]
     },
     "execution_count": 81,
     "metadata": {},
     "output_type": "execute_result"
    }
   ],
   "source": [
    "// Will send a transaction to the smart contract and execute its method. Note this can alter the smart contract state.\n",
    "contractInstance.methods.add(8,9).send({\n",
    "    from:list[3]\n",
    "})"
   ]
  },
  {
   "cell_type": "code",
   "execution_count": 82,
   "metadata": {},
   "outputs": [
    {
     "data": {
      "text/plain": [
       "'17'"
      ]
     },
     "execution_count": 82,
     "metadata": {},
     "output_type": "execute_result"
    }
   ],
   "source": [
    "contractInstance.methods.getCount().call()"
   ]
  },
  {
   "cell_type": "code",
   "execution_count": null,
   "metadata": {},
   "outputs": [],
   "source": []
  }
 ],
 "metadata": {
  "kernelspec": {
   "display_name": "Javascript (Node.js)",
   "language": "javascript",
   "name": "javascript"
  },
  "language_info": {
   "file_extension": ".js",
   "mimetype": "application/javascript",
   "name": "javascript",
   "version": "12.2.0"
  },
  "toc": {
   "base_numbering": 1,
   "nav_menu": {},
   "number_sections": true,
   "sideBar": true,
   "skip_h1_title": false,
   "title_cell": "Table of Contents",
   "title_sidebar": "Contents",
   "toc_cell": false,
   "toc_position": {},
   "toc_section_display": true,
   "toc_window_display": true
  },
  "varInspector": {
   "cols": {
    "lenName": 16,
    "lenType": 16,
    "lenVar": 40
   },
   "kernels_config": {
    "python": {
     "delete_cmd_postfix": "",
     "delete_cmd_prefix": "del ",
     "library": "var_list.py",
     "varRefreshCmd": "print(var_dic_list())"
    },
    "r": {
     "delete_cmd_postfix": ") ",
     "delete_cmd_prefix": "rm(",
     "library": "var_list.r",
     "varRefreshCmd": "cat(var_dic_list()) "
    }
   },
   "types_to_exclude": [
    "module",
    "function",
    "builtin_function_or_method",
    "instance",
    "_Feature"
   ],
   "window_display": false
  }
 },
 "nbformat": 4,
 "nbformat_minor": 2
}
